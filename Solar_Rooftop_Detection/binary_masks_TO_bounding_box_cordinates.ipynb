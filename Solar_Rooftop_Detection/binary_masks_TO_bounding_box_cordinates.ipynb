{
 "cells": [
  {
   "cell_type": "code",
   "execution_count": 3,
   "metadata": {},
   "outputs": [],
   "source": [
    "import cv2\n",
    "import numpy as np"
   ]
  },
  {
   "cell_type": "code",
   "execution_count": 12,
   "metadata": {},
   "outputs": [],
   "source": [
    "def generate_bounding_boxes(mask_path):\n",
    "    # Load the binary mask image\n",
    "    mask = cv2.imread(mask_path, cv2.IMREAD_GRAYSCALE)\n",
    "\n",
    "    # Ensure the mask is binary\n",
    "    _, binary_mask = cv2.threshold(mask, 128, 255, cv2.THRESH_BINARY)\n",
    "    \n",
    "    cv2.imshow(\"mask_images_after_threshold\",binary_mask)\n",
    "    cv2.waitKey(0)\n",
    "    cv2.destroyAllWindows()\n",
    "\n",
    "    # Find contours\n",
    "    contours, _ = cv2.findContours(binary_mask, cv2.RETR_EXTERNAL, cv2.CHAIN_APPROX_SIMPLE)\n",
    "    print(len(contours))\n",
    "\n",
    "    # List to store bounding boxes\n",
    "    bounding_boxes = []\n",
    "\n",
    "    # Loop through contours and get bounding boxes\n",
    "    for contour in contours:\n",
    "        x, y, w, h = cv2.boundingRect(contour)\n",
    "        bounding_boxes.append((x, y, w, h))\n",
    "\n",
    "    return bounding_boxes"
   ]
  },
  {
   "cell_type": "code",
   "execution_count": 13,
   "metadata": {},
   "outputs": [
    {
     "data": {
      "text/plain": [
       "array([[0, 0, 0, ..., 0, 0, 0],\n",
       "       [0, 0, 0, ..., 0, 0, 0],\n",
       "       [0, 0, 0, ..., 0, 0, 0],\n",
       "       ...,\n",
       "       [0, 0, 0, ..., 0, 0, 0],\n",
       "       [0, 0, 0, ..., 0, 0, 0],\n",
       "       [0, 0, 0, ..., 0, 0, 0]], dtype=uint8)"
      ]
     },
     "execution_count": 13,
     "metadata": {},
     "output_type": "execute_result"
    }
   ],
   "source": [
    "mask_path = \"C:\\\\Users\\\\dhruv\\\\Documents\\\\DA-IICT\\\\Arpit_rana\\\\SAM_Model\\\\Codes\\\\Notebook\\\\images_1024\\\\masks\\\\0.jpg\"\n",
    "mask_image = cv2.imread(mask_path, cv2.IMREAD_GRAYSCALE)\n",
    "mask_image"
   ]
  },
  {
   "cell_type": "code",
   "execution_count": 14,
   "metadata": {},
   "outputs": [
    {
     "data": {
      "text/plain": [
       "array([  0,   1,   2,   3,   4,   5,   6,   7, 248, 249, 250, 251, 252,\n",
       "       253, 254, 255], dtype=uint8)"
      ]
     },
     "execution_count": 14,
     "metadata": {},
     "output_type": "execute_result"
    }
   ],
   "source": [
    "np.unique(mask_image)"
   ]
  },
  {
   "cell_type": "code",
   "execution_count": 15,
   "metadata": {},
   "outputs": [
    {
     "name": "stdout",
     "output_type": "stream",
     "text": [
      "45\n"
     ]
    }
   ],
   "source": [
    "bb_mask = generate_bounding_boxes(mask_path)"
   ]
  },
  {
   "cell_type": "code",
   "execution_count": 11,
   "metadata": {},
   "outputs": [
    {
     "data": {
      "text/plain": [
       "[(578, 1023, 2, 1),\n",
       " (298, 1007, 39, 17),\n",
       " (648, 975, 57, 45),\n",
       " (327, 973, 55, 49),\n",
       " (571, 954, 55, 40),\n",
       " (365, 926, 59, 51),\n",
       " (894, 923, 58, 65),\n",
       " (135, 905, 92, 98),\n",
       " (346, 892, 27, 26),\n",
       " (59, 886, 63, 86),\n",
       " (321, 877, 26, 19),\n",
       " (568, 874, 81, 60),\n",
       " (725, 868, 135, 150),\n",
       " (676, 838, 83, 68),\n",
       " (359, 833, 99, 95),\n",
       " (436, 819, 50, 55),\n",
       " (147, 814, 76, 60),\n",
       " (0, 806, 2, 4),\n",
       " (413, 805, 38, 21),\n",
       " (438, 752, 79, 58),\n",
       " (172, 751, 74, 68),\n",
       " (458, 686, 75, 68),\n",
       " (262, 677, 105, 120),\n",
       " (396, 658, 47, 53),\n",
       " (0, 620, 58, 79),\n",
       " (289, 584, 73, 100),\n",
       " (46, 543, 19, 24),\n",
       " (79, 476, 80, 99),\n",
       " (0, 456, 33, 70),\n",
       " (1016, 426, 8, 18),\n",
       " (737, 306, 121, 101),\n",
       " (969, 296, 55, 113),\n",
       " (847, 261, 118, 175),\n",
       " (662, 182, 72, 86),\n",
       " (970, 103, 54, 62),\n",
       " (542, 100, 69, 85),\n",
       " (858, 43, 60, 74),\n",
       " (284, 26, 117, 101),\n",
       " (789, 21, 48, 54),\n",
       " (991, 0, 10, 5),\n",
       " (809, 0, 44, 27),\n",
       " (695, 0, 55, 30),\n",
       " (335, 0, 120, 50),\n",
       " (195, 0, 35, 15),\n",
       " (105, 0, 32, 13)]"
      ]
     },
     "execution_count": 11,
     "metadata": {},
     "output_type": "execute_result"
    }
   ],
   "source": [
    "bb_mask"
   ]
  },
  {
   "cell_type": "code",
   "execution_count": 16,
   "metadata": {},
   "outputs": [
    {
     "data": {
      "text/plain": [
       "(1024, 1024, 3)"
      ]
     },
     "execution_count": 16,
     "metadata": {},
     "output_type": "execute_result"
    }
   ],
   "source": [
    "image = cv2.imread(\"C:\\\\Users\\\\dhruv\\\\Documents\\\\DA-IICT\\\\Arpit_rana\\\\SAM_Model\\\\Codes\\\\Notebook\\\\images_1024\\\\images\\\\0.jpg\")\n",
    "image.shape"
   ]
  },
  {
   "cell_type": "code",
   "execution_count": 19,
   "metadata": {},
   "outputs": [],
   "source": [
    "def plot_bounding_box(image, bounding_boxs):\n",
    "    demo = image.copy()\n",
    "\n",
    "    for bb in bounding_boxs:\n",
    "        x,y,w,h = bb\n",
    "        cv2.rectangle(demo, (x,y),(x+w,y+h), (255,0,0), 2)\n",
    "\n",
    "    cv2.imshow(\"draw_bounding_box\", demo)\n",
    "    cv2.waitKey(0)\n",
    "    cv2.destroyAllWindows()    \n"
   ]
  },
  {
   "cell_type": "code",
   "execution_count": 20,
   "metadata": {},
   "outputs": [],
   "source": [
    "plot_bounding_box(image,bb_mask)"
   ]
  },
  {
   "cell_type": "code",
   "execution_count": null,
   "metadata": {},
   "outputs": [],
   "source": []
  }
 ],
 "metadata": {
  "kernelspec": {
   "display_name": "dl_env",
   "language": "python",
   "name": "python3"
  },
  "language_info": {
   "codemirror_mode": {
    "name": "ipython",
    "version": 3
   },
   "file_extension": ".py",
   "mimetype": "text/x-python",
   "name": "python",
   "nbconvert_exporter": "python",
   "pygments_lexer": "ipython3",
   "version": "3.10.0"
  }
 },
 "nbformat": 4,
 "nbformat_minor": 2
}
