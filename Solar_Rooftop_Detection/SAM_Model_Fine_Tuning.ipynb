{
 "cells": [
  {
   "cell_type": "code",
   "execution_count": 2,
   "metadata": {},
   "outputs": [],
   "source": [
    "import torch\n",
    "import torchvision\n",
    "import cv2\n",
    "import numpy as np\n",
    "import matplotlib.pyplot as plt\n",
    "import pandas as pd\n",
    "from PIL import Image\n",
    "import os\n",
    "import datetime, time"
   ]
  },
  {
   "cell_type": "code",
   "execution_count": 3,
   "metadata": {},
   "outputs": [
    {
     "data": {
      "text/plain": [
       "'/home/student/Documents/Arpit_sir/SOLAR/CodeFiles/dhruv_git/Solar_Rooftop_Detection/Solar_Rooftop_Detection'"
      ]
     },
     "execution_count": 3,
     "metadata": {},
     "output_type": "execute_result"
    }
   ],
   "source": [
    "os.getcwd()"
   ]
  },
  {
   "cell_type": "code",
   "execution_count": 4,
   "metadata": {},
   "outputs": [],
   "source": [
    "os.chdir(\"../\")"
   ]
  },
  {
   "cell_type": "code",
   "execution_count": 5,
   "metadata": {},
   "outputs": [
    {
     "name": "stdout",
     "output_type": "stream",
     "text": [
      "number of images are: 2880\n"
     ]
    }
   ],
   "source": [
    "### create image path lists\n",
    "## images folder \n",
    "images_path = os.path.join(os.getcwd(),\"Arial_images_1024_1024/images\")\n",
    "print(f\"number of images are: {len(os.listdir(images_path))}\")\n",
    "\n",
    "## creating images list in which we are storing our images path\n",
    "images = []\n",
    "\n",
    "# for i in range(len(os.listdir(images_path))):\n",
    "for i in range(6):\n",
    "    images.append(f\"{os.path.join(images_path,os.listdir(images_path)[i])}\")\n",
    "\n",
    "\n",
    "# print(images)"
   ]
  },
  {
   "cell_type": "code",
   "execution_count": 6,
   "metadata": {},
   "outputs": [
    {
     "data": {
      "text/plain": [
       "6"
      ]
     },
     "execution_count": 6,
     "metadata": {},
     "output_type": "execute_result"
    }
   ],
   "source": [
    "len(images)"
   ]
  },
  {
   "cell_type": "code",
   "execution_count": 7,
   "metadata": {},
   "outputs": [],
   "source": [
    "img_1 = images[0]\n",
    "im = cv2.imread(img_1)\n",
    "\n",
    "cv2.imshow(\"Demo-Image\",im)\n",
    "cv2.waitKey(10000)\n",
    "cv2.destroyAllWindows()"
   ]
  },
  {
   "cell_type": "code",
   "execution_count": 8,
   "metadata": {},
   "outputs": [],
   "source": [
    "cv2.destroyAllWindows()"
   ]
  },
  {
   "cell_type": "code",
   "execution_count": 9,
   "metadata": {},
   "outputs": [
    {
     "name": "stdout",
     "output_type": "stream",
     "text": [
      "number of masks are: 2880\n",
      "6\n"
     ]
    }
   ],
   "source": [
    "## the same way lets create list of masks\n",
    "masks_path = os.path.join(os.getcwd(),\"Arial_images_1024_1024/masks\")\n",
    "print(f\"number of masks are: {len(os.listdir(masks_path))}\")\n",
    "\n",
    "## creating masks list in which we are storing our masks path\n",
    "masks = []\n",
    "\n",
    "# for i in range(len(os.listdir(masks_path))):\n",
    "for i in range(6):\n",
    "    masks.append(f\"{os.path.join(masks_path,os.listdir(masks_path)[i])}\")\n",
    "\n",
    "print(len(masks))"
   ]
  },
  {
   "cell_type": "code",
   "execution_count": 10,
   "metadata": {},
   "outputs": [
    {
     "data": {
      "text/plain": [
       "'/home/student/Documents/Arpit_sir/SOLAR/CodeFiles/dhruv_git/Solar_Rooftop_Detection'"
      ]
     },
     "execution_count": 10,
     "metadata": {},
     "output_type": "execute_result"
    }
   ],
   "source": [
    "os.getcwd()"
   ]
  },
  {
   "cell_type": "code",
   "execution_count": 11,
   "metadata": {},
   "outputs": [
    {
     "data": {
      "text/plain": [
       "['Solar_Rooftop_Detection',\n",
       " 'sam_vit_b.pth',\n",
       " 'ReadMe.MD',\n",
       " 'logs',\n",
       " 'Arial_images_1024_1024',\n",
       " 'checkpoints',\n",
       " '.git']"
      ]
     },
     "execution_count": 11,
     "metadata": {},
     "output_type": "execute_result"
    }
   ],
   "source": [
    "os.listdir()"
   ]
  },
  {
   "cell_type": "code",
   "execution_count": 12,
   "metadata": {},
   "outputs": [],
   "source": [
    "from Solar_Rooftop_Detection.get_bounding_box_cordinates import bounding_box"
   ]
  },
  {
   "cell_type": "code",
   "execution_count": 13,
   "metadata": {},
   "outputs": [
    {
     "name": "stderr",
     "output_type": "stream",
     "text": [
      "SAM_logger.py - 14-Feb-2025 18:30:17 - INFO - <module> - Line 25 - SAM model Logger has been started.\n"
     ]
    }
   ],
   "source": [
    "from Solar_Rooftop_Detection.SAM_logger import sam_logger"
   ]
  },
  {
   "cell_type": "code",
   "execution_count": 14,
   "metadata": {},
   "outputs": [
    {
     "name": "stderr",
     "output_type": "stream",
     "text": [
      "2265001132.py - 14-Feb-2025 18:30:18 - INFO - <module> - Line 1 - SAM Logger initialized\n"
     ]
    }
   ],
   "source": [
    "sam_logger.info(\"SAM Logger initialized\")"
   ]
  },
  {
   "cell_type": "code",
   "execution_count": 15,
   "metadata": {},
   "outputs": [],
   "source": [
    "## this dictionary contain image_path as key and as vlaues it store the list of bounding box cordinates.\n",
    "bounding_boxes = {}\n",
    "\n",
    "for i in range(len(images)):\n",
    "    mask_img = cv2.imread(masks[i], cv2.IMREAD_GRAYSCALE)\n",
    "    bounding_boxes[images[i]] = bounding_box(mask_img)\n",
    "\n",
    "# print(len(bounding_boxes))"
   ]
  },
  {
   "cell_type": "code",
   "execution_count": 16,
   "metadata": {},
   "outputs": [],
   "source": [
    "## now create custom Datset\n",
    "from torch.utils.data import Dataset, DataLoader\n",
    "\n",
    "class my_dataset(Dataset):\n",
    "    def __init__(self, image_paths, mask_paths):\n",
    "        self.image_paths = image_paths\n",
    "        self.mask_paths = mask_paths\n",
    "\n",
    "    def __len__(self):\n",
    "        return len(self.image_paths)\n",
    "\n",
    "    def __getitem__(self, idx):\n",
    "        image_path = self.image_paths[idx]\n",
    "        image = cv2.imread(image_path)\n",
    "        image = cv2.resize(image, (1024, 1024))\n",
    "        \n",
    "        # Convert image to RGB format\n",
    "        image = cv2.cvtColor(image, cv2.COLOR_BGR2RGB)\n",
    "\n",
    "        ## Load and preprocess the binary mask(1 channel)\n",
    "        mask_path = self.mask_paths[idx]\n",
    "        mask = cv2.imread(mask_path, cv2.IMREAD_GRAYSCALE)\n",
    "        mask = cv2.resize(mask, (1024,1024))\n",
    "\n",
    "        ## Convert image and mask to torch tensor \n",
    "        image = torch.tensor(image).permute(2,0,1).float()/255.0\n",
    "        mask = torch.tensor(mask)\n",
    "\n",
    "        return image, mask"
   ]
  },
  {
   "cell_type": "code",
   "execution_count": 17,
   "metadata": {},
   "outputs": [],
   "source": [
    "dataset = my_dataset(images, masks)"
   ]
  },
  {
   "cell_type": "code",
   "execution_count": 18,
   "metadata": {},
   "outputs": [
    {
     "data": {
      "text/plain": [
       "<torch.utils.data.dataloader.DataLoader at 0x7de37af66c50>"
      ]
     },
     "execution_count": 18,
     "metadata": {},
     "output_type": "execute_result"
    }
   ],
   "source": [
    "### Now implement Data Loader\n",
    "data_loader = DataLoader(dataset=dataset, batch_size=2, shuffle=True)\n",
    "data_loader"
   ]
  },
  {
   "cell_type": "code",
   "execution_count": 19,
   "metadata": {},
   "outputs": [],
   "source": [
    "from segment_anything import build_sam_vit_b"
   ]
  },
  {
   "cell_type": "code",
   "execution_count": 20,
   "metadata": {},
   "outputs": [],
   "source": [
    "## run only when you dont have vit-b model in you local machine\n",
    "# !wget https://dl.fbaipublicfiles.com/segment_anything/sam_vit_b_01ec64.pth -O sam_vit_b.pth"
   ]
  },
  {
   "cell_type": "code",
   "execution_count": 21,
   "metadata": {},
   "outputs": [
    {
     "name": "stderr",
     "output_type": "stream",
     "text": [
      "/home/student/Documents/Arpit_sir/solar_vnv/lib/python3.10/site-packages/segment_anything/build_sam.py:105: FutureWarning: You are using `torch.load` with `weights_only=False` (the current default value), which uses the default pickle module implicitly. It is possible to construct malicious pickle data which will execute arbitrary code during unpickling (See https://github.com/pytorch/pytorch/blob/main/SECURITY.md#untrusted-models for more details). In a future release, the default value for `weights_only` will be flipped to `True`. This limits the functions that could be executed during unpickling. Arbitrary objects will no longer be allowed to be loaded via this mode unless they are explicitly allowlisted by the user via `torch.serialization.add_safe_globals`. We recommend you start setting `weights_only=True` for any use case where you don't have full control of the loaded file. Please open an issue on GitHub for any issues related to this experimental feature.\n",
      "  state_dict = torch.load(f)\n"
     ]
    },
    {
     "data": {
      "text/plain": [
       "Sam(\n",
       "  (image_encoder): ImageEncoderViT(\n",
       "    (patch_embed): PatchEmbed(\n",
       "      (proj): Conv2d(3, 768, kernel_size=(16, 16), stride=(16, 16))\n",
       "    )\n",
       "    (blocks): ModuleList(\n",
       "      (0-11): 12 x Block(\n",
       "        (norm1): LayerNorm((768,), eps=1e-06, elementwise_affine=True)\n",
       "        (attn): Attention(\n",
       "          (qkv): Linear(in_features=768, out_features=2304, bias=True)\n",
       "          (proj): Linear(in_features=768, out_features=768, bias=True)\n",
       "        )\n",
       "        (norm2): LayerNorm((768,), eps=1e-06, elementwise_affine=True)\n",
       "        (mlp): MLPBlock(\n",
       "          (lin1): Linear(in_features=768, out_features=3072, bias=True)\n",
       "          (lin2): Linear(in_features=3072, out_features=768, bias=True)\n",
       "          (act): GELU(approximate='none')\n",
       "        )\n",
       "      )\n",
       "    )\n",
       "    (neck): Sequential(\n",
       "      (0): Conv2d(768, 256, kernel_size=(1, 1), stride=(1, 1), bias=False)\n",
       "      (1): LayerNorm2d()\n",
       "      (2): Conv2d(256, 256, kernel_size=(3, 3), stride=(1, 1), padding=(1, 1), bias=False)\n",
       "      (3): LayerNorm2d()\n",
       "    )\n",
       "  )\n",
       "  (prompt_encoder): PromptEncoder(\n",
       "    (pe_layer): PositionEmbeddingRandom()\n",
       "    (point_embeddings): ModuleList(\n",
       "      (0-3): 4 x Embedding(1, 256)\n",
       "    )\n",
       "    (not_a_point_embed): Embedding(1, 256)\n",
       "    (mask_downscaling): Sequential(\n",
       "      (0): Conv2d(1, 4, kernel_size=(2, 2), stride=(2, 2))\n",
       "      (1): LayerNorm2d()\n",
       "      (2): GELU(approximate='none')\n",
       "      (3): Conv2d(4, 16, kernel_size=(2, 2), stride=(2, 2))\n",
       "      (4): LayerNorm2d()\n",
       "      (5): GELU(approximate='none')\n",
       "      (6): Conv2d(16, 256, kernel_size=(1, 1), stride=(1, 1))\n",
       "    )\n",
       "    (no_mask_embed): Embedding(1, 256)\n",
       "  )\n",
       "  (mask_decoder): MaskDecoder(\n",
       "    (transformer): TwoWayTransformer(\n",
       "      (layers): ModuleList(\n",
       "        (0-1): 2 x TwoWayAttentionBlock(\n",
       "          (self_attn): Attention(\n",
       "            (q_proj): Linear(in_features=256, out_features=256, bias=True)\n",
       "            (k_proj): Linear(in_features=256, out_features=256, bias=True)\n",
       "            (v_proj): Linear(in_features=256, out_features=256, bias=True)\n",
       "            (out_proj): Linear(in_features=256, out_features=256, bias=True)\n",
       "          )\n",
       "          (norm1): LayerNorm((256,), eps=1e-05, elementwise_affine=True)\n",
       "          (cross_attn_token_to_image): Attention(\n",
       "            (q_proj): Linear(in_features=256, out_features=128, bias=True)\n",
       "            (k_proj): Linear(in_features=256, out_features=128, bias=True)\n",
       "            (v_proj): Linear(in_features=256, out_features=128, bias=True)\n",
       "            (out_proj): Linear(in_features=128, out_features=256, bias=True)\n",
       "          )\n",
       "          (norm2): LayerNorm((256,), eps=1e-05, elementwise_affine=True)\n",
       "          (mlp): MLPBlock(\n",
       "            (lin1): Linear(in_features=256, out_features=2048, bias=True)\n",
       "            (lin2): Linear(in_features=2048, out_features=256, bias=True)\n",
       "            (act): ReLU()\n",
       "          )\n",
       "          (norm3): LayerNorm((256,), eps=1e-05, elementwise_affine=True)\n",
       "          (norm4): LayerNorm((256,), eps=1e-05, elementwise_affine=True)\n",
       "          (cross_attn_image_to_token): Attention(\n",
       "            (q_proj): Linear(in_features=256, out_features=128, bias=True)\n",
       "            (k_proj): Linear(in_features=256, out_features=128, bias=True)\n",
       "            (v_proj): Linear(in_features=256, out_features=128, bias=True)\n",
       "            (out_proj): Linear(in_features=128, out_features=256, bias=True)\n",
       "          )\n",
       "        )\n",
       "      )\n",
       "      (final_attn_token_to_image): Attention(\n",
       "        (q_proj): Linear(in_features=256, out_features=128, bias=True)\n",
       "        (k_proj): Linear(in_features=256, out_features=128, bias=True)\n",
       "        (v_proj): Linear(in_features=256, out_features=128, bias=True)\n",
       "        (out_proj): Linear(in_features=128, out_features=256, bias=True)\n",
       "      )\n",
       "      (norm_final_attn): LayerNorm((256,), eps=1e-05, elementwise_affine=True)\n",
       "    )\n",
       "    (iou_token): Embedding(1, 256)\n",
       "    (mask_tokens): Embedding(4, 256)\n",
       "    (output_upscaling): Sequential(\n",
       "      (0): ConvTranspose2d(256, 64, kernel_size=(2, 2), stride=(2, 2))\n",
       "      (1): LayerNorm2d()\n",
       "      (2): GELU(approximate='none')\n",
       "      (3): ConvTranspose2d(64, 32, kernel_size=(2, 2), stride=(2, 2))\n",
       "      (4): GELU(approximate='none')\n",
       "    )\n",
       "    (output_hypernetworks_mlps): ModuleList(\n",
       "      (0-3): 4 x MLP(\n",
       "        (layers): ModuleList(\n",
       "          (0-1): 2 x Linear(in_features=256, out_features=256, bias=True)\n",
       "          (2): Linear(in_features=256, out_features=32, bias=True)\n",
       "        )\n",
       "      )\n",
       "    )\n",
       "    (iou_prediction_head): MLP(\n",
       "      (layers): ModuleList(\n",
       "        (0-1): 2 x Linear(in_features=256, out_features=256, bias=True)\n",
       "        (2): Linear(in_features=256, out_features=4, bias=True)\n",
       "      )\n",
       "    )\n",
       "  )\n",
       ")"
      ]
     },
     "execution_count": 21,
     "metadata": {},
     "output_type": "execute_result"
    }
   ],
   "source": [
    "## initiallize the SAM model with vit-b configuration\n",
    "model = build_sam_vit_b(\"/home/student/Documents/Arpit_sir/SOLAR/CodeFiles/dhruv_git/Solar_Rooftop_Detection/sam_vit_b.pth\")\n",
    "model"
   ]
  },
  {
   "cell_type": "code",
   "execution_count": 22,
   "metadata": {},
   "outputs": [
    {
     "data": {
      "text/plain": [
       "Sam(\n",
       "  (image_encoder): ImageEncoderViT(\n",
       "    (patch_embed): PatchEmbed(\n",
       "      (proj): Conv2d(3, 768, kernel_size=(16, 16), stride=(16, 16))\n",
       "    )\n",
       "    (blocks): ModuleList(\n",
       "      (0-11): 12 x Block(\n",
       "        (norm1): LayerNorm((768,), eps=1e-06, elementwise_affine=True)\n",
       "        (attn): Attention(\n",
       "          (qkv): Linear(in_features=768, out_features=2304, bias=True)\n",
       "          (proj): Linear(in_features=768, out_features=768, bias=True)\n",
       "        )\n",
       "        (norm2): LayerNorm((768,), eps=1e-06, elementwise_affine=True)\n",
       "        (mlp): MLPBlock(\n",
       "          (lin1): Linear(in_features=768, out_features=3072, bias=True)\n",
       "          (lin2): Linear(in_features=3072, out_features=768, bias=True)\n",
       "          (act): GELU(approximate='none')\n",
       "        )\n",
       "      )\n",
       "    )\n",
       "    (neck): Sequential(\n",
       "      (0): Conv2d(768, 256, kernel_size=(1, 1), stride=(1, 1), bias=False)\n",
       "      (1): LayerNorm2d()\n",
       "      (2): Conv2d(256, 256, kernel_size=(3, 3), stride=(1, 1), padding=(1, 1), bias=False)\n",
       "      (3): LayerNorm2d()\n",
       "    )\n",
       "  )\n",
       "  (prompt_encoder): PromptEncoder(\n",
       "    (pe_layer): PositionEmbeddingRandom()\n",
       "    (point_embeddings): ModuleList(\n",
       "      (0-3): 4 x Embedding(1, 256)\n",
       "    )\n",
       "    (not_a_point_embed): Embedding(1, 256)\n",
       "    (mask_downscaling): Sequential(\n",
       "      (0): Conv2d(1, 4, kernel_size=(2, 2), stride=(2, 2))\n",
       "      (1): LayerNorm2d()\n",
       "      (2): GELU(approximate='none')\n",
       "      (3): Conv2d(4, 16, kernel_size=(2, 2), stride=(2, 2))\n",
       "      (4): LayerNorm2d()\n",
       "      (5): GELU(approximate='none')\n",
       "      (6): Conv2d(16, 256, kernel_size=(1, 1), stride=(1, 1))\n",
       "    )\n",
       "    (no_mask_embed): Embedding(1, 256)\n",
       "  )\n",
       "  (mask_decoder): MaskDecoder(\n",
       "    (transformer): TwoWayTransformer(\n",
       "      (layers): ModuleList(\n",
       "        (0-1): 2 x TwoWayAttentionBlock(\n",
       "          (self_attn): Attention(\n",
       "            (q_proj): Linear(in_features=256, out_features=256, bias=True)\n",
       "            (k_proj): Linear(in_features=256, out_features=256, bias=True)\n",
       "            (v_proj): Linear(in_features=256, out_features=256, bias=True)\n",
       "            (out_proj): Linear(in_features=256, out_features=256, bias=True)\n",
       "          )\n",
       "          (norm1): LayerNorm((256,), eps=1e-05, elementwise_affine=True)\n",
       "          (cross_attn_token_to_image): Attention(\n",
       "            (q_proj): Linear(in_features=256, out_features=128, bias=True)\n",
       "            (k_proj): Linear(in_features=256, out_features=128, bias=True)\n",
       "            (v_proj): Linear(in_features=256, out_features=128, bias=True)\n",
       "            (out_proj): Linear(in_features=128, out_features=256, bias=True)\n",
       "          )\n",
       "          (norm2): LayerNorm((256,), eps=1e-05, elementwise_affine=True)\n",
       "          (mlp): MLPBlock(\n",
       "            (lin1): Linear(in_features=256, out_features=2048, bias=True)\n",
       "            (lin2): Linear(in_features=2048, out_features=256, bias=True)\n",
       "            (act): ReLU()\n",
       "          )\n",
       "          (norm3): LayerNorm((256,), eps=1e-05, elementwise_affine=True)\n",
       "          (norm4): LayerNorm((256,), eps=1e-05, elementwise_affine=True)\n",
       "          (cross_attn_image_to_token): Attention(\n",
       "            (q_proj): Linear(in_features=256, out_features=128, bias=True)\n",
       "            (k_proj): Linear(in_features=256, out_features=128, bias=True)\n",
       "            (v_proj): Linear(in_features=256, out_features=128, bias=True)\n",
       "            (out_proj): Linear(in_features=128, out_features=256, bias=True)\n",
       "          )\n",
       "        )\n",
       "      )\n",
       "      (final_attn_token_to_image): Attention(\n",
       "        (q_proj): Linear(in_features=256, out_features=128, bias=True)\n",
       "        (k_proj): Linear(in_features=256, out_features=128, bias=True)\n",
       "        (v_proj): Linear(in_features=256, out_features=128, bias=True)\n",
       "        (out_proj): Linear(in_features=128, out_features=256, bias=True)\n",
       "      )\n",
       "      (norm_final_attn): LayerNorm((256,), eps=1e-05, elementwise_affine=True)\n",
       "    )\n",
       "    (iou_token): Embedding(1, 256)\n",
       "    (mask_tokens): Embedding(4, 256)\n",
       "    (output_upscaling): Sequential(\n",
       "      (0): ConvTranspose2d(256, 64, kernel_size=(2, 2), stride=(2, 2))\n",
       "      (1): LayerNorm2d()\n",
       "      (2): GELU(approximate='none')\n",
       "      (3): ConvTranspose2d(64, 32, kernel_size=(2, 2), stride=(2, 2))\n",
       "      (4): GELU(approximate='none')\n",
       "    )\n",
       "    (output_hypernetworks_mlps): ModuleList(\n",
       "      (0-3): 4 x MLP(\n",
       "        (layers): ModuleList(\n",
       "          (0-1): 2 x Linear(in_features=256, out_features=256, bias=True)\n",
       "          (2): Linear(in_features=256, out_features=32, bias=True)\n",
       "        )\n",
       "      )\n",
       "    )\n",
       "    (iou_prediction_head): MLP(\n",
       "      (layers): ModuleList(\n",
       "        (0-1): 2 x Linear(in_features=256, out_features=256, bias=True)\n",
       "        (2): Linear(in_features=256, out_features=4, bias=True)\n",
       "      )\n",
       "    )\n",
       "  )\n",
       ")"
      ]
     },
     "execution_count": 22,
     "metadata": {},
     "output_type": "execute_result"
    }
   ],
   "source": [
    "## select device \n",
    "device = torch.device(\"cuda\" if torch.cuda.is_available() else \"cpu\")\n",
    "model.to(device)"
   ]
  },
  {
   "cell_type": "code",
   "execution_count": 23,
   "metadata": {},
   "outputs": [],
   "source": [
    "from torch.optim import Adam\n",
    "import monai"
   ]
  },
  {
   "cell_type": "code",
   "execution_count": 24,
   "metadata": {},
   "outputs": [],
   "source": [
    "# Initialize the optimizer and the loss function\n",
    "optimizer = Adam(model.mask_decoder.parameters(), lr=1e-5, weight_decay=0)\n",
    "#Try DiceFocalLoss, FocalLoss, DiceCELoss\n",
    "seg_loss = monai.losses.DiceCELoss(sigmoid=True, squared_pred=True, reduction='mean')"
   ]
  },
  {
   "cell_type": "code",
   "execution_count": 25,
   "metadata": {},
   "outputs": [],
   "source": [
    "from Solar_Rooftop_Detection.generate_isolated_masks import generate_isolated_mask"
   ]
  },
  {
   "cell_type": "code",
   "execution_count": 26,
   "metadata": {},
   "outputs": [],
   "source": [
    "from torch.nn import functional as F"
   ]
  },
  {
   "cell_type": "code",
   "execution_count": 28,
   "metadata": {},
   "outputs": [],
   "source": [
    "num_epochs = 10"
   ]
  },
  {
   "cell_type": "code",
   "execution_count": 29,
   "metadata": {},
   "outputs": [
    {
     "data": {
      "text/plain": [
       "<bound method Module.named_parameters of Sam(\n",
       "  (image_encoder): ImageEncoderViT(\n",
       "    (patch_embed): PatchEmbed(\n",
       "      (proj): Conv2d(3, 768, kernel_size=(16, 16), stride=(16, 16))\n",
       "    )\n",
       "    (blocks): ModuleList(\n",
       "      (0-11): 12 x Block(\n",
       "        (norm1): LayerNorm((768,), eps=1e-06, elementwise_affine=True)\n",
       "        (attn): Attention(\n",
       "          (qkv): Linear(in_features=768, out_features=2304, bias=True)\n",
       "          (proj): Linear(in_features=768, out_features=768, bias=True)\n",
       "        )\n",
       "        (norm2): LayerNorm((768,), eps=1e-06, elementwise_affine=True)\n",
       "        (mlp): MLPBlock(\n",
       "          (lin1): Linear(in_features=768, out_features=3072, bias=True)\n",
       "          (lin2): Linear(in_features=3072, out_features=768, bias=True)\n",
       "          (act): GELU(approximate='none')\n",
       "        )\n",
       "      )\n",
       "    )\n",
       "    (neck): Sequential(\n",
       "      (0): Conv2d(768, 256, kernel_size=(1, 1), stride=(1, 1), bias=False)\n",
       "      (1): LayerNorm2d()\n",
       "      (2): Conv2d(256, 256, kernel_size=(3, 3), stride=(1, 1), padding=(1, 1), bias=False)\n",
       "      (3): LayerNorm2d()\n",
       "    )\n",
       "  )\n",
       "  (prompt_encoder): PromptEncoder(\n",
       "    (pe_layer): PositionEmbeddingRandom()\n",
       "    (point_embeddings): ModuleList(\n",
       "      (0-3): 4 x Embedding(1, 256)\n",
       "    )\n",
       "    (not_a_point_embed): Embedding(1, 256)\n",
       "    (mask_downscaling): Sequential(\n",
       "      (0): Conv2d(1, 4, kernel_size=(2, 2), stride=(2, 2))\n",
       "      (1): LayerNorm2d()\n",
       "      (2): GELU(approximate='none')\n",
       "      (3): Conv2d(4, 16, kernel_size=(2, 2), stride=(2, 2))\n",
       "      (4): LayerNorm2d()\n",
       "      (5): GELU(approximate='none')\n",
       "      (6): Conv2d(16, 256, kernel_size=(1, 1), stride=(1, 1))\n",
       "    )\n",
       "    (no_mask_embed): Embedding(1, 256)\n",
       "  )\n",
       "  (mask_decoder): MaskDecoder(\n",
       "    (transformer): TwoWayTransformer(\n",
       "      (layers): ModuleList(\n",
       "        (0-1): 2 x TwoWayAttentionBlock(\n",
       "          (self_attn): Attention(\n",
       "            (q_proj): Linear(in_features=256, out_features=256, bias=True)\n",
       "            (k_proj): Linear(in_features=256, out_features=256, bias=True)\n",
       "            (v_proj): Linear(in_features=256, out_features=256, bias=True)\n",
       "            (out_proj): Linear(in_features=256, out_features=256, bias=True)\n",
       "          )\n",
       "          (norm1): LayerNorm((256,), eps=1e-05, elementwise_affine=True)\n",
       "          (cross_attn_token_to_image): Attention(\n",
       "            (q_proj): Linear(in_features=256, out_features=128, bias=True)\n",
       "            (k_proj): Linear(in_features=256, out_features=128, bias=True)\n",
       "            (v_proj): Linear(in_features=256, out_features=128, bias=True)\n",
       "            (out_proj): Linear(in_features=128, out_features=256, bias=True)\n",
       "          )\n",
       "          (norm2): LayerNorm((256,), eps=1e-05, elementwise_affine=True)\n",
       "          (mlp): MLPBlock(\n",
       "            (lin1): Linear(in_features=256, out_features=2048, bias=True)\n",
       "            (lin2): Linear(in_features=2048, out_features=256, bias=True)\n",
       "            (act): ReLU()\n",
       "          )\n",
       "          (norm3): LayerNorm((256,), eps=1e-05, elementwise_affine=True)\n",
       "          (norm4): LayerNorm((256,), eps=1e-05, elementwise_affine=True)\n",
       "          (cross_attn_image_to_token): Attention(\n",
       "            (q_proj): Linear(in_features=256, out_features=128, bias=True)\n",
       "            (k_proj): Linear(in_features=256, out_features=128, bias=True)\n",
       "            (v_proj): Linear(in_features=256, out_features=128, bias=True)\n",
       "            (out_proj): Linear(in_features=128, out_features=256, bias=True)\n",
       "          )\n",
       "        )\n",
       "      )\n",
       "      (final_attn_token_to_image): Attention(\n",
       "        (q_proj): Linear(in_features=256, out_features=128, bias=True)\n",
       "        (k_proj): Linear(in_features=256, out_features=128, bias=True)\n",
       "        (v_proj): Linear(in_features=256, out_features=128, bias=True)\n",
       "        (out_proj): Linear(in_features=128, out_features=256, bias=True)\n",
       "      )\n",
       "      (norm_final_attn): LayerNorm((256,), eps=1e-05, elementwise_affine=True)\n",
       "    )\n",
       "    (iou_token): Embedding(1, 256)\n",
       "    (mask_tokens): Embedding(4, 256)\n",
       "    (output_upscaling): Sequential(\n",
       "      (0): ConvTranspose2d(256, 64, kernel_size=(2, 2), stride=(2, 2))\n",
       "      (1): LayerNorm2d()\n",
       "      (2): GELU(approximate='none')\n",
       "      (3): ConvTranspose2d(64, 32, kernel_size=(2, 2), stride=(2, 2))\n",
       "      (4): GELU(approximate='none')\n",
       "    )\n",
       "    (output_hypernetworks_mlps): ModuleList(\n",
       "      (0-3): 4 x MLP(\n",
       "        (layers): ModuleList(\n",
       "          (0-1): 2 x Linear(in_features=256, out_features=256, bias=True)\n",
       "          (2): Linear(in_features=256, out_features=32, bias=True)\n",
       "        )\n",
       "      )\n",
       "    )\n",
       "    (iou_prediction_head): MLP(\n",
       "      (layers): ModuleList(\n",
       "        (0-1): 2 x Linear(in_features=256, out_features=256, bias=True)\n",
       "        (2): Linear(in_features=256, out_features=4, bias=True)\n",
       "      )\n",
       "    )\n",
       "  )\n",
       ")>"
      ]
     },
     "execution_count": 29,
     "metadata": {},
     "output_type": "execute_result"
    }
   ],
   "source": [
    "model.named_parameters"
   ]
  },
  {
   "cell_type": "code",
   "execution_count": 30,
   "metadata": {},
   "outputs": [],
   "source": [
    "# make sure we only compute gradients for mask decoder\n",
    "for name, param in model.named_parameters():\n",
    "    if name.startswith(\"image_encoder\") or name.startswith(\"prompt_encoder\"):\n",
    "        param.requires_grad_(False)"
   ]
  },
  {
   "cell_type": "code",
   "execution_count": 31,
   "metadata": {},
   "outputs": [],
   "source": [
    "checkpoint = \"checkpoints\"\n",
    "os.makedirs(checkpoint, exist_ok=True)"
   ]
  },
  {
   "cell_type": "code",
   "execution_count": 46,
   "metadata": {},
   "outputs": [
    {
     "name": "stderr",
     "output_type": "stream",
     "text": [
      "3657862414.py - 14-Feb-2025 18:31:00 - INFO - <module> - Line 1 - Training Started\n",
      "3657862414.py - 14-Feb-2025 18:31:00 - INFO - <module> - Line 5 - Epoch 1/10 started\n",
      "3657862414.py - 14-Feb-2025 18:31:00 - INFO - <module> - Line 24 - Bounding Box Coordinates: 53\n"
     ]
    },
    {
     "name": "stdout",
     "output_type": "stream",
     "text": [
      "868 1005 893 1024\n",
      "Unique values of isolated masks are :  tensor([0.0000, 0.0039, 0.0078, 0.0118, 0.0157, 0.0196, 0.9804, 0.9843, 0.9882,\n",
      "        0.9922, 0.9961, 1.0000])\n"
     ]
    },
    {
     "name": "stderr",
     "output_type": "stream",
     "text": [
      "3657862414.py - 14-Feb-2025 18:31:04 - INFO - <module> - Line 71 - Current running loss: 0.0030\n"
     ]
    },
    {
     "name": "stdout",
     "output_type": "stream",
     "text": [
      "Unique values this tensor contain is :  tensor([-74.4700, -73.8145, -73.1589,  ...,  28.2078,  28.9410,  29.1221],\n",
      "       grad_fn=<Unique2Backward0>)\n",
      "820 987 856 1024\n",
      "Unique values of isolated masks are :  tensor([0.0000, 0.0039, 0.0078, 0.0118, 0.0157, 0.0196, 0.0235, 0.9765, 0.9804,\n",
      "        0.9843, 0.9882, 0.9922, 0.9961, 1.0000])\n"
     ]
    },
    {
     "name": "stderr",
     "output_type": "stream",
     "text": [
      "3657862414.py - 14-Feb-2025 18:31:09 - INFO - <module> - Line 71 - Current running loss: 0.0042\n"
     ]
    },
    {
     "name": "stdout",
     "output_type": "stream",
     "text": [
      "Unique values this tensor contain is :  tensor([-73.2724, -70.8356, -70.6074,  ...,  34.8564,  37.3598,  37.5297],\n",
      "       grad_fn=<Unique2Backward0>)\n",
      "139 986 179 1024\n",
      "Unique values of isolated masks are :  tensor([0.0000, 0.0039, 0.0078, 0.0118, 0.0157, 0.0196, 0.0275, 0.9765, 0.9804,\n",
      "        0.9843, 0.9882, 0.9922, 0.9961, 1.0000])\n"
     ]
    },
    {
     "name": "stderr",
     "output_type": "stream",
     "text": [
      "3657862414.py - 14-Feb-2025 18:31:13 - INFO - <module> - Line 71 - Current running loss: 0.0047\n"
     ]
    },
    {
     "name": "stdout",
     "output_type": "stream",
     "text": [
      "Unique values this tensor contain is :  tensor([-85.7785, -84.9555, -83.0268,  ...,  57.4359,  58.0833,  59.5483],\n",
      "       grad_fn=<Unique2Backward0>)\n",
      "544 979 601 1024\n",
      "Unique values of isolated masks are :  tensor([0.0000, 0.0039, 0.0078, 0.0118, 0.0157, 0.0196, 0.0235, 0.9725, 0.9765,\n",
      "        0.9804, 0.9843, 0.9882, 0.9922, 0.9961, 1.0000])\n"
     ]
    },
    {
     "name": "stderr",
     "output_type": "stream",
     "text": [
      "3657862414.py - 14-Feb-2025 18:31:17 - INFO - <module> - Line 71 - Current running loss: 0.0054\n"
     ]
    },
    {
     "name": "stdout",
     "output_type": "stream",
     "text": [
      "Unique values this tensor contain is :  tensor([-62.3034, -61.9991, -60.5925,  ...,  38.6724,  39.3639,  39.6505],\n",
      "       grad_fn=<Unique2Backward0>)\n",
      "974 973 1024 1024\n",
      "Unique values of isolated masks are :  tensor([0.0000, 0.0039, 0.0078, 0.0118, 0.0157, 0.0196, 0.0235, 0.0275, 0.9804,\n",
      "        0.9843, 0.9882, 0.9922, 0.9961, 1.0000])\n"
     ]
    },
    {
     "name": "stderr",
     "output_type": "stream",
     "text": [
      "3657862414.py - 14-Feb-2025 18:31:22 - INFO - <module> - Line 71 - Current running loss: 0.0134\n"
     ]
    },
    {
     "name": "stdout",
     "output_type": "stream",
     "text": [
      "Unique values this tensor contain is :  tensor([-27.9651, -27.2816, -27.1986,  ...,  10.5854,  10.7524,  11.1286],\n",
      "       grad_fn=<Unique2Backward0>)\n",
      "83 969 133 1024\n",
      "Unique values of isolated masks are :  tensor([0.0000, 0.0039, 0.0078, 0.0118, 0.0157, 0.0196, 0.0235, 0.9765, 0.9804,\n",
      "        0.9843, 0.9882, 0.9922, 0.9961, 1.0000])\n",
      "Unique values this tensor contain is :  tensor([-67.7613, -67.1448, -65.5066,  ...,  46.3431,  46.5603,  48.2749],\n",
      "       grad_fn=<Unique2Backward0>)\n"
     ]
    },
    {
     "name": "stderr",
     "output_type": "stream",
     "text": [
      "3657862414.py - 14-Feb-2025 18:31:26 - INFO - <module> - Line 71 - Current running loss: 0.0145\n"
     ]
    },
    {
     "name": "stdout",
     "output_type": "stream",
     "text": [
      "710 956 775 1010\n",
      "Unique values of isolated masks are :  tensor([0.0000, 0.0039, 0.0078, 0.0118, 0.0157, 0.0196, 0.0235, 0.0275, 0.9765,\n",
      "        0.9804, 0.9843, 0.9882, 0.9922, 0.9961, 1.0000])\n"
     ]
    },
    {
     "name": "stderr",
     "output_type": "stream",
     "text": [
      "3657862414.py - 14-Feb-2025 18:31:31 - INFO - <module> - Line 71 - Current running loss: 0.0197\n"
     ]
    },
    {
     "name": "stdout",
     "output_type": "stream",
     "text": [
      "Unique values this tensor contain is :  tensor([-44.5004, -44.3005, -43.4009,  ...,  22.0849,  23.6525,  23.9646],\n",
      "       grad_fn=<Unique2Backward0>)\n",
      "948 955 1001 1024\n",
      "Unique values of isolated masks are :  tensor([0.0000, 0.0039, 0.0078, 0.0118, 0.0157, 0.0196, 0.0235, 0.0275, 0.9765,\n",
      "        0.9804, 0.9843, 0.9882, 0.9922, 0.9961, 1.0000])\n"
     ]
    },
    {
     "name": "stderr",
     "output_type": "stream",
     "text": [
      "3657862414.py - 14-Feb-2025 18:31:35 - INFO - <module> - Line 71 - Current running loss: 0.0270\n"
     ]
    },
    {
     "name": "stdout",
     "output_type": "stream",
     "text": [
      "Unique values this tensor contain is :  tensor([-34.6418, -34.0484, -33.7186,  ...,  18.2641,  18.4087,  18.9316],\n",
      "       grad_fn=<Unique2Backward0>)\n",
      "199 948 288 1024\n",
      "Unique values of isolated masks are :  tensor([0.0000, 0.0039, 0.0078, 0.0118, 0.0157, 0.0196, 0.0235, 0.0275, 0.9725,\n",
      "        0.9765, 0.9804, 0.9843, 0.9882, 0.9922, 0.9961, 1.0000])\n"
     ]
    },
    {
     "name": "stderr",
     "output_type": "stream",
     "text": [
      "3657862414.py - 14-Feb-2025 18:31:39 - INFO - <module> - Line 71 - Current running loss: 0.0367\n"
     ]
    },
    {
     "name": "stdout",
     "output_type": "stream",
     "text": [
      "Unique values this tensor contain is :  tensor([-19.4878, -19.3146, -18.9171,  ...,  14.2673,  14.2923,  14.6459],\n",
      "       grad_fn=<Unique2Backward0>)\n",
      "925 939 974 1006\n",
      "Unique values of isolated masks are :  tensor([0.0000, 0.0039, 0.0078, 0.0118, 0.0157, 0.0196, 0.0235, 0.9765, 0.9804,\n",
      "        0.9843, 0.9882, 0.9922, 0.9961, 1.0000])\n"
     ]
    },
    {
     "name": "stderr",
     "output_type": "stream",
     "text": [
      "3657862414.py - 14-Feb-2025 18:31:43 - INFO - <module> - Line 71 - Current running loss: 0.0433\n"
     ]
    },
    {
     "name": "stdout",
     "output_type": "stream",
     "text": [
      "Unique values this tensor contain is :  tensor([-44.0831, -43.8410, -43.0472,  ...,  26.0936,  26.2979,  27.0580],\n",
      "       grad_fn=<Unique2Backward0>)\n",
      "384 938 531 1024\n",
      "Unique values of isolated masks are :  tensor([0.0000, 0.0039, 0.0078, 0.0118, 0.0157, 0.0196, 0.0235, 0.0275, 0.9765,\n",
      "        0.9804, 0.9843, 0.9882, 0.9922, 0.9961, 1.0000])\n"
     ]
    },
    {
     "name": "stderr",
     "output_type": "stream",
     "text": [
      "3657862414.py - 14-Feb-2025 18:31:48 - INFO - <module> - Line 71 - Current running loss: 0.0491\n"
     ]
    },
    {
     "name": "stdout",
     "output_type": "stream",
     "text": [
      "Unique values this tensor contain is :  tensor([-12.9095, -12.7719, -12.4389,  ...,   6.6361,   6.6522,   6.6775],\n",
      "       grad_fn=<Unique2Backward0>)\n",
      "901 934 940 987\n",
      "Unique values of isolated masks are :  tensor([0.0000, 0.0039, 0.0078, 0.0118, 0.0157, 0.0196, 0.0235, 0.9765, 0.9804,\n",
      "        0.9843, 0.9882, 0.9922, 0.9961, 1.0000])\n"
     ]
    },
    {
     "name": "stderr",
     "output_type": "stream",
     "text": [
      "3657862414.py - 14-Feb-2025 18:31:52 - INFO - <module> - Line 71 - Current running loss: 0.0533\n"
     ]
    },
    {
     "name": "stdout",
     "output_type": "stream",
     "text": [
      "Unique values this tensor contain is :  tensor([-52.3533, -50.3392, -50.2418,  ...,  24.4649,  25.1810,  26.0503],\n",
      "       grad_fn=<Unique2Backward0>)\n",
      "732 927 808 985\n",
      "Unique values of isolated masks are :  tensor([0.0000, 0.0039, 0.0078, 0.0118, 0.0157, 0.0196, 0.0235, 0.0275, 0.9765,\n",
      "        0.9804, 0.9843, 0.9882, 0.9922, 0.9961, 1.0000])\n",
      "Unique values this tensor contain is :  tensor([-28.7833, -28.4549, -28.1266,  ...,  10.9227,  11.1034,  11.3211],\n",
      "       grad_fn=<Unique2Backward0>)\n"
     ]
    },
    {
     "name": "stderr",
     "output_type": "stream",
     "text": [
      "3657862414.py - 14-Feb-2025 18:31:56 - INFO - <module> - Line 71 - Current running loss: 0.0583\n"
     ]
    },
    {
     "name": "stdout",
     "output_type": "stream",
     "text": [
      "755 895 821 945\n",
      "Unique values of isolated masks are :  tensor([0.0000, 0.0039, 0.0078, 0.0118, 0.0157, 0.0196, 0.0235, 0.9765, 0.9804,\n",
      "        0.9843, 0.9882, 0.9922, 0.9961, 1.0000])\n"
     ]
    },
    {
     "name": "stderr",
     "output_type": "stream",
     "text": [
      "3657862414.py - 14-Feb-2025 18:32:01 - INFO - <module> - Line 71 - Current running loss: 0.0615\n"
     ]
    },
    {
     "name": "stdout",
     "output_type": "stream",
     "text": [
      "Unique values this tensor contain is :  tensor([-35.9116, -35.4275, -34.2512,  ...,  21.8169,  21.8582,  22.0059],\n",
      "       grad_fn=<Unique2Backward0>)\n",
      "0 882 125 1024\n",
      "Unique values of isolated masks are :  tensor([0.0000, 0.0039, 0.0078, 0.0118, 0.0157, 0.0196, 0.0235, 0.0275, 0.9765,\n",
      "        0.9804, 0.9843, 0.9882, 0.9922, 0.9961, 1.0000])\n"
     ]
    },
    {
     "name": "stderr",
     "output_type": "stream",
     "text": [
      "3657862414.py - 14-Feb-2025 18:32:05 - INFO - <module> - Line 71 - Current running loss: 0.0645\n"
     ]
    },
    {
     "name": "stdout",
     "output_type": "stream",
     "text": [
      "Unique values this tensor contain is :  tensor([-13.4570, -13.1289, -12.6359,  ...,   7.4400,   7.7122,   7.8167],\n",
      "       grad_fn=<Unique2Backward0>)\n",
      "778 859 845 910\n",
      "Unique values of isolated masks are :  tensor([0.0000, 0.0039, 0.0078, 0.0118, 0.0157, 0.0196, 0.0235, 0.0275, 0.9765,\n",
      "        0.9804, 0.9843, 0.9882, 0.9922, 0.9961, 1.0000])\n"
     ]
    },
    {
     "name": "stderr",
     "output_type": "stream",
     "text": [
      "3657862414.py - 14-Feb-2025 18:32:09 - INFO - <module> - Line 71 - Current running loss: 0.0675\n"
     ]
    },
    {
     "name": "stdout",
     "output_type": "stream",
     "text": [
      "Unique values this tensor contain is :  tensor([-53.8354, -53.5979, -53.3604,  ...,  30.2594,  31.4840,  32.0921],\n",
      "       grad_fn=<Unique2Backward0>)\n",
      "241 859 333 974\n",
      "Unique values of isolated masks are :  tensor([0.0000, 0.0039, 0.0078, 0.0118, 0.0157, 0.0196, 0.0235, 0.0275, 0.9725,\n",
      "        0.9765, 0.9804, 0.9843, 0.9882, 0.9922, 0.9961, 1.0000])\n"
     ]
    },
    {
     "name": "stderr",
     "output_type": "stream",
     "text": [
      "3657862414.py - 14-Feb-2025 18:32:14 - INFO - <module> - Line 71 - Current running loss: 0.0694\n"
     ]
    },
    {
     "name": "stdout",
     "output_type": "stream",
     "text": [
      "Unique values this tensor contain is :  tensor([-17.5900, -17.4378, -16.7146,  ...,  10.4398,  10.5621,  10.5715],\n",
      "       grad_fn=<Unique2Backward0>)\n",
      "644 852 678 893\n",
      "Unique values of isolated masks are :  tensor([0.0000, 0.0039, 0.0078, 0.0118, 0.0157, 0.0196, 0.9765, 0.9804, 0.9843,\n",
      "        0.9882, 0.9922, 0.9961, 1.0000])\n",
      "Unique values this tensor contain is :  tensor([-103.4299, -100.5509,  -98.4486,  ...,   68.1439,   68.4572,\n",
      "          69.9807], grad_fn=<Unique2Backward0>)\n"
     ]
    },
    {
     "name": "stderr",
     "output_type": "stream",
     "text": [
      "3657862414.py - 14-Feb-2025 18:32:18 - INFO - <module> - Line 71 - Current running loss: 0.0705\n"
     ]
    },
    {
     "name": "stdout",
     "output_type": "stream",
     "text": [
      "507 803 643 976\n",
      "Unique values of isolated masks are :  tensor([0.0000, 0.0039, 0.0078, 0.0118, 0.0157, 0.0196, 0.0235, 0.0275, 0.9725,\n",
      "        0.9765, 0.9804, 0.9843, 0.9882, 0.9922, 0.9961, 1.0000])\n"
     ]
    },
    {
     "name": "stderr",
     "output_type": "stream",
     "text": [
      "3657862414.py - 14-Feb-2025 18:32:23 - INFO - <module> - Line 71 - Current running loss: 0.0739\n"
     ]
    },
    {
     "name": "stdout",
     "output_type": "stream",
     "text": [
      "Unique values this tensor contain is :  tensor([-12.3695, -12.3674, -12.3614,  ...,  12.7674,  13.1686,  13.3873],\n",
      "       grad_fn=<Unique2Backward0>)\n",
      "319 759 360 791\n",
      "Unique values of isolated masks are :  tensor([0.0000, 0.0039, 0.0078, 0.0118, 0.0157, 0.0196, 0.0235, 0.0275, 0.9765,\n",
      "        0.9804, 0.9843, 0.9882, 0.9922, 0.9961, 1.0000])\n"
     ]
    },
    {
     "name": "stderr",
     "output_type": "stream",
     "text": [
      "3657862414.py - 14-Feb-2025 18:32:27 - INFO - <module> - Line 71 - Current running loss: 0.0748\n"
     ]
    },
    {
     "name": "stdout",
     "output_type": "stream",
     "text": [
      "Unique values this tensor contain is :  tensor([-76.3270, -76.3206, -74.2849,  ...,  48.8648,  51.0991,  51.6545],\n",
      "       grad_fn=<Unique2Backward0>)\n",
      "206 744 255 818\n",
      "Unique values of isolated masks are :  tensor([0.0000, 0.0039, 0.0078, 0.0118, 0.0157, 0.0196, 0.0235, 0.9765, 0.9804,\n",
      "        0.9843, 0.9882, 0.9922, 0.9961, 1.0000])\n"
     ]
    },
    {
     "name": "stderr",
     "output_type": "stream",
     "text": [
      "3657862414.py - 14-Feb-2025 18:32:31 - INFO - <module> - Line 71 - Current running loss: 0.0754\n"
     ]
    },
    {
     "name": "stdout",
     "output_type": "stream",
     "text": [
      "Unique values this tensor contain is :  tensor([-61.7233, -60.7926, -60.7831,  ...,  44.2637,  44.7524,  44.7750],\n",
      "       grad_fn=<Unique2Backward0>)\n",
      "323 740 501 873\n",
      "Unique values of isolated masks are :  tensor([0.0000, 0.0039, 0.0078, 0.0118, 0.0157, 0.0196, 0.0235, 0.0275, 0.9725,\n",
      "        0.9765, 0.9804, 0.9843, 0.9882, 0.9922, 0.9961, 1.0000])\n"
     ]
    },
    {
     "name": "stderr",
     "output_type": "stream",
     "text": [
      "3657862414.py - 14-Feb-2025 18:32:36 - INFO - <module> - Line 71 - Current running loss: 0.0794\n"
     ]
    },
    {
     "name": "stdout",
     "output_type": "stream",
     "text": [
      "Unique values this tensor contain is :  tensor([-16.1830, -15.8032, -15.5559,  ...,  11.0204,  11.0561,  11.2398],\n",
      "       grad_fn=<Unique2Backward0>)\n",
      "397 724 438 757\n",
      "Unique values of isolated masks are :  tensor([0.0000, 0.0039, 0.0078, 0.0118, 0.0157, 0.0196, 0.0275, 0.9843, 0.9882,\n",
      "        0.9922, 0.9961, 1.0000])\n"
     ]
    },
    {
     "name": "stderr",
     "output_type": "stream",
     "text": [
      "3657862414.py - 14-Feb-2025 18:32:40 - INFO - <module> - Line 71 - Current running loss: 0.0819\n"
     ]
    },
    {
     "name": "stdout",
     "output_type": "stream",
     "text": [
      "Unique values this tensor contain is :  tensor([-73.4612, -72.1458, -69.7316,  ...,  45.9973,  46.6287,  49.1506],\n",
      "       grad_fn=<Unique2Backward0>)\n",
      "530 687 717 843\n",
      "Unique values of isolated masks are :  tensor([0.0000, 0.0039, 0.0078, 0.0118, 0.0157, 0.0196, 0.0235, 0.0275, 0.0314,\n",
      "        0.9725, 0.9765, 0.9804, 0.9843, 0.9882, 0.9922, 0.9961, 1.0000])\n"
     ]
    },
    {
     "name": "stderr",
     "output_type": "stream",
     "text": [
      "3657862414.py - 14-Feb-2025 18:32:44 - INFO - <module> - Line 71 - Current running loss: 0.0867\n"
     ]
    },
    {
     "name": "stdout",
     "output_type": "stream",
     "text": [
      "Unique values this tensor contain is :  tensor([-12.1918, -12.0687, -11.9921,  ...,   7.3691,   7.4480,   7.5658],\n",
      "       grad_fn=<Unique2Backward0>)\n",
      "776 675 828 750\n",
      "Unique values of isolated masks are :  tensor([0.0000, 0.0039, 0.0078, 0.0118, 0.0157, 0.0196, 0.9765, 0.9804, 0.9843,\n",
      "        0.9882, 0.9922, 0.9961, 1.0000])\n",
      "Unique values this tensor contain is :  tensor([-54.5888, -54.2338, -54.1347,  ...,  29.3335,  29.8588,  30.8087],\n",
      "       grad_fn=<Unique2Backward0>)\n"
     ]
    },
    {
     "name": "stderr",
     "output_type": "stream",
     "text": [
      "3657862414.py - 14-Feb-2025 18:32:47 - INFO - <module> - Line 71 - Current running loss: 0.0883\n"
     ]
    },
    {
     "name": "stdout",
     "output_type": "stream",
     "text": [
      "113 648 248 825\n",
      "Unique values of isolated masks are :  tensor([0.0000, 0.0039, 0.0078, 0.0118, 0.0157, 0.0196, 0.0235, 0.9765, 0.9804,\n",
      "        0.9843, 0.9882, 0.9922, 0.9961, 1.0000])\n"
     ]
    },
    {
     "name": "stderr",
     "output_type": "stream",
     "text": [
      "3657862414.py - 14-Feb-2025 18:32:52 - INFO - <module> - Line 71 - Current running loss: 0.0916\n"
     ]
    },
    {
     "name": "stdout",
     "output_type": "stream",
     "text": [
      "Unique values this tensor contain is :  tensor([-12.6148, -12.5629, -12.5455,  ...,   6.9979,   7.1081,   7.2016],\n",
      "       grad_fn=<Unique2Backward0>)\n",
      "367 642 408 676\n",
      "Unique values of isolated masks are :  tensor([0.0000, 0.0039, 0.0078, 0.0118, 0.0157, 0.0196, 0.0275, 0.9765, 0.9804,\n",
      "        0.9843, 0.9882, 0.9922, 0.9961, 1.0000])\n"
     ]
    },
    {
     "name": "stderr",
     "output_type": "stream",
     "text": [
      "3657862414.py - 14-Feb-2025 18:32:56 - INFO - <module> - Line 71 - Current running loss: 0.0926\n"
     ]
    },
    {
     "name": "stdout",
     "output_type": "stream",
     "text": [
      "Unique values this tensor contain is :  tensor([-88.2715, -87.0900, -85.5640,  ...,  47.1337,  47.2946,  47.7503],\n",
      "       grad_fn=<Unique2Backward0>)\n",
      "576 605 748 739\n",
      "Unique values of isolated masks are :  tensor([0.0000, 0.0039, 0.0078, 0.0118, 0.0157, 0.0196, 0.0235, 0.0275, 0.0314,\n",
      "        0.9725, 0.9765, 0.9804, 0.9843, 0.9882, 0.9922, 0.9961, 1.0000])\n",
      "Unique values this tensor contain is :  tensor([-13.2541, -13.1212, -13.0581,  ...,  10.9718,  11.1433,  11.1641],\n",
      "       grad_fn=<Unique2Backward0>)\n"
     ]
    },
    {
     "name": "stderr",
     "output_type": "stream",
     "text": [
      "3657862414.py - 14-Feb-2025 18:33:00 - INFO - <module> - Line 71 - Current running loss: 0.0962\n"
     ]
    },
    {
     "name": "stdout",
     "output_type": "stream",
     "text": [
      "653 596 727 646\n",
      "Unique values of isolated masks are :  tensor([0.0000, 0.0039, 0.0078, 0.0118, 0.0157, 0.0196, 0.9725, 0.9765, 0.9804,\n",
      "        0.9843, 0.9882, 0.9922, 0.9961, 1.0000])\n",
      "Unique values this tensor contain is :  tensor([-48.6213, -48.1921, -48.1788,  ...,  29.0613,  30.4749,  30.6429],\n",
      "       grad_fn=<Unique2Backward0>)\n"
     ]
    },
    {
     "name": "stderr",
     "output_type": "stream",
     "text": [
      "3657862414.py - 14-Feb-2025 18:33:05 - INFO - <module> - Line 71 - Current running loss: 0.0972\n"
     ]
    },
    {
     "name": "stdout",
     "output_type": "stream",
     "text": [
      "410 582 574 660\n",
      "Unique values of isolated masks are :  tensor([0.0000, 0.0039, 0.0078, 0.0118, 0.0157, 0.0196, 0.0235, 0.0275, 0.9725,\n",
      "        0.9765, 0.9804, 0.9843, 0.9882, 0.9922, 0.9961, 1.0000])\n"
     ]
    },
    {
     "name": "stderr",
     "output_type": "stream",
     "text": [
      "3657862414.py - 14-Feb-2025 18:33:09 - INFO - <module> - Line 71 - Current running loss: 0.0979\n"
     ]
    },
    {
     "name": "stdout",
     "output_type": "stream",
     "text": [
      "Unique values this tensor contain is :  tensor([-15.1357, -14.7172, -14.6978,  ...,  17.0678,  17.6932,  17.8900],\n",
      "       grad_fn=<Unique2Backward0>)\n",
      "297 580 338 638\n",
      "Unique values of isolated masks are :  tensor([0.0000, 0.0039, 0.0078, 0.0118, 0.0157, 0.0196, 0.9765, 0.9804, 0.9843,\n",
      "        0.9882, 0.9922, 0.9961, 1.0000])\n"
     ]
    },
    {
     "name": "stderr",
     "output_type": "stream",
     "text": [
      "3657862414.py - 14-Feb-2025 18:33:13 - INFO - <module> - Line 71 - Current running loss: 0.0989\n"
     ]
    },
    {
     "name": "stdout",
     "output_type": "stream",
     "text": [
      "Unique values this tensor contain is :  tensor([-72.7185, -72.0022, -71.4626,  ...,  52.1723,  52.9686,  55.4862],\n",
      "       grad_fn=<Unique2Backward0>)\n",
      "408 555 447 575\n",
      "Unique values of isolated masks are :  tensor([0.0000, 0.0039, 0.0078, 0.0118, 0.0157, 0.9804, 0.9843, 0.9882, 0.9922,\n",
      "        0.9961, 1.0000])\n"
     ]
    },
    {
     "name": "stderr",
     "output_type": "stream",
     "text": [
      "3657862414.py - 14-Feb-2025 18:33:18 - INFO - <module> - Line 71 - Current running loss: 0.1002\n"
     ]
    },
    {
     "name": "stdout",
     "output_type": "stream",
     "text": [
      "Unique values this tensor contain is :  tensor([-76.5440, -75.0742, -74.6191,  ...,  59.1225,  59.1334,  59.1443],\n",
      "       grad_fn=<Unique2Backward0>)\n",
      "509 550 547 571\n",
      "Unique values of isolated masks are :  tensor([0.0000, 0.0039, 0.0078, 0.0118, 0.0157, 0.9882, 0.9922, 0.9961, 1.0000])\n"
     ]
    },
    {
     "name": "stderr",
     "output_type": "stream",
     "text": [
      "3657862414.py - 14-Feb-2025 18:33:22 - INFO - <module> - Line 71 - Current running loss: 0.1010\n"
     ]
    },
    {
     "name": "stdout",
     "output_type": "stream",
     "text": [
      "Unique values this tensor contain is :  tensor([-101.1460,  -98.6443,  -97.5740,  ...,   68.2336,   68.2677,\n",
      "          74.0414], grad_fn=<Unique2Backward0>)\n",
      "207 485 334 658\n",
      "Unique values of isolated masks are :  tensor([0.0000, 0.0039, 0.0078, 0.0118, 0.0157, 0.0196, 0.0235, 0.0275, 0.9765,\n",
      "        0.9804, 0.9843, 0.9882, 0.9922, 0.9961, 1.0000])\n",
      "Unique values this tensor contain is :  tensor([-12.4718, -12.4701, -12.4684,  ...,   9.7031,   9.9090,   9.9939],\n",
      "       grad_fn=<Unique2Backward0>)\n"
     ]
    },
    {
     "name": "stderr",
     "output_type": "stream",
     "text": [
      "3657862414.py - 14-Feb-2025 18:33:27 - INFO - <module> - Line 71 - Current running loss: 0.1038\n"
     ]
    },
    {
     "name": "stdout",
     "output_type": "stream",
     "text": [
      "987 269 1021 305\n",
      "Unique values of isolated masks are :  tensor([0.0000, 0.0039, 0.0078, 0.0118, 0.0157, 0.0196, 0.0314, 0.9725, 0.9804,\n",
      "        0.9843, 0.9882, 0.9922, 0.9961, 1.0000])\n"
     ]
    },
    {
     "name": "stderr",
     "output_type": "stream",
     "text": [
      "3657862414.py - 14-Feb-2025 18:33:31 - INFO - <module> - Line 71 - Current running loss: 0.1070\n"
     ]
    },
    {
     "name": "stdout",
     "output_type": "stream",
     "text": [
      "Unique values this tensor contain is :  tensor([-70.3603, -68.8256, -68.4255,  ...,  39.9014,  40.1314,  41.8668],\n",
      "       grad_fn=<Unique2Backward0>)\n",
      "960 258 989 284\n",
      "Unique values of isolated masks are :  tensor([0.0000, 0.0039, 0.0078, 0.0118, 0.0157, 0.0196, 0.9725, 0.9765, 0.9804,\n",
      "        0.9843, 0.9882, 0.9922, 0.9961, 1.0000])\n"
     ]
    },
    {
     "name": "stderr",
     "output_type": "stream",
     "text": [
      "3657862414.py - 14-Feb-2025 18:33:35 - INFO - <module> - Line 71 - Current running loss: 0.1087\n"
     ]
    },
    {
     "name": "stdout",
     "output_type": "stream",
     "text": [
      "Unique values this tensor contain is :  tensor([-50.6018, -50.0227, -49.4435,  ...,  33.1055,  34.8459,  37.0067],\n",
      "       grad_fn=<Unique2Backward0>)\n",
      "1006 245 1024 269\n",
      "Unique values of isolated masks are :  tensor([0.0000, 0.0039, 0.0078, 0.0118, 0.0157, 0.0275, 0.9804, 0.9843, 0.9882,\n",
      "        0.9922, 0.9961, 1.0000])\n"
     ]
    },
    {
     "name": "stderr",
     "output_type": "stream",
     "text": [
      "3657862414.py - 14-Feb-2025 18:33:40 - INFO - <module> - Line 71 - Current running loss: 0.1166\n"
     ]
    },
    {
     "name": "stdout",
     "output_type": "stream",
     "text": [
      "Unique values this tensor contain is :  tensor([-57.9923, -57.7869, -57.0533,  ...,  35.0058,  35.0718,  36.0899],\n",
      "       grad_fn=<Unique2Backward0>)\n",
      "957 224 969 235\n",
      "Unique values of isolated masks are :  tensor([0.0000, 0.0039, 0.0078, 0.0118, 0.9765, 0.9843, 0.9882, 0.9922, 0.9961,\n",
      "        1.0000])\n"
     ]
    },
    {
     "name": "stderr",
     "output_type": "stream",
     "text": [
      "3657862414.py - 14-Feb-2025 18:33:44 - INFO - <module> - Line 71 - Current running loss: 0.1229\n"
     ]
    },
    {
     "name": "stdout",
     "output_type": "stream",
     "text": [
      "Unique values this tensor contain is :  tensor([-189.9729, -189.9250, -189.8772,  ...,   30.2070,   30.8407,\n",
      "          32.0780], grad_fn=<Unique2Backward0>)\n",
      "589 209 700 289\n",
      "Unique values of isolated masks are :  tensor([0.0000, 0.0039, 0.0078, 0.0118, 0.0157, 0.0196, 0.9725, 0.9804, 0.9843,\n",
      "        0.9882, 0.9922, 0.9961, 1.0000])\n"
     ]
    },
    {
     "name": "stderr",
     "output_type": "stream",
     "text": [
      "3657862414.py - 14-Feb-2025 18:33:49 - INFO - <module> - Line 71 - Current running loss: 0.1235\n"
     ]
    },
    {
     "name": "stdout",
     "output_type": "stream",
     "text": [
      "Unique values this tensor contain is :  tensor([-42.4851, -41.8822, -40.6937,  ...,  17.0395,  17.3434,  17.7020],\n",
      "       grad_fn=<Unique2Backward0>)\n",
      "1021 182 1024 188\n",
      "Unique values of isolated masks are :  tensor([0.0000, 0.0039, 0.0157, 0.0196, 0.9961, 1.0000])\n"
     ]
    },
    {
     "name": "stderr",
     "output_type": "stream",
     "text": [
      "3657862414.py - 14-Feb-2025 18:33:53 - INFO - <module> - Line 71 - Current running loss: 0.1343\n"
     ]
    },
    {
     "name": "stdout",
     "output_type": "stream",
     "text": [
      "Unique values this tensor contain is :  tensor([-157.9461, -155.9363, -155.7030,  ...,   22.6585,   22.7173,\n",
      "          24.5702], grad_fn=<Unique2Backward0>)\n",
      "974 168 1018 206\n",
      "Unique values of isolated masks are :  tensor([0.0000, 0.0039, 0.0078, 0.0118, 0.0157, 0.0196, 0.9725, 0.9765, 0.9804,\n",
      "        0.9843, 0.9882, 0.9922, 0.9961, 1.0000])\n"
     ]
    },
    {
     "name": "stderr",
     "output_type": "stream",
     "text": [
      "3657862414.py - 14-Feb-2025 18:33:57 - INFO - <module> - Line 71 - Current running loss: 0.1356\n"
     ]
    },
    {
     "name": "stdout",
     "output_type": "stream",
     "text": [
      "Unique values this tensor contain is :  tensor([-50.2963, -49.0803, -48.3906,  ...,  24.9133,  25.1668,  25.3584],\n",
      "       grad_fn=<Unique2Backward0>)\n",
      "731 114 766 147\n",
      "Unique values of isolated masks are :  tensor([0.0000, 0.0039, 0.0078, 0.0118, 0.0157, 0.0196, 0.0235, 0.9804, 0.9843,\n",
      "        0.9882, 0.9922, 0.9961, 1.0000])\n"
     ]
    },
    {
     "name": "stderr",
     "output_type": "stream",
     "text": [
      "3657862414.py - 14-Feb-2025 18:34:02 - INFO - <module> - Line 71 - Current running loss: 0.1377\n"
     ]
    },
    {
     "name": "stdout",
     "output_type": "stream",
     "text": [
      "Unique values this tensor contain is :  tensor([-74.9477, -74.5063, -73.8995,  ...,  38.1746,  39.7393,  40.4842],\n",
      "       grad_fn=<Unique2Backward0>)\n",
      "460 83 511 108\n",
      "Unique values of isolated masks are :  tensor([0.0000, 0.0039, 0.0078, 0.0118, 0.0157, 0.0196, 0.0235, 0.9804, 0.9843,\n",
      "        0.9882, 0.9922, 0.9961, 1.0000])\n"
     ]
    },
    {
     "name": "stderr",
     "output_type": "stream",
     "text": [
      "3657862414.py - 14-Feb-2025 18:34:06 - INFO - <module> - Line 71 - Current running loss: 0.1385\n"
     ]
    },
    {
     "name": "stdout",
     "output_type": "stream",
     "text": [
      "Unique values this tensor contain is :  tensor([-70.4460, -69.2200, -68.1084,  ...,  41.5606,  43.1933,  44.8261],\n",
      "       grad_fn=<Unique2Backward0>)\n",
      "626 79 656 110\n",
      "Unique values of isolated masks are :  tensor([0.0000, 0.0039, 0.0078, 0.0118, 0.0157, 0.0196, 0.0235, 0.9804, 0.9843,\n",
      "        0.9882, 0.9922, 0.9961, 1.0000])\n"
     ]
    },
    {
     "name": "stderr",
     "output_type": "stream",
     "text": [
      "3657862414.py - 14-Feb-2025 18:34:10 - INFO - <module> - Line 71 - Current running loss: 0.1440\n"
     ]
    },
    {
     "name": "stdout",
     "output_type": "stream",
     "text": [
      "Unique values this tensor contain is :  tensor([-53.2038, -52.6340, -50.4467,  ...,  45.5874,  46.6179,  47.8795],\n",
      "       grad_fn=<Unique2Backward0>)\n",
      "660 77 698 109\n",
      "Unique values of isolated masks are :  tensor([0.0000, 0.0039, 0.0078, 0.0118, 0.0157, 0.0196, 0.0275, 0.9804, 0.9843,\n",
      "        0.9882, 0.9922, 0.9961, 1.0000])\n"
     ]
    },
    {
     "name": "stderr",
     "output_type": "stream",
     "text": [
      "3657862414.py - 14-Feb-2025 18:34:15 - INFO - <module> - Line 71 - Current running loss: 0.1500\n"
     ]
    },
    {
     "name": "stdout",
     "output_type": "stream",
     "text": [
      "Unique values this tensor contain is :  tensor([-45.5076, -45.0030, -44.1422,  ...,  29.0380,  29.1233,  30.3351],\n",
      "       grad_fn=<Unique2Backward0>)\n",
      "577 76 600 103\n",
      "Unique values of isolated masks are :  tensor([0.0000, 0.0039, 0.0078, 0.0118, 0.0157, 0.0196, 0.9804, 0.9843, 0.9882,\n",
      "        0.9922, 0.9961, 1.0000])\n"
     ]
    },
    {
     "name": "stderr",
     "output_type": "stream",
     "text": [
      "3657862414.py - 14-Feb-2025 18:34:19 - INFO - <module> - Line 71 - Current running loss: 0.1527\n"
     ]
    },
    {
     "name": "stdout",
     "output_type": "stream",
     "text": [
      "Unique values this tensor contain is :  tensor([-75.3308, -74.9590, -71.8405,  ...,  44.7129,  48.0343,  48.1368],\n",
      "       grad_fn=<Unique2Backward0>)\n",
      "766 73 810 126\n",
      "Unique values of isolated masks are :  tensor([0.0000, 0.0039, 0.0078, 0.0118, 0.0157, 0.0196, 0.0275, 0.9765, 0.9804,\n",
      "        0.9843, 0.9882, 0.9922, 0.9961, 1.0000])\n"
     ]
    },
    {
     "name": "stderr",
     "output_type": "stream",
     "text": [
      "3657862414.py - 14-Feb-2025 18:34:24 - INFO - <module> - Line 71 - Current running loss: 0.1539\n"
     ]
    },
    {
     "name": "stdout",
     "output_type": "stream",
     "text": [
      "Unique values this tensor contain is :  tensor([-56.1704, -55.8729, -54.2954,  ...,  23.6130,  24.3790,  25.1450],\n",
      "       grad_fn=<Unique2Backward0>)\n",
      "593 42 618 77\n",
      "Unique values of isolated masks are :  tensor([0.0000, 0.0039, 0.0078, 0.0118, 0.0157, 0.0196, 0.9765, 0.9804, 0.9843,\n",
      "        0.9882, 0.9922, 0.9961, 1.0000])\n"
     ]
    },
    {
     "name": "stderr",
     "output_type": "stream",
     "text": [
      "3657862414.py - 14-Feb-2025 18:34:28 - INFO - <module> - Line 71 - Current running loss: 0.1593\n"
     ]
    },
    {
     "name": "stdout",
     "output_type": "stream",
     "text": [
      "Unique values this tensor contain is :  tensor([-46.4466, -46.1670, -44.8955,  ...,  21.9138,  21.9303,  21.9467],\n",
      "       grad_fn=<Unique2Backward0>)\n",
      "700 36 756 88\n",
      "Unique values of isolated masks are :  tensor([0.0000, 0.0039, 0.0078, 0.0118, 0.0157, 0.0196, 0.0275, 0.9725, 0.9765,\n",
      "        0.9804, 0.9843, 0.9882, 0.9922, 0.9961, 1.0000])\n"
     ]
    },
    {
     "name": "stderr",
     "output_type": "stream",
     "text": [
      "3657862414.py - 14-Feb-2025 18:34:33 - INFO - <module> - Line 71 - Current running loss: 0.1600\n"
     ]
    },
    {
     "name": "stdout",
     "output_type": "stream",
     "text": [
      "Unique values this tensor contain is :  tensor([-52.5068, -52.2235, -50.2797,  ...,  24.0670,  24.4162,  25.3518],\n",
      "       grad_fn=<Unique2Backward0>)\n",
      "534 25 584 64\n",
      "Unique values of isolated masks are :  tensor([0.0000, 0.0039, 0.0078, 0.0118, 0.0157, 0.0196, 0.0275, 0.9725, 0.9804,\n",
      "        0.9843, 0.9882, 0.9922, 0.9961, 1.0000])\n"
     ]
    },
    {
     "name": "stderr",
     "output_type": "stream",
     "text": [
      "3657862414.py - 14-Feb-2025 18:34:37 - INFO - <module> - Line 71 - Current running loss: 0.1622\n"
     ]
    },
    {
     "name": "stdout",
     "output_type": "stream",
     "text": [
      "Unique values this tensor contain is :  tensor([-51.5344, -50.9053, -49.0417,  ...,  21.5796,  21.6911,  21.9069],\n",
      "       grad_fn=<Unique2Backward0>)\n",
      "628 2 675 45\n",
      "Unique values of isolated masks are :  tensor([0.0000, 0.0039, 0.0078, 0.0118, 0.0157, 0.0196, 0.9765, 0.9804, 0.9843,\n",
      "        0.9882, 0.9922, 0.9961, 1.0000])\n"
     ]
    },
    {
     "name": "stderr",
     "output_type": "stream",
     "text": [
      "3657862414.py - 14-Feb-2025 18:34:41 - INFO - <module> - Line 71 - Current running loss: 0.1641\n"
     ]
    },
    {
     "name": "stdout",
     "output_type": "stream",
     "text": [
      "Unique values this tensor contain is :  tensor([-29.9416, -29.5481, -29.4711,  ...,  22.5652,  22.6199,  23.5588],\n",
      "       grad_fn=<Unique2Backward0>)\n",
      "551 0 596 13\n",
      "Unique values of isolated masks are :  tensor([0.0000, 0.0039, 0.0078, 0.0118, 0.0157, 0.0196, 0.9765, 0.9804, 0.9882,\n",
      "        0.9922, 0.9961, 1.0000])\n"
     ]
    },
    {
     "name": "stderr",
     "output_type": "stream",
     "text": [
      "3657862414.py - 14-Feb-2025 18:34:46 - INFO - <module> - Line 71 - Current running loss: 0.1654\n"
     ]
    },
    {
     "name": "stdout",
     "output_type": "stream",
     "text": [
      "Unique values this tensor contain is :  tensor([-69.1836, -67.7119, -67.0684,  ...,  48.2642,  48.3045,  49.1013],\n",
      "       grad_fn=<Unique2Backward0>)\n",
      "498 0 545 48\n",
      "Unique values of isolated masks are :  tensor([0.0000, 0.0039, 0.0078, 0.0118, 0.0157, 0.0196, 0.0235, 0.9765, 0.9804,\n",
      "        0.9843, 0.9882, 0.9922, 0.9961, 1.0000])\n"
     ]
    },
    {
     "name": "stderr",
     "output_type": "stream",
     "text": [
      "3657862414.py - 14-Feb-2025 18:34:50 - INFO - <module> - Line 71 - Current running loss: 0.1666\n",
      "3657862414.py - 14-Feb-2025 18:34:50 - INFO - <module> - Line 24 - Bounding Box Coordinates: 89\n"
     ]
    },
    {
     "name": "stdout",
     "output_type": "stream",
     "text": [
      "Unique values this tensor contain is :  tensor([-93.3722, -92.0361, -87.1025,  ...,  39.1222,  39.5716,  40.6701],\n",
      "       grad_fn=<Unique2Backward0>)\n",
      "850 1019 861 1024\n",
      "Unique values of isolated masks are :  tensor([0.0000, 0.0039, 0.0078, 0.0157, 0.0196, 0.9882, 0.9922, 0.9961, 1.0000])\n"
     ]
    },
    {
     "name": "stderr",
     "output_type": "stream",
     "text": [
      "3657862414.py - 14-Feb-2025 18:34:55 - INFO - <module> - Line 71 - Current running loss: 0.1758\n"
     ]
    },
    {
     "name": "stdout",
     "output_type": "stream",
     "text": [
      "Unique values this tensor contain is :  tensor([-151.5641, -150.3696, -147.7896,  ...,    1.7690,    2.0643,\n",
      "           2.4897], grad_fn=<Unique2Backward0>)\n",
      "738 992 792 1024\n",
      "Unique values of isolated masks are :  tensor([0.0000, 0.0039, 0.0078, 0.0118, 0.0157, 0.0196, 0.0235, 0.9765, 0.9804,\n",
      "        0.9843, 0.9882, 0.9922, 0.9961, 1.0000])\n",
      "Unique values this tensor contain is :  tensor([-31.7871, -30.8360, -30.5410,  ...,  11.6332,  11.8112,  12.2640],\n",
      "       grad_fn=<Unique2Backward0>)\n"
     ]
    },
    {
     "name": "stderr",
     "output_type": "stream",
     "text": [
      "3657862414.py - 14-Feb-2025 18:34:59 - INFO - <module> - Line 71 - Current running loss: 0.1796\n"
     ]
    },
    {
     "name": "stdout",
     "output_type": "stream",
     "text": [
      "944 895 959 909\n",
      "Unique values of isolated masks are :  tensor([0.0000, 0.0039, 0.0078, 0.0118, 0.0157, 0.0196, 0.9843, 0.9882, 0.9922,\n",
      "        0.9961, 1.0000])\n"
     ]
    },
    {
     "name": "stderr",
     "output_type": "stream",
     "text": [
      "3657862414.py - 14-Feb-2025 18:35:03 - INFO - <module> - Line 71 - Current running loss: 0.1822\n"
     ]
    },
    {
     "name": "stdout",
     "output_type": "stream",
     "text": [
      "Unique values this tensor contain is :  tensor([-123.9805, -122.3297, -117.8116,  ...,   23.9708,   26.7260,\n",
      "          27.1310], grad_fn=<Unique2Backward0>)\n",
      "971 876 1024 927\n",
      "Unique values of isolated masks are :  tensor([0.0000, 0.0039, 0.0078, 0.0118, 0.0157, 0.0196, 0.0235, 0.9725, 0.9765,\n",
      "        0.9804, 0.9843, 0.9882, 0.9922, 0.9961, 1.0000])\n"
     ]
    },
    {
     "name": "stderr",
     "output_type": "stream",
     "text": [
      "3657862414.py - 14-Feb-2025 18:35:08 - INFO - <module> - Line 71 - Current running loss: 0.1848\n"
     ]
    },
    {
     "name": "stdout",
     "output_type": "stream",
     "text": [
      "Unique values this tensor contain is :  tensor([-25.5255, -25.3832, -25.3347,  ...,  17.8668,  17.9109,  18.6715],\n",
      "       grad_fn=<Unique2Backward0>)\n",
      "922 875 950 902\n",
      "Unique values of isolated masks are :  tensor([0.0000, 0.0039, 0.0078, 0.0118, 0.0157, 0.0196, 0.9725, 0.9804, 0.9843,\n",
      "        0.9882, 0.9922, 0.9961, 1.0000])\n"
     ]
    },
    {
     "name": "stderr",
     "output_type": "stream",
     "text": [
      "3657862414.py - 14-Feb-2025 18:35:12 - INFO - <module> - Line 71 - Current running loss: 0.1896\n"
     ]
    },
    {
     "name": "stdout",
     "output_type": "stream",
     "text": [
      "Unique values this tensor contain is :  tensor([-64.3995, -64.0591, -64.0002,  ...,  52.6824,  52.7432,  52.8040],\n",
      "       grad_fn=<Unique2Backward0>)\n",
      "870 872 914 928\n",
      "Unique values of isolated masks are :  tensor([0.0000, 0.0039, 0.0078, 0.0118, 0.0157, 0.0196, 0.9804, 0.9843, 0.9882,\n",
      "        0.9922, 0.9961, 1.0000])\n"
     ]
    },
    {
     "name": "stderr",
     "output_type": "stream",
     "text": [
      "3657862414.py - 14-Feb-2025 18:35:17 - INFO - <module> - Line 71 - Current running loss: 0.1912\n"
     ]
    },
    {
     "name": "stdout",
     "output_type": "stream",
     "text": [
      "Unique values this tensor contain is :  tensor([-42.3671, -41.5604, -40.9184,  ...,  21.8372,  22.2897,  22.9442],\n",
      "       grad_fn=<Unique2Backward0>)\n",
      "953 830 1024 879\n",
      "Unique values of isolated masks are :  tensor([0.0000, 0.0039, 0.0078, 0.0118, 0.0157, 0.0196, 0.0235, 0.9725, 0.9804,\n",
      "        0.9843, 0.9882, 0.9922, 0.9961, 1.0000])\n"
     ]
    },
    {
     "name": "stderr",
     "output_type": "stream",
     "text": [
      "3657862414.py - 14-Feb-2025 18:35:21 - INFO - <module> - Line 71 - Current running loss: 0.1937\n"
     ]
    },
    {
     "name": "stdout",
     "output_type": "stream",
     "text": [
      "Unique values this tensor contain is :  tensor([-28.6807, -27.9751, -27.9520,  ...,  14.0924,  14.4514,  14.8722],\n",
      "       grad_fn=<Unique2Backward0>)\n",
      "1022 811 1024 816\n",
      "Unique values of isolated masks are :  tensor([0.0000, 0.0157, 0.9961, 1.0000])\n"
     ]
    },
    {
     "name": "stderr",
     "output_type": "stream",
     "text": [
      "3657862414.py - 14-Feb-2025 18:35:25 - INFO - <module> - Line 71 - Current running loss: 0.2021\n"
     ]
    },
    {
     "name": "stdout",
     "output_type": "stream",
     "text": [
      "Unique values this tensor contain is :  tensor([-150.7204, -149.0450, -147.5230,  ...,   16.0155,   16.3087,\n",
      "          16.4553], grad_fn=<Unique2Backward0>)\n",
      "970 793 1008 821\n",
      "Unique values of isolated masks are :  tensor([0.0000, 0.0039, 0.0078, 0.0118, 0.0157, 0.0196, 0.9804, 0.9843, 0.9882,\n",
      "        0.9922, 0.9961, 1.0000])\n"
     ]
    },
    {
     "name": "stderr",
     "output_type": "stream",
     "text": [
      "3657862414.py - 14-Feb-2025 18:35:30 - INFO - <module> - Line 71 - Current running loss: 0.2033\n"
     ]
    },
    {
     "name": "stdout",
     "output_type": "stream",
     "text": [
      "Unique values this tensor contain is :  tensor([-56.1953, -55.7195, -55.2977,  ...,  30.0551,  31.9018,  32.0261],\n",
      "       grad_fn=<Unique2Backward0>)\n",
      "864 791 945 847\n",
      "Unique values of isolated masks are :  tensor([0.0000, 0.0039, 0.0078, 0.0118, 0.0157, 0.0196, 0.0235, 0.0275, 0.9725,\n",
      "        0.9804, 0.9843, 0.9882, 0.9922, 0.9961, 1.0000])\n"
     ]
    },
    {
     "name": "stderr",
     "output_type": "stream",
     "text": [
      "3657862414.py - 14-Feb-2025 18:35:34 - INFO - <module> - Line 71 - Current running loss: 0.2040\n"
     ]
    },
    {
     "name": "stdout",
     "output_type": "stream",
     "text": [
      "Unique values this tensor contain is :  tensor([-51.8939, -50.6676, -49.1623,  ...,  24.8191,  25.3619,  25.9047],\n",
      "       grad_fn=<Unique2Backward0>)\n",
      "329 787 372 851\n",
      "Unique values of isolated masks are :  tensor([0.0000, 0.0039, 0.0078, 0.0118, 0.0157, 0.0196, 0.9765, 0.9804, 0.9843,\n",
      "        0.9882, 0.9922, 0.9961, 1.0000])\n",
      "Unique values this tensor contain is :  tensor([-36.7556, -36.6343, -34.2051,  ...,  18.5174,  18.5910,  18.6646],\n",
      "       grad_fn=<Unique2Backward0>)\n"
     ]
    },
    {
     "name": "stderr",
     "output_type": "stream",
     "text": [
      "3657862414.py - 14-Feb-2025 18:35:39 - INFO - <module> - Line 71 - Current running loss: 0.2121\n"
     ]
    },
    {
     "name": "stdout",
     "output_type": "stream",
     "text": [
      "885 723 933 791\n",
      "Unique values of isolated masks are :  tensor([0.0000, 0.0039, 0.0078, 0.0118, 0.0157, 0.0196, 0.9804, 0.9843, 0.9882,\n",
      "        0.9922, 0.9961, 1.0000])\n"
     ]
    },
    {
     "name": "stderr",
     "output_type": "stream",
     "text": [
      "3657862414.py - 14-Feb-2025 18:35:43 - INFO - <module> - Line 71 - Current running loss: 0.2134\n"
     ]
    },
    {
     "name": "stdout",
     "output_type": "stream",
     "text": [
      "Unique values this tensor contain is :  tensor([-42.1978, -42.0991, -41.1842,  ...,  21.4832,  21.5824,  21.6676],\n",
      "       grad_fn=<Unique2Backward0>)\n",
      "970 721 1002 756\n",
      "Unique values of isolated masks are :  tensor([0.0000, 0.0039, 0.0078, 0.0118, 0.0157, 0.0196, 0.0235, 0.9804, 0.9843,\n",
      "        0.9882, 0.9922, 0.9961, 1.0000])\n"
     ]
    },
    {
     "name": "stderr",
     "output_type": "stream",
     "text": [
      "3657862414.py - 14-Feb-2025 18:35:48 - INFO - <module> - Line 71 - Current running loss: 0.2157\n"
     ]
    },
    {
     "name": "stdout",
     "output_type": "stream",
     "text": [
      "Unique values this tensor contain is :  tensor([-77.7277, -73.8498, -72.4434,  ...,  40.3120,  40.3334,  40.3547],\n",
      "       grad_fn=<Unique2Backward0>)\n",
      "914 674 962 718\n",
      "Unique values of isolated masks are :  tensor([0.0000, 0.0039, 0.0078, 0.0118, 0.0157, 0.0196, 0.0235, 0.0275, 0.9804,\n",
      "        0.9843, 0.9882, 0.9922, 0.9961, 1.0000])\n"
     ]
    },
    {
     "name": "stderr",
     "output_type": "stream",
     "text": [
      "3657862414.py - 14-Feb-2025 18:35:52 - INFO - <module> - Line 71 - Current running loss: 0.2171\n"
     ]
    },
    {
     "name": "stdout",
     "output_type": "stream",
     "text": [
      "Unique values this tensor contain is :  tensor([-61.2495, -60.9571, -60.6648,  ...,  29.1012,  29.7638,  30.4264],\n",
      "       grad_fn=<Unique2Backward0>)\n",
      "465 619 550 688\n",
      "Unique values of isolated masks are :  tensor([0.0000, 0.0039, 0.0078, 0.0118, 0.0157, 0.0196, 0.9725, 0.9765, 0.9804,\n",
      "        0.9843, 0.9882, 0.9922, 0.9961, 1.0000])\n"
     ]
    },
    {
     "name": "stderr",
     "output_type": "stream",
     "text": [
      "3657862414.py - 14-Feb-2025 18:35:56 - INFO - <module> - Line 71 - Current running loss: 0.2185\n"
     ]
    },
    {
     "name": "stdout",
     "output_type": "stream",
     "text": [
      "Unique values this tensor contain is :  tensor([-50.2137, -49.6601, -49.1065,  ...,  30.7158,  31.1403,  31.5648],\n",
      "       grad_fn=<Unique2Backward0>)\n",
      "0 580 289 1024\n",
      "Unique values of isolated masks are :  tensor([0.0000, 0.0039, 0.0078, 0.0118, 0.0157, 0.0196, 0.0235, 0.0275, 0.9725,\n",
      "        0.9765, 0.9804, 0.9843, 0.9882, 0.9922, 0.9961, 1.0000])\n",
      "Unique values this tensor contain is :  tensor([-9.4494, -9.3878, -9.2532,  ...,  7.8622,  7.8698,  7.9024],\n",
      "       grad_fn=<Unique2Backward0>)\n"
     ]
    },
    {
     "name": "stderr",
     "output_type": "stream",
     "text": [
      "3657862414.py - 14-Feb-2025 18:36:01 - INFO - <module> - Line 71 - Current running loss: 0.2203\n"
     ]
    },
    {
     "name": "stdout",
     "output_type": "stream",
     "text": [
      "0 577 21 601\n",
      "Unique values of isolated masks are :  tensor([0.0000, 0.0039, 0.0078, 0.0118, 0.0157, 0.0196, 0.9765, 0.9804, 0.9843,\n",
      "        0.9882, 0.9922, 0.9961, 1.0000])\n"
     ]
    },
    {
     "name": "stderr",
     "output_type": "stream",
     "text": [
      "3657862414.py - 14-Feb-2025 18:36:05 - INFO - <module> - Line 71 - Current running loss: 0.2220\n"
     ]
    },
    {
     "name": "stdout",
     "output_type": "stream",
     "text": [
      "Unique values this tensor contain is :  tensor([-101.4868, -100.7226,  -99.9585,  ...,   67.5515,   67.9132,\n",
      "          70.3395], grad_fn=<Unique2Backward0>)\n",
      "988 524 1024 616\n",
      "Unique values of isolated masks are :  tensor([0.0000, 0.0039, 0.0078, 0.0118, 0.0157, 0.0196, 0.0235, 0.9725, 0.9804,\n",
      "        0.9843, 0.9882, 0.9922, 0.9961, 1.0000])\n"
     ]
    },
    {
     "name": "stderr",
     "output_type": "stream",
     "text": [
      "3657862414.py - 14-Feb-2025 18:36:09 - INFO - <module> - Line 71 - Current running loss: 0.2230\n"
     ]
    },
    {
     "name": "stdout",
     "output_type": "stream",
     "text": [
      "Unique values this tensor contain is :  tensor([-31.8929, -30.8893, -29.7888,  ...,  20.2332,  20.9084,  20.9354],\n",
      "       grad_fn=<Unique2Backward0>)\n",
      "142 521 181 563\n",
      "Unique values of isolated masks are :  tensor([0.0000, 0.0039, 0.0078, 0.0118, 0.0157, 0.0196, 0.0235, 0.0275, 0.9725,\n",
      "        0.9804, 0.9843, 0.9882, 0.9922, 0.9961, 1.0000])\n"
     ]
    },
    {
     "name": "stderr",
     "output_type": "stream",
     "text": [
      "3657862414.py - 14-Feb-2025 18:36:14 - INFO - <module> - Line 71 - Current running loss: 0.2261\n"
     ]
    },
    {
     "name": "stdout",
     "output_type": "stream",
     "text": [
      "Unique values this tensor contain is :  tensor([-28.2255, -28.1411, -27.9117,  ...,  13.5274,  13.6174,  14.4305],\n",
      "       grad_fn=<Unique2Backward0>)\n",
      "55 494 74 515\n",
      "Unique values of isolated masks are :  tensor([0.0000, 0.0039, 0.0078, 0.0118, 0.0157, 0.0196, 0.0275, 0.9765, 0.9804,\n",
      "        0.9843, 0.9882, 0.9922, 0.9961, 1.0000])\n",
      "Unique values this tensor contain is :  tensor([-126.5925, -125.6556, -124.6902,  ...,   80.0138,   81.0518,\n",
      "          82.0898], grad_fn=<Unique2Backward0>)\n"
     ]
    },
    {
     "name": "stderr",
     "output_type": "stream",
     "text": [
      "3657862414.py - 14-Feb-2025 18:36:18 - INFO - <module> - Line 71 - Current running loss: 0.2280\n"
     ]
    },
    {
     "name": "stdout",
     "output_type": "stream",
     "text": [
      "81 492 119 529\n",
      "Unique values of isolated masks are :  tensor([0.0000, 0.0039, 0.0078, 0.0118, 0.0157, 0.0196, 0.0235, 0.9804, 0.9843,\n",
      "        0.9882, 0.9922, 0.9961, 1.0000])\n"
     ]
    },
    {
     "name": "stderr",
     "output_type": "stream",
     "text": [
      "3657862414.py - 14-Feb-2025 18:36:23 - INFO - <module> - Line 71 - Current running loss: 0.2296\n"
     ]
    },
    {
     "name": "stdout",
     "output_type": "stream",
     "text": [
      "Unique values this tensor contain is :  tensor([-52.8963, -52.1740, -51.9368,  ...,  26.4859,  26.6124,  26.9593],\n",
      "       grad_fn=<Unique2Backward0>)\n",
      "344 486 386 527\n",
      "Unique values of isolated masks are :  tensor([0.0000, 0.0039, 0.0078, 0.0118, 0.0157, 0.0196, 0.0275, 0.9804, 0.9843,\n",
      "        0.9882, 0.9922, 0.9961, 1.0000])\n"
     ]
    },
    {
     "name": "stderr",
     "output_type": "stream",
     "text": [
      "3657862414.py - 14-Feb-2025 18:36:27 - INFO - <module> - Line 71 - Current running loss: 0.2310\n"
     ]
    },
    {
     "name": "stdout",
     "output_type": "stream",
     "text": [
      "Unique values this tensor contain is :  tensor([-43.0426, -42.3293, -40.7499,  ...,  29.8749,  30.5323,  31.3447],\n",
      "       grad_fn=<Unique2Backward0>)\n",
      "293 483 320 510\n",
      "Unique values of isolated masks are :  tensor([0.0000, 0.0039, 0.0078, 0.0118, 0.0157, 0.0196, 0.9725, 0.9804, 0.9843,\n",
      "        0.9882, 0.9922, 0.9961, 1.0000])\n"
     ]
    },
    {
     "name": "stderr",
     "output_type": "stream",
     "text": [
      "3657862414.py - 14-Feb-2025 18:36:31 - INFO - <module> - Line 71 - Current running loss: 0.2331\n"
     ]
    },
    {
     "name": "stdout",
     "output_type": "stream",
     "text": [
      "Unique values this tensor contain is :  tensor([-61.2126, -60.4322, -58.9604,  ...,  35.0055,  35.8357,  37.3462],\n",
      "       grad_fn=<Unique2Backward0>)\n",
      "458 455 556 581\n",
      "Unique values of isolated masks are :  tensor([0.0000, 0.0039, 0.0078, 0.0118, 0.0157, 0.0196, 0.0235, 0.0275, 0.9765,\n",
      "        0.9804, 0.9843, 0.9882, 0.9922, 0.9961, 1.0000])\n"
     ]
    },
    {
     "name": "stderr",
     "output_type": "stream",
     "text": [
      "3657862414.py - 14-Feb-2025 18:36:36 - INFO - <module> - Line 71 - Current running loss: 0.2341\n"
     ]
    },
    {
     "name": "stdout",
     "output_type": "stream",
     "text": [
      "Unique values this tensor contain is :  tensor([-20.0351, -20.0020, -19.8066,  ...,  12.3729,  12.4314,  12.4899],\n",
      "       grad_fn=<Unique2Backward0>)\n",
      "149 453 208 523\n",
      "Unique values of isolated masks are :  tensor([0.0000, 0.0039, 0.0078, 0.0118, 0.0157, 0.0196, 0.0235, 0.0275, 0.9804,\n",
      "        0.9843, 0.9882, 0.9922, 0.9961, 1.0000])\n"
     ]
    },
    {
     "name": "stderr",
     "output_type": "stream",
     "text": [
      "3657862414.py - 14-Feb-2025 18:36:40 - INFO - <module> - Line 71 - Current running loss: 0.2356\n"
     ]
    },
    {
     "name": "stdout",
     "output_type": "stream",
     "text": [
      "Unique values this tensor contain is :  tensor([-27.8915, -27.4413, -27.2982,  ...,  20.2920,  20.9121,  20.9674],\n",
      "       grad_fn=<Unique2Backward0>)\n",
      "320 443 347 467\n",
      "Unique values of isolated masks are :  tensor([0.0000, 0.0039, 0.0078, 0.0118, 0.0157, 0.9804, 0.9843, 0.9882, 0.9922,\n",
      "        0.9961, 1.0000])\n"
     ]
    },
    {
     "name": "stderr",
     "output_type": "stream",
     "text": [
      "3657862414.py - 14-Feb-2025 18:36:45 - INFO - <module> - Line 71 - Current running loss: 0.2370\n"
     ]
    },
    {
     "name": "stdout",
     "output_type": "stream",
     "text": [
      "Unique values this tensor contain is :  tensor([-84.5324, -82.2625, -80.8946,  ...,  52.9440,  53.6441,  53.7592],\n",
      "       grad_fn=<Unique2Backward0>)\n",
      "0 439 58 501\n",
      "Unique values of isolated masks are :  tensor([0.0000, 0.0039, 0.0078, 0.0118, 0.0157, 0.0196, 0.0275, 0.9765, 0.9804,\n",
      "        0.9843, 0.9882, 0.9922, 0.9961, 1.0000])\n",
      "Unique values this tensor contain is :  tensor([-17.7393, -17.7370, -17.7352,  ...,  14.7033,  14.8554,  14.9311],\n",
      "       grad_fn=<Unique2Backward0>)\n"
     ]
    },
    {
     "name": "stderr",
     "output_type": "stream",
     "text": [
      "3657862414.py - 14-Feb-2025 18:36:49 - INFO - <module> - Line 71 - Current running loss: 0.2397\n"
     ]
    },
    {
     "name": "stdout",
     "output_type": "stream",
     "text": [
      "363 437 413 483\n",
      "Unique values of isolated masks are :  tensor([0.0000, 0.0039, 0.0078, 0.0118, 0.0157, 0.0196, 0.9804, 0.9843, 0.9882,\n",
      "        0.9922, 0.9961, 1.0000])\n"
     ]
    },
    {
     "name": "stderr",
     "output_type": "stream",
     "text": [
      "3657862414.py - 14-Feb-2025 18:36:53 - INFO - <module> - Line 71 - Current running loss: 0.2409\n"
     ]
    },
    {
     "name": "stdout",
     "output_type": "stream",
     "text": [
      "Unique values this tensor contain is :  tensor([-48.6065, -47.3923, -46.1431,  ...,  36.4100,  37.0975,  38.3414],\n",
      "       grad_fn=<Unique2Backward0>)\n",
      "711 423 774 477\n",
      "Unique values of isolated masks are :  tensor([0.0000, 0.0039, 0.0078, 0.0118, 0.0157, 0.0196, 0.0235, 0.9765, 0.9804,\n",
      "        0.9843, 0.9882, 0.9922, 0.9961, 1.0000])\n"
     ]
    },
    {
     "name": "stderr",
     "output_type": "stream",
     "text": [
      "3657862414.py - 14-Feb-2025 18:36:58 - INFO - <module> - Line 71 - Current running loss: 0.2418\n"
     ]
    },
    {
     "name": "stdout",
     "output_type": "stream",
     "text": [
      "Unique values this tensor contain is :  tensor([-49.2821, -48.5736, -47.3041,  ...,  35.2931,  36.1527,  36.5769],\n",
      "       grad_fn=<Unique2Backward0>)\n",
      "362 379 437 441\n",
      "Unique values of isolated masks are :  tensor([0.0000, 0.0039, 0.0078, 0.0118, 0.0157, 0.0196, 0.0235, 0.0275, 0.9804,\n",
      "        0.9843, 0.9882, 0.9922, 0.9961, 1.0000])\n",
      "Unique values this tensor contain is :  tensor([-33.4261, -32.5776, -32.3018,  ...,  24.6876,  25.2346,  25.3464],\n",
      "       grad_fn=<Unique2Backward0>)\n"
     ]
    },
    {
     "name": "stderr",
     "output_type": "stream",
     "text": [
      "3657862414.py - 14-Feb-2025 18:37:02 - INFO - <module> - Line 71 - Current running loss: 0.2433\n"
     ]
    },
    {
     "name": "stdout",
     "output_type": "stream",
     "text": [
      "554 372 671 504\n",
      "Unique values of isolated masks are :  tensor([0.0000, 0.0039, 0.0078, 0.0118, 0.0157, 0.0196, 0.0235, 0.0275, 0.9725,\n",
      "        0.9765, 0.9804, 0.9843, 0.9882, 0.9922, 0.9961, 1.0000])\n",
      "Unique values this tensor contain is :  tensor([-31.3592, -30.1664, -30.0206,  ...,  24.8711,  25.6892,  25.7596],\n",
      "       grad_fn=<Unique2Backward0>)\n"
     ]
    },
    {
     "name": "stderr",
     "output_type": "stream",
     "text": [
      "3657862414.py - 14-Feb-2025 18:37:07 - INFO - <module> - Line 71 - Current running loss: 0.2442\n"
     ]
    },
    {
     "name": "stdout",
     "output_type": "stream",
     "text": [
      "584 365 598 377\n",
      "Unique values of isolated masks are :  tensor([0.0000, 0.0039, 0.0078, 0.0118, 0.0157, 0.0275, 0.9804, 0.9843, 0.9882,\n",
      "        0.9922, 0.9961, 1.0000])\n"
     ]
    },
    {
     "name": "stderr",
     "output_type": "stream",
     "text": [
      "3657862414.py - 14-Feb-2025 18:37:11 - INFO - <module> - Line 71 - Current running loss: 0.2460\n"
     ]
    },
    {
     "name": "stdout",
     "output_type": "stream",
     "text": [
      "Unique values this tensor contain is :  tensor([-179.6992, -176.8428, -176.0996,  ...,   65.5842,   66.7362,\n",
      "          71.9313], grad_fn=<Unique2Backward0>)\n",
      "0 354 37 399\n",
      "Unique values of isolated masks are :  tensor([0.0000, 0.0039, 0.0078, 0.0118, 0.0157, 0.0196, 0.0275, 0.9686, 0.9765,\n",
      "        0.9804, 0.9843, 0.9882, 0.9922, 0.9961, 1.0000])\n"
     ]
    },
    {
     "name": "stderr",
     "output_type": "stream",
     "text": [
      "3657862414.py - 14-Feb-2025 18:37:15 - INFO - <module> - Line 71 - Current running loss: 0.2477\n"
     ]
    },
    {
     "name": "stdout",
     "output_type": "stream",
     "text": [
      "Unique values this tensor contain is :  tensor([-30.0535, -29.9902, -29.8423,  ...,  18.3634,  18.5891,  18.7524],\n",
      "       grad_fn=<Unique2Backward0>)\n",
      "339 348 361 367\n",
      "Unique values of isolated masks are :  tensor([0.0000, 0.0039, 0.0078, 0.0118, 0.0157, 0.0196, 0.0275, 0.9804, 0.9843,\n",
      "        0.9882, 0.9922, 0.9961, 1.0000])\n"
     ]
    },
    {
     "name": "stderr",
     "output_type": "stream",
     "text": [
      "3657862414.py - 14-Feb-2025 18:37:20 - INFO - <module> - Line 71 - Current running loss: 0.2493\n"
     ]
    },
    {
     "name": "stdout",
     "output_type": "stream",
     "text": [
      "Unique values this tensor contain is :  tensor([-66.9150, -66.8776, -65.3845,  ...,  36.5477,  37.5096,  38.4715],\n",
      "       grad_fn=<Unique2Backward0>)\n",
      "292 344 331 388\n",
      "Unique values of isolated masks are :  tensor([0.0000, 0.0039, 0.0078, 0.0118, 0.0157, 0.0196, 0.0235, 0.9765, 0.9804,\n",
      "        0.9843, 0.9882, 0.9922, 0.9961, 1.0000])\n"
     ]
    },
    {
     "name": "stderr",
     "output_type": "stream",
     "text": [
      "3657862414.py - 14-Feb-2025 18:37:24 - INFO - <module> - Line 71 - Current running loss: 0.2513\n"
     ]
    },
    {
     "name": "stdout",
     "output_type": "stream",
     "text": [
      "Unique values this tensor contain is :  tensor([-65.0578, -62.9760, -61.6386,  ...,  39.6150,  40.3628,  40.8398],\n",
      "       grad_fn=<Unique2Backward0>)\n",
      "591 343 603 356\n",
      "Unique values of isolated masks are :  tensor([0.0000, 0.0039, 0.0078, 0.0118, 0.9804, 0.9843, 0.9882, 0.9922, 0.9961,\n",
      "        1.0000])\n",
      "Unique values this tensor contain is :  tensor([-184.4594, -182.4600, -182.2496,  ...,  126.1870,  127.4019,\n",
      "         131.3956], grad_fn=<Unique2Backward0>)\n"
     ]
    },
    {
     "name": "stderr",
     "output_type": "stream",
     "text": [
      "3657862414.py - 14-Feb-2025 18:37:29 - INFO - <module> - Line 71 - Current running loss: 0.2532\n"
     ]
    },
    {
     "name": "stdout",
     "output_type": "stream",
     "text": [
      "718 329 822 433\n",
      "Unique values of isolated masks are :  tensor([0.0000, 0.0039, 0.0078, 0.0118, 0.0157, 0.0196, 0.0235, 0.0275, 0.9765,\n",
      "        0.9804, 0.9843, 0.9882, 0.9922, 0.9961, 1.0000])\n"
     ]
    },
    {
     "name": "stderr",
     "output_type": "stream",
     "text": [
      "3657862414.py - 14-Feb-2025 18:37:33 - INFO - <module> - Line 71 - Current running loss: 0.2543\n"
     ]
    },
    {
     "name": "stdout",
     "output_type": "stream",
     "text": [
      "Unique values this tensor contain is :  tensor([-18.0928, -17.8879, -17.5316,  ...,  10.6297,  10.6683,  10.7530],\n",
      "       grad_fn=<Unique2Backward0>)\n",
      "588 318 619 348\n",
      "Unique values of isolated masks are :  tensor([0.0000, 0.0039, 0.0078, 0.0118, 0.0157, 0.0196, 0.0235, 0.9804, 0.9843,\n",
      "        0.9882, 0.9922, 0.9961, 1.0000])\n"
     ]
    },
    {
     "name": "stderr",
     "output_type": "stream",
     "text": [
      "3657862414.py - 14-Feb-2025 18:37:37 - INFO - <module> - Line 71 - Current running loss: 0.2563\n"
     ]
    },
    {
     "name": "stdout",
     "output_type": "stream",
     "text": [
      "Unique values this tensor contain is :  tensor([-35.1881, -35.1852, -35.0022,  ...,  19.5940,  19.8113,  20.3365],\n",
      "       grad_fn=<Unique2Backward0>)\n",
      "354 315 458 398\n",
      "Unique values of isolated masks are :  tensor([0.0000, 0.0039, 0.0078, 0.0118, 0.0157, 0.0196, 0.0235, 0.0275, 0.9686,\n",
      "        0.9725, 0.9765, 0.9804, 0.9843, 0.9882, 0.9922, 0.9961, 1.0000])\n"
     ]
    },
    {
     "name": "stderr",
     "output_type": "stream",
     "text": [
      "3657862414.py - 14-Feb-2025 18:37:42 - INFO - <module> - Line 71 - Current running loss: 0.2601\n"
     ]
    },
    {
     "name": "stdout",
     "output_type": "stream",
     "text": [
      "Unique values this tensor contain is :  tensor([-17.7197, -17.5738, -16.9980,  ...,  11.9021,  12.1823,  12.2259],\n",
      "       grad_fn=<Unique2Backward0>)\n",
      "233 311 289 364\n",
      "Unique values of isolated masks are :  tensor([0.0000, 0.0039, 0.0078, 0.0118, 0.0157, 0.0196, 0.9725, 0.9804, 0.9843,\n",
      "        0.9882, 0.9922, 0.9961, 1.0000])\n"
     ]
    },
    {
     "name": "stderr",
     "output_type": "stream",
     "text": [
      "3657862414.py - 14-Feb-2025 18:37:46 - INFO - <module> - Line 71 - Current running loss: 0.2620\n"
     ]
    },
    {
     "name": "stdout",
     "output_type": "stream",
     "text": [
      "Unique values this tensor contain is :  tensor([-61.7479, -60.8040, -59.6732,  ...,  38.1035,  40.8086,  41.4329],\n",
      "       grad_fn=<Unique2Backward0>)\n",
      "427 300 482 349\n",
      "Unique values of isolated masks are :  tensor([0.0000, 0.0039, 0.0078, 0.0118, 0.0157, 0.0196, 0.0275, 0.9725, 0.9804,\n",
      "        0.9843, 0.9882, 0.9922, 0.9961, 1.0000])\n",
      "Unique values this tensor contain is :  tensor([-27.7209, -27.5915, -26.7438,  ...,  25.9446,  26.2195,  27.3193],\n",
      "       grad_fn=<Unique2Backward0>)\n"
     ]
    },
    {
     "name": "stderr",
     "output_type": "stream",
     "text": [
      "3657862414.py - 14-Feb-2025 18:37:51 - INFO - <module> - Line 71 - Current running loss: 0.2629\n"
     ]
    },
    {
     "name": "stdout",
     "output_type": "stream",
     "text": [
      "382 299 425 340\n",
      "Unique values of isolated masks are :  tensor([0.0000, 0.0039, 0.0078, 0.0118, 0.0157, 0.0196, 0.0235, 0.0275, 0.9765,\n",
      "        0.9804, 0.9843, 0.9882, 0.9922, 0.9961, 1.0000])\n"
     ]
    },
    {
     "name": "stderr",
     "output_type": "stream",
     "text": [
      "3657862414.py - 14-Feb-2025 18:37:55 - INFO - <module> - Line 71 - Current running loss: 0.2656\n"
     ]
    },
    {
     "name": "stdout",
     "output_type": "stream",
     "text": [
      "Unique values this tensor contain is :  tensor([-54.2402, -52.8735, -52.6776,  ...,  34.1919,  34.7748,  35.9033],\n",
      "       grad_fn=<Unique2Backward0>)\n",
      "608 252 659 313\n",
      "Unique values of isolated masks are :  tensor([0.0000, 0.0039, 0.0078, 0.0118, 0.0157, 0.0196, 0.0235, 0.9725, 0.9804,\n",
      "        0.9843, 0.9882, 0.9922, 0.9961, 1.0000])\n"
     ]
    },
    {
     "name": "stderr",
     "output_type": "stream",
     "text": [
      "3657862414.py - 14-Feb-2025 18:38:00 - INFO - <module> - Line 71 - Current running loss: 0.2669\n"
     ]
    },
    {
     "name": "stdout",
     "output_type": "stream",
     "text": [
      "Unique values this tensor contain is :  tensor([-31.4871, -31.3495, -30.6049,  ...,  29.1795,  29.5828,  30.9196],\n",
      "       grad_fn=<Unique2Backward0>)\n",
      "451 252 510 310\n",
      "Unique values of isolated masks are :  tensor([0.0000, 0.0039, 0.0078, 0.0118, 0.0157, 0.0196, 0.0275, 0.9725, 0.9804,\n",
      "        0.9843, 0.9882, 0.9922, 0.9961, 1.0000])\n",
      "Unique values this tensor contain is :  tensor([-28.5635, -28.4091, -28.3391,  ...,  23.0311,  23.2344,  23.7208],\n",
      "       grad_fn=<Unique2Backward0>)\n"
     ]
    },
    {
     "name": "stderr",
     "output_type": "stream",
     "text": [
      "3657862414.py - 14-Feb-2025 18:38:04 - INFO - <module> - Line 71 - Current running loss: 0.2689\n"
     ]
    },
    {
     "name": "stdout",
     "output_type": "stream",
     "text": [
      "349 236 370 255\n",
      "Unique values of isolated masks are :  tensor([0.0000, 0.0039, 0.0078, 0.0118, 0.0157, 0.0196, 0.9804, 0.9843, 0.9882,\n",
      "        0.9922, 0.9961, 1.0000])\n"
     ]
    },
    {
     "name": "stderr",
     "output_type": "stream",
     "text": [
      "3657862414.py - 14-Feb-2025 18:38:08 - INFO - <module> - Line 71 - Current running loss: 0.2703\n"
     ]
    },
    {
     "name": "stdout",
     "output_type": "stream",
     "text": [
      "Unique values this tensor contain is :  tensor([-118.8775, -118.1136, -117.3973,  ...,   66.6647,   68.1251,\n",
      "          69.5856], grad_fn=<Unique2Backward0>)\n",
      "295 229 341 272\n",
      "Unique values of isolated masks are :  tensor([0.0000, 0.0039, 0.0078, 0.0118, 0.0157, 0.0196, 0.0275, 0.9725, 0.9804,\n",
      "        0.9843, 0.9882, 0.9922, 0.9961, 1.0000])\n"
     ]
    },
    {
     "name": "stderr",
     "output_type": "stream",
     "text": [
      "3657862414.py - 14-Feb-2025 18:38:13 - INFO - <module> - Line 71 - Current running loss: 0.2723\n"
     ]
    },
    {
     "name": "stdout",
     "output_type": "stream",
     "text": [
      "Unique values this tensor contain is :  tensor([-50.5748, -50.3182, -50.1062,  ...,  33.0334,  33.1393,  33.9657],\n",
      "       grad_fn=<Unique2Backward0>)\n",
      "476 224 536 273\n",
      "Unique values of isolated masks are :  tensor([0.0000, 0.0039, 0.0078, 0.0118, 0.0157, 0.0196, 0.0275, 0.9725, 0.9765,\n",
      "        0.9804, 0.9843, 0.9882, 0.9922, 0.9961, 1.0000])\n"
     ]
    },
    {
     "name": "stderr",
     "output_type": "stream",
     "text": [
      "3657862414.py - 14-Feb-2025 18:38:17 - INFO - <module> - Line 71 - Current running loss: 0.2736\n"
     ]
    },
    {
     "name": "stdout",
     "output_type": "stream",
     "text": [
      "Unique values this tensor contain is :  tensor([-38.9216, -38.5362, -36.9636,  ...,  27.8596,  29.0560,  29.5256],\n",
      "       grad_fn=<Unique2Backward0>)\n",
      "766 216 873 291\n",
      "Unique values of isolated masks are :  tensor([0.0000, 0.0039, 0.0078, 0.0118, 0.0157, 0.0196, 0.0235, 0.0275, 0.9765,\n",
      "        0.9804, 0.9843, 0.9882, 0.9922, 0.9961, 1.0000])\n"
     ]
    },
    {
     "name": "stderr",
     "output_type": "stream",
     "text": [
      "3657862414.py - 14-Feb-2025 18:38:21 - INFO - <module> - Line 71 - Current running loss: 0.2742\n"
     ]
    },
    {
     "name": "stdout",
     "output_type": "stream",
     "text": [
      "Unique values this tensor contain is :  tensor([-30.6506, -30.1877, -30.0760,  ...,  19.3191,  19.3295,  19.3886],\n",
      "       grad_fn=<Unique2Backward0>)\n",
      "173 206 241 325\n",
      "Unique values of isolated masks are :  tensor([0.0000, 0.0039, 0.0078, 0.0118, 0.0157, 0.0196, 0.0235, 0.0275, 0.9725,\n",
      "        0.9765, 0.9804, 0.9843, 0.9882, 0.9922, 0.9961, 1.0000])\n",
      "Unique values this tensor contain is :  tensor([-15.5947, -15.5932, -15.4816,  ...,   9.2645,   9.2711,   9.3591],\n",
      "       grad_fn=<Unique2Backward0>)\n"
     ]
    },
    {
     "name": "stderr",
     "output_type": "stream",
     "text": [
      "3657862414.py - 14-Feb-2025 18:38:26 - INFO - <module> - Line 71 - Current running loss: 0.2759\n"
     ]
    },
    {
     "name": "stdout",
     "output_type": "stream",
     "text": [
      "105 200 181 301\n",
      "Unique values of isolated masks are :  tensor([0.0000, 0.0039, 0.0078, 0.0118, 0.0157, 0.0196, 0.0235, 0.0275, 0.9725,\n",
      "        0.9765, 0.9804, 0.9843, 0.9882, 0.9922, 0.9961, 1.0000])\n"
     ]
    },
    {
     "name": "stderr",
     "output_type": "stream",
     "text": [
      "3657862414.py - 14-Feb-2025 18:38:30 - INFO - <module> - Line 71 - Current running loss: 0.2771\n"
     ]
    },
    {
     "name": "stdout",
     "output_type": "stream",
     "text": [
      "Unique values this tensor contain is :  tensor([-27.9543, -27.7299, -27.1003,  ...,  15.6897,  15.8933,  15.9856],\n",
      "       grad_fn=<Unique2Backward0>)\n",
      "55 197 118 267\n",
      "Unique values of isolated masks are :  tensor([0.0000, 0.0039, 0.0078, 0.0118, 0.0157, 0.0196, 0.0235, 0.9725, 0.9765,\n",
      "        0.9804, 0.9843, 0.9882, 0.9922, 0.9961, 1.0000])\n"
     ]
    },
    {
     "name": "stderr",
     "output_type": "stream",
     "text": [
      "3657862414.py - 14-Feb-2025 18:38:35 - INFO - <module> - Line 71 - Current running loss: 0.2787\n"
     ]
    },
    {
     "name": "stdout",
     "output_type": "stream",
     "text": [
      "Unique values this tensor contain is :  tensor([-44.8287, -44.4089, -44.2034,  ...,  25.7936,  26.0945,  26.9530],\n",
      "       grad_fn=<Unique2Backward0>)\n",
      "445 195 478 222\n",
      "Unique values of isolated masks are :  tensor([0.0000, 0.0039, 0.0078, 0.0118, 0.0157, 0.0196, 0.0235, 0.0275, 0.9725,\n",
      "        0.9804, 0.9843, 0.9882, 0.9922, 0.9961, 1.0000])\n"
     ]
    },
    {
     "name": "stderr",
     "output_type": "stream",
     "text": [
      "3657862414.py - 14-Feb-2025 18:38:39 - INFO - <module> - Line 71 - Current running loss: 0.2807\n"
     ]
    },
    {
     "name": "stdout",
     "output_type": "stream",
     "text": [
      "Unique values this tensor contain is :  tensor([-94.0040, -90.8046, -87.2572,  ...,  37.4978,  39.0370,  39.5930],\n",
      "       grad_fn=<Unique2Backward0>)\n",
      "296 186 314 206\n",
      "Unique values of isolated masks are :  tensor([0.0000, 0.0039, 0.0078, 0.0118, 0.0157, 0.0196, 0.9804, 0.9843, 0.9882,\n",
      "        0.9922, 0.9961, 1.0000])\n"
     ]
    },
    {
     "name": "stderr",
     "output_type": "stream",
     "text": [
      "3657862414.py - 14-Feb-2025 18:38:44 - INFO - <module> - Line 71 - Current running loss: 0.2823\n"
     ]
    },
    {
     "name": "stdout",
     "output_type": "stream",
     "text": [
      "Unique values this tensor contain is :  tensor([-116.7474, -115.1292, -115.1055,  ...,   39.0701,   41.2709,\n",
      "          43.4718], grad_fn=<Unique2Backward0>)\n",
      "331 179 375 225\n",
      "Unique values of isolated masks are :  tensor([0.0000, 0.0039, 0.0078, 0.0118, 0.0157, 0.0196, 0.0235, 0.9725, 0.9765,\n",
      "        0.9804, 0.9843, 0.9882, 0.9922, 0.9961, 1.0000])\n"
     ]
    },
    {
     "name": "stderr",
     "output_type": "stream",
     "text": [
      "3657862414.py - 14-Feb-2025 18:38:48 - INFO - <module> - Line 71 - Current running loss: 0.2838\n"
     ]
    },
    {
     "name": "stdout",
     "output_type": "stream",
     "text": [
      "Unique values this tensor contain is :  tensor([-34.6497, -34.5553, -34.3660,  ...,  23.2074,  23.5641,  24.0613],\n",
      "       grad_fn=<Unique2Backward0>)\n",
      "455 178 469 191\n",
      "Unique values of isolated masks are :  tensor([0.0000, 0.0039, 0.0078, 0.0118, 0.0157, 0.0196, 0.9804, 0.9843, 0.9882,\n",
      "        0.9922, 0.9961, 1.0000])\n",
      "Unique values this tensor contain is :  tensor([-181.0088, -180.4989, -177.0342,  ...,   83.8562,   83.9611,\n",
      "          90.7059], grad_fn=<Unique2Backward0>)\n"
     ]
    },
    {
     "name": "stderr",
     "output_type": "stream",
     "text": [
      "3657862414.py - 14-Feb-2025 18:38:53 - INFO - <module> - Line 71 - Current running loss: 0.2860\n"
     ]
    },
    {
     "name": "stdout",
     "output_type": "stream",
     "text": [
      "272 169 303 201\n",
      "Unique values of isolated masks are :  tensor([0.0000, 0.0039, 0.0078, 0.0118, 0.0157, 0.0196, 0.0235, 0.9804, 0.9843,\n",
      "        0.9882, 0.9922, 0.9961, 1.0000])\n"
     ]
    },
    {
     "name": "stderr",
     "output_type": "stream",
     "text": [
      "3657862414.py - 14-Feb-2025 18:38:57 - INFO - <module> - Line 71 - Current running loss: 0.2880\n"
     ]
    },
    {
     "name": "stdout",
     "output_type": "stream",
     "text": [
      "Unique values this tensor contain is :  tensor([-89.9518, -87.4281, -85.9102,  ...,  35.1554,  35.1664,  35.6818],\n",
      "       grad_fn=<Unique2Backward0>)\n",
      "12 169 65 246\n",
      "Unique values of isolated masks are :  tensor([0.0000, 0.0039, 0.0078, 0.0118, 0.0157, 0.0196, 0.0235, 0.0275, 0.9725,\n",
      "        0.9765, 0.9804, 0.9843, 0.9882, 0.9922, 0.9961, 1.0000])\n"
     ]
    },
    {
     "name": "stderr",
     "output_type": "stream",
     "text": [
      "3657862414.py - 14-Feb-2025 18:39:02 - INFO - <module> - Line 71 - Current running loss: 0.2902\n"
     ]
    },
    {
     "name": "stdout",
     "output_type": "stream",
     "text": [
      "Unique values this tensor contain is :  tensor([-39.5555, -38.9927, -38.0776,  ...,  25.9529,  26.3134,  26.9900],\n",
      "       grad_fn=<Unique2Backward0>)\n",
      "837 166 866 185\n",
      "Unique values of isolated masks are :  tensor([0.0000, 0.0039, 0.0078, 0.0118, 0.0157, 0.0196, 0.0235, 0.9843, 0.9882,\n",
      "        0.9922, 0.9961, 1.0000])\n"
     ]
    },
    {
     "name": "stderr",
     "output_type": "stream",
     "text": [
      "3657862414.py - 14-Feb-2025 18:39:06 - INFO - <module> - Line 71 - Current running loss: 0.2928\n"
     ]
    },
    {
     "name": "stdout",
     "output_type": "stream",
     "text": [
      "Unique values this tensor contain is :  tensor([-121.9092, -121.2561, -117.6277,  ...,   47.7117,   48.5964,\n",
      "          50.6977], grad_fn=<Unique2Backward0>)\n",
      "723 162 762 200\n",
      "Unique values of isolated masks are :  tensor([0.0000, 0.0039, 0.0078, 0.0118, 0.0157, 0.0196, 0.9804, 0.9843, 0.9882,\n",
      "        0.9922, 0.9961, 1.0000])\n"
     ]
    },
    {
     "name": "stderr",
     "output_type": "stream",
     "text": [
      "3657862414.py - 14-Feb-2025 18:39:10 - INFO - <module> - Line 71 - Current running loss: 0.2939\n"
     ]
    },
    {
     "name": "stdout",
     "output_type": "stream",
     "text": [
      "Unique values this tensor contain is :  tensor([-63.1923, -62.4846, -60.5297,  ...,  38.1753,  41.0903,  41.3665],\n",
      "       grad_fn=<Unique2Backward0>)\n",
      "466 154 555 220\n",
      "Unique values of isolated masks are :  tensor([0.0000, 0.0039, 0.0078, 0.0118, 0.0157, 0.0196, 0.0235, 0.0275, 0.9725,\n",
      "        0.9765, 0.9804, 0.9843, 0.9882, 0.9922, 0.9961, 1.0000])\n"
     ]
    },
    {
     "name": "stderr",
     "output_type": "stream",
     "text": [
      "3657862414.py - 14-Feb-2025 18:39:15 - INFO - <module> - Line 71 - Current running loss: 0.2953\n"
     ]
    },
    {
     "name": "stdout",
     "output_type": "stream",
     "text": [
      "Unique values this tensor contain is :  tensor([-29.9116, -29.6702, -29.2629,  ...,  18.8973,  19.0558,  19.0980],\n",
      "       grad_fn=<Unique2Backward0>)\n",
      "0 137 28 215\n",
      "Unique values of isolated masks are :  tensor([0.0000, 0.0039, 0.0078, 0.0118, 0.0157, 0.0196, 0.0235, 0.9725, 0.9765,\n",
      "        0.9804, 0.9843, 0.9882, 0.9922, 0.9961, 1.0000])\n"
     ]
    },
    {
     "name": "stderr",
     "output_type": "stream",
     "text": [
      "3657862414.py - 14-Feb-2025 18:39:19 - INFO - <module> - Line 71 - Current running loss: 0.2977\n"
     ]
    },
    {
     "name": "stdout",
     "output_type": "stream",
     "text": [
      "Unique values this tensor contain is :  tensor([-32.3790, -31.5247, -31.0394,  ...,  14.1309,  14.4183,  14.5108],\n",
      "       grad_fn=<Unique2Backward0>)\n",
      "399 136 456 188\n",
      "Unique values of isolated masks are :  tensor([0.0000, 0.0039, 0.0078, 0.0118, 0.0157, 0.0196, 0.0235, 0.9765, 0.9804,\n",
      "        0.9843, 0.9882, 0.9922, 0.9961, 1.0000])\n"
     ]
    },
    {
     "name": "stderr",
     "output_type": "stream",
     "text": [
      "3657862414.py - 14-Feb-2025 18:39:24 - INFO - <module> - Line 71 - Current running loss: 0.2985\n"
     ]
    },
    {
     "name": "stdout",
     "output_type": "stream",
     "text": [
      "Unique values this tensor contain is :  tensor([-39.4946, -39.0309, -38.0349,  ...,  25.6928,  25.7456,  26.2688],\n",
      "       grad_fn=<Unique2Backward0>)\n",
      "10 131 24 143\n",
      "Unique values of isolated masks are :  tensor([0.0000, 0.0039, 0.0078, 0.0118, 0.0157, 0.0196, 0.9765, 0.9804, 0.9843,\n",
      "        0.9882, 0.9922, 0.9961, 1.0000])\n",
      "Unique values this tensor contain is :  tensor([-221.2890, -215.1190, -214.5509,  ...,   46.3944,   48.0924,\n",
      "          48.5861], grad_fn=<Unique2Backward0>)\n"
     ]
    },
    {
     "name": "stderr",
     "output_type": "stream",
     "text": [
      "3657862414.py - 14-Feb-2025 18:39:28 - INFO - <module> - Line 71 - Current running loss: 0.3006\n"
     ]
    },
    {
     "name": "stdout",
     "output_type": "stream",
     "text": [
      "683 125 735 180\n",
      "Unique values of isolated masks are :  tensor([0.0000, 0.0039, 0.0078, 0.0118, 0.0157, 0.0196, 0.9804, 0.9843, 0.9882,\n",
      "        0.9922, 0.9961, 1.0000])\n",
      "Unique values this tensor contain is :  tensor([-37.5708, -37.1218, -35.7033,  ...,  27.0534,  27.2615,  28.1293],\n",
      "       grad_fn=<Unique2Backward0>)\n"
     ]
    },
    {
     "name": "stderr",
     "output_type": "stream",
     "text": [
      "3657862414.py - 14-Feb-2025 18:39:32 - INFO - <module> - Line 71 - Current running loss: 0.3024\n"
     ]
    },
    {
     "name": "stdout",
     "output_type": "stream",
     "text": [
      "818 124 886 177\n",
      "Unique values of isolated masks are :  tensor([0.0000, 0.0039, 0.0078, 0.0118, 0.0157, 0.0196, 0.0235, 0.9725, 0.9804,\n",
      "        0.9843, 0.9882, 0.9922, 0.9961, 1.0000])\n"
     ]
    },
    {
     "name": "stderr",
     "output_type": "stream",
     "text": [
      "3657862414.py - 14-Feb-2025 18:39:37 - INFO - <module> - Line 71 - Current running loss: 0.3046\n"
     ]
    },
    {
     "name": "stdout",
     "output_type": "stream",
     "text": [
      "Unique values this tensor contain is :  tensor([-44.2227, -43.7323, -43.2658,  ...,  38.4731,  39.6655,  40.8579],\n",
      "       grad_fn=<Unique2Backward0>)\n",
      "337 109 392 162\n",
      "Unique values of isolated masks are :  tensor([0.0000, 0.0039, 0.0078, 0.0118, 0.0157, 0.0196, 0.9725, 0.9765, 0.9804,\n",
      "        0.9843, 0.9882, 0.9922, 0.9961, 1.0000])\n"
     ]
    },
    {
     "name": "stderr",
     "output_type": "stream",
     "text": [
      "3657862414.py - 14-Feb-2025 18:39:41 - INFO - <module> - Line 71 - Current running loss: 0.3055\n"
     ]
    },
    {
     "name": "stdout",
     "output_type": "stream",
     "text": [
      "Unique values this tensor contain is :  tensor([-28.2964, -27.8832, -27.6342,  ...,  19.0463,  19.1265,  19.7123],\n",
      "       grad_fn=<Unique2Backward0>)\n",
      "0 107 12 133\n",
      "Unique values of isolated masks are :  tensor([0.0000, 0.0039, 0.0078, 0.0118, 0.0157, 0.9804, 0.9843, 0.9882, 0.9922,\n",
      "        0.9961, 1.0000])\n"
     ]
    },
    {
     "name": "stderr",
     "output_type": "stream",
     "text": [
      "3657862414.py - 14-Feb-2025 18:39:46 - INFO - <module> - Line 71 - Current running loss: 0.3074\n"
     ]
    },
    {
     "name": "stdout",
     "output_type": "stream",
     "text": [
      "Unique values this tensor contain is :  tensor([-66.9396, -66.8931, -65.5309,  ...,  19.0547,  19.1068,  20.1460],\n",
      "       grad_fn=<Unique2Backward0>)\n",
      "702 95 737 129\n",
      "Unique values of isolated masks are :  tensor([0.0000, 0.0039, 0.0078, 0.0118, 0.0157, 0.0196, 0.0235, 0.9765, 0.9804,\n",
      "        0.9843, 0.9882, 0.9922, 0.9961, 1.0000])\n"
     ]
    },
    {
     "name": "stderr",
     "output_type": "stream",
     "text": [
      "3657862414.py - 14-Feb-2025 18:39:50 - INFO - <module> - Line 71 - Current running loss: 0.3101\n"
     ]
    },
    {
     "name": "stdout",
     "output_type": "stream",
     "text": [
      "Unique values this tensor contain is :  tensor([-70.6579, -70.1912, -67.7584,  ...,  34.8345,  35.4623,  36.0900],\n",
      "       grad_fn=<Unique2Backward0>)\n",
      "840 84 943 171\n",
      "Unique values of isolated masks are :  tensor([0.0000, 0.0039, 0.0078, 0.0118, 0.0157, 0.0196, 0.0235, 0.0275, 0.9725,\n",
      "        0.9765, 0.9804, 0.9843, 0.9882, 0.9922, 0.9961, 1.0000])\n"
     ]
    },
    {
     "name": "stderr",
     "output_type": "stream",
     "text": [
      "3657862414.py - 14-Feb-2025 18:39:55 - INFO - <module> - Line 71 - Current running loss: 0.3137\n"
     ]
    },
    {
     "name": "stdout",
     "output_type": "stream",
     "text": [
      "Unique values this tensor contain is :  tensor([-24.3763, -23.5788, -23.5306,  ...,  12.6657,  13.6683,  13.6746],\n",
      "       grad_fn=<Unique2Backward0>)\n",
      "279 83 337 144\n",
      "Unique values of isolated masks are :  tensor([0.0000, 0.0039, 0.0078, 0.0118, 0.0157, 0.0196, 0.0235, 0.9765, 0.9804,\n",
      "        0.9843, 0.9882, 0.9922, 0.9961, 1.0000])\n"
     ]
    },
    {
     "name": "stderr",
     "output_type": "stream",
     "text": [
      "3657862414.py - 14-Feb-2025 18:39:59 - INFO - <module> - Line 71 - Current running loss: 0.3145\n"
     ]
    },
    {
     "name": "stdout",
     "output_type": "stream",
     "text": [
      "Unique values this tensor contain is :  tensor([-32.7968, -32.6086, -31.7076,  ...,  21.4552,  22.2611,  22.8790],\n",
      "       grad_fn=<Unique2Backward0>)\n",
      "141 78 168 105\n",
      "Unique values of isolated masks are :  tensor([0.0000, 0.0039, 0.0078, 0.0118, 0.0157, 0.0196, 0.0235, 0.9804, 0.9843,\n",
      "        0.9882, 0.9922, 0.9961, 1.0000])\n"
     ]
    },
    {
     "name": "stderr",
     "output_type": "stream",
     "text": [
      "3657862414.py - 14-Feb-2025 18:40:04 - INFO - <module> - Line 71 - Current running loss: 0.3153\n"
     ]
    },
    {
     "name": "stdout",
     "output_type": "stream",
     "text": [
      "Unique values this tensor contain is :  tensor([-78.1533, -77.5846, -77.0159,  ...,  45.0749,  45.6942,  46.8408],\n",
      "       grad_fn=<Unique2Backward0>)\n",
      "169 63 180 74\n",
      "Unique values of isolated masks are :  tensor([0.0000, 0.0039, 0.0078, 0.0118, 0.0157, 0.9843, 0.9882, 0.9922, 0.9961,\n",
      "        1.0000])\n"
     ]
    },
    {
     "name": "stderr",
     "output_type": "stream",
     "text": [
      "3657862414.py - 14-Feb-2025 18:40:08 - INFO - <module> - Line 71 - Current running loss: 0.3180\n"
     ]
    },
    {
     "name": "stdout",
     "output_type": "stream",
     "text": [
      "Unique values this tensor contain is :  tensor([-156.2117, -154.7683, -153.3250,  ...,   52.5061,   58.4259,\n",
      "          61.9335], grad_fn=<Unique2Backward0>)\n",
      "80 51 138 109\n",
      "Unique values of isolated masks are :  tensor([0.0000, 0.0039, 0.0078, 0.0118, 0.0157, 0.0196, 0.0235, 0.9765, 0.9804,\n",
      "        0.9843, 0.9882, 0.9922, 0.9961, 1.0000])\n"
     ]
    },
    {
     "name": "stderr",
     "output_type": "stream",
     "text": [
      "3657862414.py - 14-Feb-2025 18:40:12 - INFO - <module> - Line 71 - Current running loss: 0.3197\n"
     ]
    },
    {
     "name": "stdout",
     "output_type": "stream",
     "text": [
      "Unique values this tensor contain is :  tensor([-35.4822, -34.9978, -34.8036,  ...,  24.3132,  24.3931,  24.4730],\n",
      "       grad_fn=<Unique2Backward0>)\n",
      "576 50 637 128\n",
      "Unique values of isolated masks are :  tensor([0.0000, 0.0039, 0.0078, 0.0118, 0.0157, 0.0196, 0.0235, 0.0275, 0.9765,\n",
      "        0.9804, 0.9843, 0.9882, 0.9922, 0.9961, 1.0000])\n"
     ]
    },
    {
     "name": "stderr",
     "output_type": "stream",
     "text": [
      "3657862414.py - 14-Feb-2025 18:40:16 - INFO - <module> - Line 71 - Current running loss: 0.3208\n"
     ]
    },
    {
     "name": "stdout",
     "output_type": "stream",
     "text": [
      "Unique values this tensor contain is :  tensor([-47.7790, -46.7508, -46.2944,  ...,  23.2925,  23.3892,  23.4374],\n",
      "       grad_fn=<Unique2Backward0>)\n",
      "210 43 283 119\n",
      "Unique values of isolated masks are :  tensor([0.0000, 0.0039, 0.0078, 0.0118, 0.0157, 0.0196, 0.0235, 0.0275, 0.9804,\n",
      "        0.9843, 0.9882, 0.9922, 0.9961, 1.0000])\n"
     ]
    },
    {
     "name": "stderr",
     "output_type": "stream",
     "text": [
      "3657862414.py - 14-Feb-2025 18:40:21 - INFO - <module> - Line 71 - Current running loss: 0.3214\n"
     ]
    },
    {
     "name": "stdout",
     "output_type": "stream",
     "text": [
      "Unique values this tensor contain is :  tensor([-47.8745, -46.9800, -46.8955,  ...,  23.2784,  23.3246,  23.5002],\n",
      "       grad_fn=<Unique2Backward0>)\n",
      "523 39 575 92\n",
      "Unique values of isolated masks are :  tensor([0.0000, 0.0039, 0.0078, 0.0118, 0.0157, 0.0196, 0.9804, 0.9843, 0.9882,\n",
      "        0.9922, 0.9961, 1.0000])\n"
     ]
    },
    {
     "name": "stderr",
     "output_type": "stream",
     "text": [
      "3657862414.py - 14-Feb-2025 18:40:25 - INFO - <module> - Line 71 - Current running loss: 0.3237\n"
     ]
    },
    {
     "name": "stdout",
     "output_type": "stream",
     "text": [
      "Unique values this tensor contain is :  tensor([-36.7172, -35.8249, -34.4127,  ...,  18.4908,  18.5714,  19.4653],\n",
      "       grad_fn=<Unique2Backward0>)\n",
      "55 35 99 86\n",
      "Unique values of isolated masks are :  tensor([0.0000, 0.0039, 0.0078, 0.0118, 0.0157, 0.0196, 0.0235, 0.0275, 0.9765,\n",
      "        0.9804, 0.9843, 0.9882, 0.9922, 0.9961, 1.0000])\n"
     ]
    },
    {
     "name": "stderr",
     "output_type": "stream",
     "text": [
      "3657862414.py - 14-Feb-2025 18:40:30 - INFO - <module> - Line 71 - Current running loss: 0.3263\n"
     ]
    },
    {
     "name": "stdout",
     "output_type": "stream",
     "text": [
      "Unique values this tensor contain is :  tensor([-40.1909, -39.6534, -39.4058,  ...,  20.4864,  21.0557,  21.6250],\n",
      "       grad_fn=<Unique2Backward0>)\n",
      "0 34 36 68\n",
      "Unique values of isolated masks are :  tensor([0.0000, 0.0039, 0.0078, 0.0118, 0.0157, 0.0196, 0.0275, 0.9725, 0.9765,\n",
      "        0.9804, 0.9843, 0.9882, 0.9922, 0.9961, 1.0000])\n"
     ]
    },
    {
     "name": "stderr",
     "output_type": "stream",
     "text": [
      "3657862414.py - 14-Feb-2025 18:40:34 - INFO - <module> - Line 71 - Current running loss: 0.3280\n"
     ]
    },
    {
     "name": "stdout",
     "output_type": "stream",
     "text": [
      "Unique values this tensor contain is :  tensor([-40.6847, -40.3617, -39.8455,  ...,  36.9888,  38.5499,  38.6404],\n",
      "       grad_fn=<Unique2Backward0>)\n",
      "589 31 600 42\n",
      "Unique values of isolated masks are :  tensor([0.0000, 0.0039, 0.0078, 0.0118, 0.0157, 0.0196, 0.0235, 0.9843, 0.9882,\n",
      "        0.9922, 0.9961, 1.0000])\n"
     ]
    },
    {
     "name": "stderr",
     "output_type": "stream",
     "text": [
      "3657862414.py - 14-Feb-2025 18:40:39 - INFO - <module> - Line 71 - Current running loss: 0.3298\n"
     ]
    },
    {
     "name": "stdout",
     "output_type": "stream",
     "text": [
      "Unique values this tensor contain is :  tensor([-129.6240, -128.8798, -123.9055,  ...,   35.3753,   35.5852,\n",
      "          37.0336], grad_fn=<Unique2Backward0>)\n",
      "172 16 220 92\n",
      "Unique values of isolated masks are :  tensor([0.0000, 0.0039, 0.0078, 0.0118, 0.0157, 0.0196, 0.9725, 0.9804, 0.9843,\n",
      "        0.9882, 0.9922, 0.9961, 1.0000])\n"
     ]
    },
    {
     "name": "stderr",
     "output_type": "stream",
     "text": [
      "3657862414.py - 14-Feb-2025 18:40:43 - INFO - <module> - Line 71 - Current running loss: 0.3311\n"
     ]
    },
    {
     "name": "stdout",
     "output_type": "stream",
     "text": [
      "Unique values this tensor contain is :  tensor([-34.1292, -33.7626, -33.2591,  ...,  20.1964,  20.4380,  20.4867],\n",
      "       grad_fn=<Unique2Backward0>)\n",
      "593 15 605 28\n",
      "Unique values of isolated masks are :  tensor([0.0000, 0.0039, 0.0078, 0.0118, 0.0157, 0.9804, 0.9843, 0.9882, 0.9922,\n",
      "        0.9961, 1.0000])\n"
     ]
    },
    {
     "name": "stderr",
     "output_type": "stream",
     "text": [
      "3657862414.py - 14-Feb-2025 18:40:48 - INFO - <module> - Line 71 - Current running loss: 0.3328\n"
     ]
    },
    {
     "name": "stdout",
     "output_type": "stream",
     "text": [
      "Unique values this tensor contain is :  tensor([-122.6882, -122.0587, -120.2926,  ...,  106.2603,  109.9025,\n",
      "         112.8347], grad_fn=<Unique2Backward0>)\n",
      "480 15 526 75\n",
      "Unique values of isolated masks are :  tensor([0.0000, 0.0039, 0.0078, 0.0118, 0.0157, 0.0196, 0.0235, 0.0275, 0.9725,\n",
      "        0.9765, 0.9804, 0.9843, 0.9882, 0.9922, 0.9961, 1.0000])\n"
     ]
    },
    {
     "name": "stderr",
     "output_type": "stream",
     "text": [
      "3657862414.py - 14-Feb-2025 18:40:52 - INFO - <module> - Line 71 - Current running loss: 0.3343\n"
     ]
    },
    {
     "name": "stdout",
     "output_type": "stream",
     "text": [
      "Unique values this tensor contain is :  tensor([-26.8194, -26.2047, -25.8079,  ...,  18.0135,  18.1616,  18.3803],\n",
      "       grad_fn=<Unique2Backward0>)\n",
      "613 12 646 46\n",
      "Unique values of isolated masks are :  tensor([0.0000, 0.0039, 0.0078, 0.0118, 0.0157, 0.0196, 0.0235, 0.9765, 0.9804,\n",
      "        0.9843, 0.9882, 0.9922, 0.9961, 1.0000])\n"
     ]
    },
    {
     "name": "stderr",
     "output_type": "stream",
     "text": [
      "3657862414.py - 14-Feb-2025 18:40:56 - INFO - <module> - Line 71 - Current running loss: 0.3351\n"
     ]
    },
    {
     "name": "stdout",
     "output_type": "stream",
     "text": [
      "Unique values this tensor contain is :  tensor([-53.6068, -52.5285, -51.7094,  ...,  25.5838,  26.0954,  26.8643],\n",
      "       grad_fn=<Unique2Backward0>)\n",
      "524 1 552 29\n",
      "Unique values of isolated masks are :  tensor([0.0000, 0.0039, 0.0078, 0.0118, 0.0157, 0.0196, 0.9765, 0.9804, 0.9843,\n",
      "        0.9882, 0.9922, 0.9961, 1.0000])\n"
     ]
    },
    {
     "name": "stderr",
     "output_type": "stream",
     "text": [
      "3657862414.py - 14-Feb-2025 18:41:01 - INFO - <module> - Line 71 - Current running loss: 0.3371\n"
     ]
    },
    {
     "name": "stdout",
     "output_type": "stream",
     "text": [
      "Unique values this tensor contain is :  tensor([-47.1085, -46.9578, -45.7653,  ...,  34.6292,  35.2373,  35.8453],\n",
      "       grad_fn=<Unique2Backward0>)\n",
      "662 0 672 4\n",
      "Unique values of isolated masks are :  tensor([0.0000, 0.0039, 0.0078, 0.9804, 0.9922, 0.9961, 1.0000])\n"
     ]
    },
    {
     "name": "stderr",
     "output_type": "stream",
     "text": [
      "3657862414.py - 14-Feb-2025 18:41:05 - INFO - <module> - Line 71 - Current running loss: 0.3405\n"
     ]
    },
    {
     "name": "stdout",
     "output_type": "stream",
     "text": [
      "Unique values this tensor contain is :  tensor([-141.8745, -139.3902, -138.6610,  ...,   31.7651,   32.7002,\n",
      "          34.8791], grad_fn=<Unique2Backward0>)\n",
      "431 0 499 41\n",
      "Unique values of isolated masks are :  tensor([0.0000, 0.0039, 0.0078, 0.0118, 0.0157, 0.0196, 0.0235, 0.9765, 0.9804,\n",
      "        0.9843, 0.9882, 0.9922, 0.9961, 1.0000])\n"
     ]
    },
    {
     "name": "stderr",
     "output_type": "stream",
     "text": [
      "3657862414.py - 14-Feb-2025 18:41:10 - INFO - <module> - Line 71 - Current running loss: 0.3418\n"
     ]
    },
    {
     "name": "stdout",
     "output_type": "stream",
     "text": [
      "Unique values this tensor contain is :  tensor([-25.3979, -25.2302, -24.9623,  ...,  20.2497,  20.2713,  20.5313],\n",
      "       grad_fn=<Unique2Backward0>)\n",
      "384 0 420 20\n",
      "Unique values of isolated masks are :  tensor([0.0000, 0.0039, 0.0078, 0.0118, 0.0157, 0.0196, 0.9725, 0.9804, 0.9843,\n",
      "        0.9882, 0.9922, 0.9961, 1.0000])\n"
     ]
    },
    {
     "name": "stderr",
     "output_type": "stream",
     "text": [
      "3657862414.py - 14-Feb-2025 18:41:14 - INFO - <module> - Line 71 - Current running loss: 0.3425\n"
     ]
    },
    {
     "name": "stdout",
     "output_type": "stream",
     "text": [
      "Unique values this tensor contain is :  tensor([-44.3757, -43.7171, -42.9501,  ...,  28.6061,  28.7697,  29.2539],\n",
      "       grad_fn=<Unique2Backward0>)\n",
      "122 0 177 56\n",
      "Unique values of isolated masks are :  tensor([0.0000, 0.0039, 0.0078, 0.0118, 0.0157, 0.0196, 0.9765, 0.9804, 0.9843,\n",
      "        0.9882, 0.9922, 0.9961, 1.0000])\n"
     ]
    },
    {
     "name": "stderr",
     "output_type": "stream",
     "text": [
      "3657862414.py - 14-Feb-2025 18:41:19 - INFO - <module> - Line 71 - Current running loss: 0.3434\n"
     ]
    },
    {
     "name": "stdout",
     "output_type": "stream",
     "text": [
      "Unique values this tensor contain is :  tensor([-32.7354, -32.5289, -32.3865,  ...,  24.2731,  24.3474,  25.4714],\n",
      "       grad_fn=<Unique2Backward0>)\n",
      "69 0 114 37\n",
      "Unique values of isolated masks are :  tensor([0.0000, 0.0039, 0.0078, 0.0118, 0.0157, 0.0196, 0.9725, 0.9765, 0.9804,\n",
      "        0.9843, 0.9882, 0.9922, 0.9961, 1.0000])\n",
      "Unique values this tensor contain is :  tensor([-20.9352, -20.9085, -20.8325,  ...,   9.3151,   9.3266,   9.3972],\n",
      "       grad_fn=<Unique2Backward0>)\n"
     ]
    },
    {
     "name": "stderr",
     "output_type": "stream",
     "text": [
      "3657862414.py - 14-Feb-2025 18:41:23 - INFO - <module> - Line 71 - Current running loss: 0.3477\n",
      "3657862414.py - 14-Feb-2025 18:41:23 - INFO - <module> - Line 24 - Bounding Box Coordinates: 7\n"
     ]
    },
    {
     "name": "stdout",
     "output_type": "stream",
     "text": [
      "928 1022 937 1024\n",
      "Unique values of isolated masks are :  tensor([0.0000, 0.0039, 0.0078, 0.9922, 0.9961, 1.0000])\n"
     ]
    },
    {
     "name": "stderr",
     "output_type": "stream",
     "text": [
      "3657862414.py - 14-Feb-2025 18:41:28 - INFO - <module> - Line 71 - Current running loss: 0.4807\n"
     ]
    },
    {
     "name": "stdout",
     "output_type": "stream",
     "text": [
      "Unique values this tensor contain is :  tensor([-46.0857, -46.0792, -46.0429,  ...,   5.6442,   5.7136,   5.7831],\n",
      "       grad_fn=<Unique2Backward0>)\n",
      "968 1015 1011 1024\n",
      "Unique values of isolated masks are :  tensor([0.0000, 0.0039, 0.0078, 0.0118, 0.0157, 0.9804, 0.9843, 0.9882, 0.9922,\n",
      "        0.9961, 1.0000])\n",
      "Unique values this tensor contain is :  tensor([-26.0877, -26.0426, -25.8332,  ...,  15.4791,  15.5631,  16.2016],\n",
      "       grad_fn=<Unique2Backward0>)\n"
     ]
    },
    {
     "name": "stderr",
     "output_type": "stream",
     "text": [
      "3657862414.py - 14-Feb-2025 18:41:32 - INFO - <module> - Line 71 - Current running loss: 0.5360\n"
     ]
    },
    {
     "name": "stdout",
     "output_type": "stream",
     "text": [
      "824 225 901 292\n",
      "Unique values of isolated masks are :  tensor([0.0000, 0.0039, 0.0078, 0.0118, 0.0157, 0.0196, 0.0235, 0.0275, 0.9765,\n",
      "        0.9804, 0.9843, 0.9882, 0.9922, 0.9961, 1.0000])\n",
      "Unique values this tensor contain is :  tensor([-26.0942, -26.0399, -25.9855,  ...,  21.1098,  21.1359,  21.5241],\n",
      "       grad_fn=<Unique2Backward0>)\n"
     ]
    },
    {
     "name": "stderr",
     "output_type": "stream",
     "text": [
      "3657862414.py - 14-Feb-2025 18:41:37 - INFO - <module> - Line 71 - Current running loss: 0.5500\n"
     ]
    },
    {
     "name": "stdout",
     "output_type": "stream",
     "text": [
      "996 164 1024 229\n",
      "Unique values of isolated masks are :  tensor([0.0000, 0.0039, 0.0078, 0.0118, 0.0157, 0.0196, 0.0235, 0.0275, 0.9804,\n",
      "        0.9843, 0.9882, 0.9922, 0.9961, 1.0000])\n"
     ]
    },
    {
     "name": "stderr",
     "output_type": "stream",
     "text": [
      "3657862414.py - 14-Feb-2025 18:41:41 - INFO - <module> - Line 71 - Current running loss: 0.5561\n"
     ]
    },
    {
     "name": "stdout",
     "output_type": "stream",
     "text": [
      "Unique values this tensor contain is :  tensor([-44.6074, -44.4941, -43.8224,  ...,  37.4057,  37.5075,  37.5584],\n",
      "       grad_fn=<Unique2Backward0>)\n",
      "810 162 889 227\n",
      "Unique values of isolated masks are :  tensor([0.0000, 0.0039, 0.0078, 0.0118, 0.0157, 0.0196, 0.0235, 0.0275, 0.9725,\n",
      "        0.9765, 0.9804, 0.9843, 0.9882, 0.9922, 0.9961, 1.0000])\n",
      "Unique values this tensor contain is :  tensor([-25.1391, -25.0566, -23.6116,  ...,  18.7695,  18.9273,  19.1232],\n",
      "       grad_fn=<Unique2Backward0>)\n"
     ]
    },
    {
     "name": "stderr",
     "output_type": "stream",
     "text": [
      "3657862414.py - 14-Feb-2025 18:41:46 - INFO - <module> - Line 71 - Current running loss: 0.5698\n"
     ]
    },
    {
     "name": "stdout",
     "output_type": "stream",
     "text": [
      "924 141 992 258\n",
      "Unique values of isolated masks are :  tensor([0.0000, 0.0039, 0.0078, 0.0118, 0.0157, 0.0196, 0.0235, 0.0275, 0.9725,\n",
      "        0.9765, 0.9804, 0.9843, 0.9882, 0.9922, 0.9961, 1.0000])\n",
      "Unique values this tensor contain is :  tensor([-22.5404, -22.3430, -22.1973,  ...,  15.8120,  16.0968,  16.9964],\n",
      "       grad_fn=<Unique2Backward0>)\n"
     ]
    },
    {
     "name": "stderr",
     "output_type": "stream",
     "text": [
      "3657862414.py - 14-Feb-2025 18:41:50 - INFO - <module> - Line 71 - Current running loss: 0.5816\n"
     ]
    },
    {
     "name": "stdout",
     "output_type": "stream",
     "text": [
      "983 97 1024 145\n",
      "Unique values of isolated masks are :  tensor([0.0000, 0.0039, 0.0078, 0.0118, 0.0157, 0.0196, 0.0235, 0.9725, 0.9804,\n",
      "        0.9843, 0.9882, 0.9922, 0.9961, 1.0000])\n",
      "Unique values this tensor contain is :  tensor([-42.0373, -41.5551, -41.0728,  ...,  21.9000,  22.0764,  22.2527],\n",
      "       grad_fn=<Unique2Backward0>)\n"
     ]
    },
    {
     "name": "stderr",
     "output_type": "stream",
     "text": [
      "3657862414.py - 14-Feb-2025 18:41:55 - INFO - <module> - Line 71 - Current running loss: 0.5900\n",
      "3657862414.py - 14-Feb-2025 18:41:55 - INFO - <module> - Line 24 - Bounding Box Coordinates: 4\n"
     ]
    },
    {
     "name": "stdout",
     "output_type": "stream",
     "text": [
      "718 700 767 758\n",
      "Unique values of isolated masks are :  tensor([0.0000, 0.0039, 0.0078, 0.0118, 0.0157, 0.0196, 0.0235, 0.9725, 0.9804,\n",
      "        0.9843, 0.9882, 0.9922, 0.9961, 1.0000])\n",
      "Unique values this tensor contain is :  tensor([-59.3889, -58.5762, -58.4531,  ...,  32.3139,  35.2189,  35.2549],\n",
      "       grad_fn=<Unique2Backward0>)\n"
     ]
    },
    {
     "name": "stderr",
     "output_type": "stream",
     "text": [
      "3657862414.py - 14-Feb-2025 18:41:59 - INFO - <module> - Line 71 - Current running loss: 0.6020\n"
     ]
    },
    {
     "name": "stdout",
     "output_type": "stream",
     "text": [
      "718 607 743 631\n",
      "Unique values of isolated masks are :  tensor([0.0000, 0.0039, 0.0078, 0.0118, 0.0157, 0.0196, 0.9725, 0.9765, 0.9804,\n",
      "        0.9843, 0.9882, 0.9922, 0.9961, 1.0000])\n"
     ]
    },
    {
     "name": "stderr",
     "output_type": "stream",
     "text": [
      "3657862414.py - 14-Feb-2025 18:42:04 - INFO - <module> - Line 71 - Current running loss: 0.6301\n"
     ]
    },
    {
     "name": "stdout",
     "output_type": "stream",
     "text": [
      "Unique values this tensor contain is :  tensor([-131.7535, -129.3610, -127.9237,  ...,   80.3742,   80.6407,\n",
      "          82.8892], grad_fn=<Unique2Backward0>)\n",
      "566 190 575 199\n",
      "Unique values of isolated masks are :  tensor([0.0000, 0.0039, 0.0078, 0.0118, 0.0196, 0.0314, 0.9882, 0.9922, 0.9961,\n",
      "        1.0000])\n",
      "Unique values this tensor contain is :  tensor([-401.3840, -391.6307, -383.2705,  ...,  197.1651,  199.5704,\n",
      "         201.7980], grad_fn=<Unique2Backward0>)\n"
     ]
    },
    {
     "name": "stderr",
     "output_type": "stream",
     "text": [
      "3657862414.py - 14-Feb-2025 18:42:09 - INFO - <module> - Line 71 - Current running loss: 0.6551\n"
     ]
    },
    {
     "name": "stdout",
     "output_type": "stream",
     "text": [
      "209 4 262 42\n",
      "Unique values of isolated masks are :  tensor([0.0000, 0.0039, 0.0078, 0.0118, 0.0157, 0.0196, 0.0275, 0.9765, 0.9804,\n",
      "        0.9843, 0.9882, 0.9922, 0.9961, 1.0000])\n",
      "Unique values this tensor contain is :  tensor([-21.2952, -21.2242, -21.1999,  ...,  20.0757,  20.6596,  20.7498],\n",
      "       grad_fn=<Unique2Backward0>)\n"
     ]
    },
    {
     "name": "stderr",
     "output_type": "stream",
     "text": [
      "3657862414.py - 14-Feb-2025 18:42:13 - INFO - <module> - Line 71 - Current running loss: 0.6991\n",
      "3657862414.py - 14-Feb-2025 18:42:13 - INFO - <module> - Line 24 - Bounding Box Coordinates: 0\n",
      "3657862414.py - 14-Feb-2025 18:42:13 - INFO - <module> - Line 24 - Bounding Box Coordinates: 77\n"
     ]
    },
    {
     "name": "stdout",
     "output_type": "stream",
     "text": [
      "790 1018 801 1024\n",
      "Unique values of isolated masks are :  tensor([0.0000, 0.0039, 0.0078, 0.9843, 0.9882, 0.9922, 0.9961, 1.0000])\n"
     ]
    },
    {
     "name": "stderr",
     "output_type": "stream",
     "text": [
      "3657862414.py - 14-Feb-2025 18:42:18 - INFO - <module> - Line 71 - Current running loss: 0.7013\n"
     ]
    },
    {
     "name": "stdout",
     "output_type": "stream",
     "text": [
      "Unique values this tensor contain is :  tensor([-77.3331, -75.2470, -75.1682,  ...,  18.4194,  18.4981,  18.5767],\n",
      "       grad_fn=<Unique2Backward0>)\n",
      "290 1006 316 1024\n",
      "Unique values of isolated masks are :  tensor([0.0000, 0.0039, 0.0078, 0.0118, 0.0157, 0.0196, 0.9804, 0.9843, 0.9882,\n",
      "        0.9922, 0.9961, 1.0000])\n"
     ]
    },
    {
     "name": "stderr",
     "output_type": "stream",
     "text": [
      "3657862414.py - 14-Feb-2025 18:42:22 - INFO - <module> - Line 71 - Current running loss: 0.7050\n"
     ]
    },
    {
     "name": "stdout",
     "output_type": "stream",
     "text": [
      "Unique values this tensor contain is :  tensor([-30.6201, -30.6049, -30.2453,  ...,  29.9207,  30.0004,  30.4701],\n",
      "       grad_fn=<Unique2Backward0>)\n",
      "201 992 269 1024\n",
      "Unique values of isolated masks are :  tensor([0.0000, 0.0039, 0.0078, 0.0118, 0.0157, 0.0196, 0.9765, 0.9804, 0.9843,\n",
      "        0.9882, 0.9922, 0.9961, 1.0000])\n",
      "Unique values this tensor contain is :  tensor([-24.0414, -23.8804, -23.8252,  ...,  20.5302,  20.7452,  21.4412],\n",
      "       grad_fn=<Unique2Backward0>)\n"
     ]
    },
    {
     "name": "stderr",
     "output_type": "stream",
     "text": [
      "3657862414.py - 14-Feb-2025 18:42:27 - INFO - <module> - Line 71 - Current running loss: 0.7066\n"
     ]
    },
    {
     "name": "stdout",
     "output_type": "stream",
     "text": [
      "144 942 217 1011\n",
      "Unique values of isolated masks are :  tensor([0.0000, 0.0039, 0.0078, 0.0118, 0.0157, 0.0196, 0.0235, 0.9725, 0.9765,\n",
      "        0.9804, 0.9843, 0.9882, 0.9922, 0.9961, 1.0000])\n"
     ]
    },
    {
     "name": "stderr",
     "output_type": "stream",
     "text": [
      "3657862414.py - 14-Feb-2025 18:42:31 - INFO - <module> - Line 71 - Current running loss: 0.7080\n"
     ]
    },
    {
     "name": "stdout",
     "output_type": "stream",
     "text": [
      "Unique values this tensor contain is :  tensor([-25.8954, -25.7428, -25.7282,  ...,  20.6544,  21.0752,  21.2566],\n",
      "       grad_fn=<Unique2Backward0>)\n",
      "257 920 342 1004\n",
      "Unique values of isolated masks are :  tensor([0.0000, 0.0039, 0.0078, 0.0118, 0.0157, 0.0196, 0.0235, 0.0275, 0.9725,\n",
      "        0.9765, 0.9804, 0.9843, 0.9882, 0.9922, 0.9961, 1.0000])\n"
     ]
    },
    {
     "name": "stderr",
     "output_type": "stream",
     "text": [
      "3657862414.py - 14-Feb-2025 18:42:36 - INFO - <module> - Line 71 - Current running loss: 0.7086\n"
     ]
    },
    {
     "name": "stdout",
     "output_type": "stream",
     "text": [
      "Unique values this tensor contain is :  tensor([-19.1453, -18.7603, -18.4275,  ...,  15.7171,  16.3063,  16.7752],\n",
      "       grad_fn=<Unique2Backward0>)\n",
      "189 875 269 936\n",
      "Unique values of isolated masks are :  tensor([0.0000, 0.0039, 0.0078, 0.0118, 0.0157, 0.0196, 0.0235, 0.9765, 0.9804,\n",
      "        0.9843, 0.9882, 0.9922, 0.9961, 1.0000])\n"
     ]
    },
    {
     "name": "stderr",
     "output_type": "stream",
     "text": [
      "3657862414.py - 14-Feb-2025 18:42:40 - INFO - <module> - Line 71 - Current running loss: 0.7097\n"
     ]
    },
    {
     "name": "stdout",
     "output_type": "stream",
     "text": [
      "Unique values this tensor contain is :  tensor([-25.0690, -24.4436, -23.9028,  ...,  21.6077,  21.8590,  22.4856],\n",
      "       grad_fn=<Unique2Backward0>)\n",
      "250 832 305 890\n",
      "Unique values of isolated masks are :  tensor([0.0000, 0.0039, 0.0078, 0.0118, 0.0157, 0.0196, 0.0235, 0.9765, 0.9804,\n",
      "        0.9843, 0.9882, 0.9922, 0.9961, 1.0000])\n"
     ]
    },
    {
     "name": "stderr",
     "output_type": "stream",
     "text": [
      "3657862414.py - 14-Feb-2025 18:42:45 - INFO - <module> - Line 71 - Current running loss: 0.7104\n"
     ]
    },
    {
     "name": "stdout",
     "output_type": "stream",
     "text": [
      "Unique values this tensor contain is :  tensor([-22.0855, -21.4106, -21.4068,  ...,  23.0132,  23.0965,  23.3291],\n",
      "       grad_fn=<Unique2Backward0>)\n",
      "101 795 243 972\n",
      "Unique values of isolated masks are :  tensor([0.0000, 0.0039, 0.0078, 0.0118, 0.0157, 0.0196, 0.0235, 0.0275, 0.9725,\n",
      "        0.9765, 0.9804, 0.9843, 0.9882, 0.9922, 0.9961, 1.0000])\n",
      "Unique values this tensor contain is :  tensor([-17.5189, -17.4388, -17.2147,  ...,  12.0390,  12.1909,  12.2757],\n",
      "       grad_fn=<Unique2Backward0>)\n"
     ]
    },
    {
     "name": "stderr",
     "output_type": "stream",
     "text": [
      "3657862414.py - 14-Feb-2025 18:42:49 - INFO - <module> - Line 71 - Current running loss: 0.7135\n"
     ]
    },
    {
     "name": "stdout",
     "output_type": "stream",
     "text": [
      "6 741 138 927\n",
      "Unique values of isolated masks are :  tensor([0.0000, 0.0039, 0.0078, 0.0118, 0.0157, 0.0196, 0.0235, 0.0275, 0.9725,\n",
      "        0.9765, 0.9804, 0.9843, 0.9882, 0.9922, 0.9961, 1.0000])\n",
      "Unique values this tensor contain is :  tensor([-20.2361, -19.5389, -18.8709,  ...,  14.7679,  14.7840,  14.9843],\n",
      "       grad_fn=<Unique2Backward0>)\n"
     ]
    },
    {
     "name": "stderr",
     "output_type": "stream",
     "text": [
      "3657862414.py - 14-Feb-2025 18:42:54 - INFO - <module> - Line 71 - Current running loss: 0.7160\n"
     ]
    },
    {
     "name": "stdout",
     "output_type": "stream",
     "text": [
      "492 735 548 797\n",
      "Unique values of isolated masks are :  tensor([0.0000, 0.0039, 0.0078, 0.0118, 0.0157, 0.0196, 0.9725, 0.9804, 0.9843,\n",
      "        0.9882, 0.9922, 0.9961, 1.0000])\n"
     ]
    },
    {
     "name": "stderr",
     "output_type": "stream",
     "text": [
      "3657862414.py - 14-Feb-2025 18:42:58 - INFO - <module> - Line 71 - Current running loss: 0.7176\n"
     ]
    },
    {
     "name": "stdout",
     "output_type": "stream",
     "text": [
      "Unique values this tensor contain is :  tensor([-37.7508, -37.6166, -37.1387,  ...,  26.3692,  27.3135,  27.3970],\n",
      "       grad_fn=<Unique2Backward0>)\n",
      "237 727 322 804\n",
      "Unique values of isolated masks are :  tensor([0.0000, 0.0039, 0.0078, 0.0118, 0.0157, 0.0196, 0.0235, 0.0275, 0.9725,\n",
      "        0.9765, 0.9804, 0.9843, 0.9882, 0.9922, 0.9961, 1.0000])\n"
     ]
    },
    {
     "name": "stderr",
     "output_type": "stream",
     "text": [
      "3657862414.py - 14-Feb-2025 18:43:02 - INFO - <module> - Line 71 - Current running loss: 0.7199\n"
     ]
    },
    {
     "name": "stdout",
     "output_type": "stream",
     "text": [
      "Unique values this tensor contain is :  tensor([-16.6219, -16.5938, -16.4345,  ...,  10.8886,  11.0371,  11.3001],\n",
      "       grad_fn=<Unique2Backward0>)\n",
      "617 724 661 767\n",
      "Unique values of isolated masks are :  tensor([0.0000, 0.0039, 0.0078, 0.0118, 0.0157, 0.0196, 0.0235, 0.9725, 0.9804,\n",
      "        0.9843, 0.9882, 0.9922, 0.9961, 1.0000])\n",
      "Unique values this tensor contain is :  tensor([-25.2327, -25.1002, -25.0466,  ...,  14.7456,  14.9484,  15.4349],\n",
      "       grad_fn=<Unique2Backward0>)\n"
     ]
    },
    {
     "name": "stderr",
     "output_type": "stream",
     "text": [
      "3657862414.py - 14-Feb-2025 18:43:07 - INFO - <module> - Line 71 - Current running loss: 0.7234\n"
     ]
    },
    {
     "name": "stdout",
     "output_type": "stream",
     "text": [
      "538 696 582 747\n",
      "Unique values of isolated masks are :  tensor([0.0000, 0.0039, 0.0078, 0.0118, 0.0157, 0.0196, 0.0235, 0.0275, 0.9804,\n",
      "        0.9843, 0.9882, 0.9922, 0.9961, 1.0000])\n"
     ]
    },
    {
     "name": "stderr",
     "output_type": "stream",
     "text": [
      "3657862414.py - 14-Feb-2025 18:43:11 - INFO - <module> - Line 71 - Current running loss: 0.7274\n"
     ]
    },
    {
     "name": "stdout",
     "output_type": "stream",
     "text": [
      "Unique values this tensor contain is :  tensor([-28.5350, -28.2564, -27.8364,  ...,  28.9860,  30.0209,  31.2273],\n",
      "       grad_fn=<Unique2Backward0>)\n",
      "208 686 255 727\n",
      "Unique values of isolated masks are :  tensor([0.0000, 0.0039, 0.0078, 0.0118, 0.0157, 0.0196, 0.0235, 0.0275, 0.9765,\n",
      "        0.9804, 0.9843, 0.9882, 0.9922, 0.9961, 1.0000])\n"
     ]
    },
    {
     "name": "stderr",
     "output_type": "stream",
     "text": [
      "3657862414.py - 14-Feb-2025 18:43:16 - INFO - <module> - Line 71 - Current running loss: 0.7292\n"
     ]
    },
    {
     "name": "stdout",
     "output_type": "stream",
     "text": [
      "Unique values this tensor contain is :  tensor([-32.2182, -31.8062, -31.0975,  ...,  23.6688,  24.4062,  24.7484],\n",
      "       grad_fn=<Unique2Backward0>)\n",
      "0 679 102 803\n",
      "Unique values of isolated masks are :  tensor([0.0000, 0.0039, 0.0078, 0.0118, 0.0157, 0.0196, 0.0235, 0.0275, 0.9725,\n",
      "        0.9765, 0.9804, 0.9843, 0.9882, 0.9922, 0.9961, 1.0000])\n",
      "Unique values this tensor contain is :  tensor([-21.9538, -21.8529, -21.6540,  ...,  15.3224,  15.3634,  15.5335],\n",
      "       grad_fn=<Unique2Backward0>)\n"
     ]
    },
    {
     "name": "stderr",
     "output_type": "stream",
     "text": [
      "3657862414.py - 14-Feb-2025 18:43:20 - INFO - <module> - Line 71 - Current running loss: 0.7325\n"
     ]
    },
    {
     "name": "stdout",
     "output_type": "stream",
     "text": [
      "66 670 95 703\n",
      "Unique values of isolated masks are :  tensor([0.0000, 0.0039, 0.0078, 0.0118, 0.0157, 0.0196, 0.9804, 0.9843, 0.9882,\n",
      "        0.9922, 0.9961, 1.0000])\n",
      "Unique values this tensor contain is :  tensor([-86.4991, -86.3058, -84.4455,  ...,  59.3762,  60.4058,  60.6783],\n",
      "       grad_fn=<Unique2Backward0>)\n"
     ]
    },
    {
     "name": "stderr",
     "output_type": "stream",
     "text": [
      "3657862414.py - 14-Feb-2025 18:43:25 - INFO - <module> - Line 71 - Current running loss: 0.7336\n"
     ]
    },
    {
     "name": "stdout",
     "output_type": "stream",
     "text": [
      "0 667 20 709\n",
      "Unique values of isolated masks are :  tensor([0.0000, 0.0039, 0.0078, 0.0118, 0.0157, 0.0196, 0.9765, 0.9804, 0.9843,\n",
      "        0.9882, 0.9922, 0.9961, 1.0000])\n",
      "Unique values this tensor contain is :  tensor([-54.9072, -54.2398, -54.0039,  ...,  41.5276,  42.8160,  43.4551],\n",
      "       grad_fn=<Unique2Backward0>)\n"
     ]
    },
    {
     "name": "stderr",
     "output_type": "stream",
     "text": [
      "3657862414.py - 14-Feb-2025 18:43:29 - INFO - <module> - Line 71 - Current running loss: 0.7347\n"
     ]
    },
    {
     "name": "stdout",
     "output_type": "stream",
     "text": [
      "484 652 550 710\n",
      "Unique values of isolated masks are :  tensor([0.0000, 0.0039, 0.0078, 0.0118, 0.0157, 0.0196, 0.0235, 0.0275, 0.9765,\n",
      "        0.9804, 0.9843, 0.9882, 0.9922, 0.9961, 1.0000])\n",
      "Unique values this tensor contain is :  tensor([-36.2668, -35.3740, -35.0960,  ...,  21.4919,  21.6784,  21.8738],\n",
      "       grad_fn=<Unique2Backward0>)\n"
     ]
    },
    {
     "name": "stderr",
     "output_type": "stream",
     "text": [
      "3657862414.py - 14-Feb-2025 18:43:34 - INFO - <module> - Line 71 - Current running loss: 0.7381\n"
     ]
    },
    {
     "name": "stdout",
     "output_type": "stream",
     "text": [
      "602 608 613 620\n",
      "Unique values of isolated masks are :  tensor([0.0000, 0.0039, 0.0078, 0.0118, 0.0157, 0.9804, 0.9843, 0.9882, 0.9922,\n",
      "        0.9961, 1.0000])\n"
     ]
    },
    {
     "name": "stderr",
     "output_type": "stream",
     "text": [
      "3657862414.py - 14-Feb-2025 18:43:38 - INFO - <module> - Line 71 - Current running loss: 0.7406\n"
     ]
    },
    {
     "name": "stdout",
     "output_type": "stream",
     "text": [
      "Unique values this tensor contain is :  tensor([-147.3473, -147.0793, -146.8112,  ...,   82.9761,   85.1886,\n",
      "          86.1040], grad_fn=<Unique2Backward0>)\n",
      "161 590 325 692\n",
      "Unique values of isolated masks are :  tensor([0.0000, 0.0039, 0.0078, 0.0118, 0.0157, 0.0196, 0.0235, 0.0275, 0.9725,\n",
      "        0.9765, 0.9804, 0.9843, 0.9882, 0.9922, 0.9961, 1.0000])\n"
     ]
    },
    {
     "name": "stderr",
     "output_type": "stream",
     "text": [
      "3657862414.py - 14-Feb-2025 18:43:42 - INFO - <module> - Line 71 - Current running loss: 0.7421\n"
     ]
    },
    {
     "name": "stdout",
     "output_type": "stream",
     "text": [
      "Unique values this tensor contain is :  tensor([-25.7114, -25.6506, -25.5898,  ...,  23.6720,  24.2484,  24.3705],\n",
      "       grad_fn=<Unique2Backward0>)\n",
      "0 590 32 630\n",
      "Unique values of isolated masks are :  tensor([0.0000, 0.0039, 0.0078, 0.0118, 0.0157, 0.0196, 0.9804, 0.9843, 0.9882,\n",
      "        0.9922, 0.9961, 1.0000])\n",
      "Unique values this tensor contain is :  tensor([-35.7298, -35.3788, -34.1873,  ...,  25.0599,  26.7588,  26.8010],\n",
      "       grad_fn=<Unique2Backward0>)\n"
     ]
    },
    {
     "name": "stderr",
     "output_type": "stream",
     "text": [
      "3657862414.py - 14-Feb-2025 18:43:47 - INFO - <module> - Line 71 - Current running loss: 0.7430\n"
     ]
    },
    {
     "name": "stdout",
     "output_type": "stream",
     "text": [
      "612 554 698 626\n",
      "Unique values of isolated masks are :  tensor([0.0000, 0.0039, 0.0078, 0.0118, 0.0157, 0.0196, 0.0235, 0.0275, 0.9725,\n",
      "        0.9765, 0.9804, 0.9843, 0.9882, 0.9922, 0.9961, 1.0000])\n"
     ]
    },
    {
     "name": "stderr",
     "output_type": "stream",
     "text": [
      "3657862414.py - 14-Feb-2025 18:43:51 - INFO - <module> - Line 71 - Current running loss: 0.7438\n"
     ]
    },
    {
     "name": "stdout",
     "output_type": "stream",
     "text": [
      "Unique values this tensor contain is :  tensor([-38.6545, -38.2502, -37.9340,  ...,  19.5261,  20.1771,  20.5007],\n",
      "       grad_fn=<Unique2Backward0>)\n",
      "0 553 3 560\n",
      "Unique values of isolated masks are :  tensor([0.0000, 0.0078, 0.9843, 0.9922, 0.9961, 1.0000])\n",
      "Unique values this tensor contain is :  tensor([-313.9127, -308.7147, -305.6074,  ...,   16.5856,   16.9925,\n",
      "          17.3994], grad_fn=<Unique2Backward0>)\n"
     ]
    },
    {
     "name": "stderr",
     "output_type": "stream",
     "text": [
      "3657862414.py - 14-Feb-2025 18:43:56 - INFO - <module> - Line 71 - Current running loss: 0.7478\n"
     ]
    },
    {
     "name": "stdout",
     "output_type": "stream",
     "text": [
      "543 552 590 619\n",
      "Unique values of isolated masks are :  tensor([0.0000, 0.0039, 0.0078, 0.0118, 0.0157, 0.0196, 0.9725, 0.9804, 0.9843,\n",
      "        0.9882, 0.9922, 0.9961, 1.0000])\n"
     ]
    },
    {
     "name": "stderr",
     "output_type": "stream",
     "text": [
      "3657862414.py - 14-Feb-2025 18:44:00 - INFO - <module> - Line 71 - Current running loss: 0.7492\n"
     ]
    },
    {
     "name": "stdout",
     "output_type": "stream",
     "text": [
      "Unique values this tensor contain is :  tensor([-28.3987, -28.2266, -26.8498,  ...,  21.0912,  21.1393,  21.2262],\n",
      "       grad_fn=<Unique2Backward0>)\n",
      "113 536 198 653\n",
      "Unique values of isolated masks are :  tensor([0.0000, 0.0039, 0.0078, 0.0118, 0.0157, 0.0196, 0.0235, 0.0314, 0.9765,\n",
      "        0.9804, 0.9843, 0.9882, 0.9922, 0.9961, 1.0000])\n"
     ]
    },
    {
     "name": "stderr",
     "output_type": "stream",
     "text": [
      "3657862414.py - 14-Feb-2025 18:44:05 - INFO - <module> - Line 71 - Current running loss: 0.7551\n"
     ]
    },
    {
     "name": "stdout",
     "output_type": "stream",
     "text": [
      "Unique values this tensor contain is :  tensor([-19.7997, -19.5359, -19.1086,  ...,  14.9504,  15.0224,  15.2782],\n",
      "       grad_fn=<Unique2Backward0>)\n",
      "236 535 329 614\n",
      "Unique values of isolated masks are :  tensor([0.0000, 0.0039, 0.0078, 0.0118, 0.0157, 0.0196, 0.0235, 0.0275, 0.9804,\n",
      "        0.9843, 0.9882, 0.9922, 0.9961, 1.0000])\n",
      "Unique values this tensor contain is :  tensor([-25.2843, -25.1154, -24.9465,  ...,  19.0012,  19.2122,  19.4231],\n",
      "       grad_fn=<Unique2Backward0>)\n"
     ]
    },
    {
     "name": "stderr",
     "output_type": "stream",
     "text": [
      "3657862414.py - 14-Feb-2025 18:44:09 - INFO - <module> - Line 71 - Current running loss: 0.7588\n"
     ]
    },
    {
     "name": "stdout",
     "output_type": "stream",
     "text": [
      "66 519 149 632\n",
      "Unique values of isolated masks are :  tensor([0.0000, 0.0039, 0.0078, 0.0118, 0.0157, 0.0196, 0.0275, 0.9765, 0.9804,\n",
      "        0.9843, 0.9882, 0.9922, 0.9961, 1.0000])\n",
      "Unique values this tensor contain is :  tensor([-16.8475, -16.6215, -16.5131,  ...,  10.3278,  10.4084,  10.6446],\n",
      "       grad_fn=<Unique2Backward0>)\n"
     ]
    },
    {
     "name": "stderr",
     "output_type": "stream",
     "text": [
      "3657862414.py - 14-Feb-2025 18:44:14 - INFO - <module> - Line 71 - Current running loss: 0.7648\n"
     ]
    },
    {
     "name": "stdout",
     "output_type": "stream",
     "text": [
      "32 484 85 550\n",
      "Unique values of isolated masks are :  tensor([0.0000, 0.0039, 0.0078, 0.0118, 0.0157, 0.0196, 0.9804, 0.9843, 0.9882,\n",
      "        0.9922, 0.9961, 1.0000])\n"
     ]
    },
    {
     "name": "stderr",
     "output_type": "stream",
     "text": [
      "3657862414.py - 14-Feb-2025 18:44:18 - INFO - <module> - Line 71 - Current running loss: 0.7670\n"
     ]
    },
    {
     "name": "stdout",
     "output_type": "stream",
     "text": [
      "Unique values this tensor contain is :  tensor([-18.8548, -18.8205, -18.5698,  ...,  16.4573,  16.6133,  16.7693],\n",
      "       grad_fn=<Unique2Backward0>)\n",
      "1019 477 1024 488\n",
      "Unique values of isolated masks are :  tensor([0.0000, 0.0039, 0.0078, 0.0118, 0.9804, 0.9843, 0.9882, 0.9922, 0.9961,\n",
      "        1.0000])\n"
     ]
    },
    {
     "name": "stderr",
     "output_type": "stream",
     "text": [
      "3657862414.py - 14-Feb-2025 18:44:22 - INFO - <module> - Line 71 - Current running loss: 0.7704\n"
     ]
    },
    {
     "name": "stdout",
     "output_type": "stream",
     "text": [
      "Unique values this tensor contain is :  tensor([-136.0507, -133.4303, -133.0377,  ...,   11.6296,   11.8418,\n",
      "          11.9479], grad_fn=<Unique2Backward0>)\n",
      "882 466 926 602\n",
      "Unique values of isolated masks are :  tensor([0.0000, 0.0039, 0.0078, 0.0118, 0.0157, 0.0196, 0.9804, 0.9843, 0.9882,\n",
      "        0.9922, 0.9961, 1.0000])\n"
     ]
    },
    {
     "name": "stderr",
     "output_type": "stream",
     "text": [
      "3657862414.py - 14-Feb-2025 18:44:27 - INFO - <module> - Line 71 - Current running loss: 0.7728\n"
     ]
    },
    {
     "name": "stdout",
     "output_type": "stream",
     "text": [
      "Unique values this tensor contain is :  tensor([-11.3038, -11.2813, -11.2762,  ...,   4.6268,   4.6461,   4.6901],\n",
      "       grad_fn=<Unique2Backward0>)\n",
      "626 447 724 531\n",
      "Unique values of isolated masks are :  tensor([0.0000, 0.0039, 0.0078, 0.0118, 0.0157, 0.0196, 0.0235, 0.0275, 0.9725,\n",
      "        0.9765, 0.9804, 0.9843, 0.9882, 0.9922, 0.9961, 1.0000])\n",
      "Unique values this tensor contain is :  tensor([-15.7918, -15.7854, -15.6417,  ...,  14.7491,  14.8504,  15.1210],\n",
      "       grad_fn=<Unique2Backward0>)\n"
     ]
    },
    {
     "name": "stderr",
     "output_type": "stream",
     "text": [
      "3657862414.py - 14-Feb-2025 18:44:31 - INFO - <module> - Line 71 - Current running loss: 0.7761\n"
     ]
    },
    {
     "name": "stdout",
     "output_type": "stream",
     "text": [
      "476 446 586 582\n",
      "Unique values of isolated masks are :  tensor([0.0000, 0.0039, 0.0078, 0.0118, 0.0157, 0.0196, 0.0235, 0.0275, 0.9725,\n",
      "        0.9765, 0.9804, 0.9843, 0.9882, 0.9922, 0.9961, 1.0000])\n",
      "Unique values this tensor contain is :  tensor([-11.6672, -11.6285, -11.6257,  ...,   7.0010,   7.1654,   7.2071],\n",
      "       grad_fn=<Unique2Backward0>)\n"
     ]
    },
    {
     "name": "stderr",
     "output_type": "stream",
     "text": [
      "3657862414.py - 14-Feb-2025 18:44:36 - INFO - <module> - Line 71 - Current running loss: 0.7796\n"
     ]
    },
    {
     "name": "stdout",
     "output_type": "stream",
     "text": [
      "517 363 537 385\n",
      "Unique values of isolated masks are :  tensor([0.0000, 0.0039, 0.0078, 0.0118, 0.0157, 0.0196, 0.9804, 0.9843, 0.9882,\n",
      "        0.9922, 0.9961, 1.0000])\n"
     ]
    },
    {
     "name": "stderr",
     "output_type": "stream",
     "text": [
      "3657862414.py - 14-Feb-2025 18:44:40 - INFO - <module> - Line 71 - Current running loss: 0.7822\n"
     ]
    },
    {
     "name": "stdout",
     "output_type": "stream",
     "text": [
      "Unique values this tensor contain is :  tensor([-50.8215, -49.6938, -48.8238,  ...,  29.0526,  29.7134,  32.0640],\n",
      "       grad_fn=<Unique2Backward0>)\n",
      "853 346 944 421\n",
      "Unique values of isolated masks are :  tensor([0.0000, 0.0039, 0.0078, 0.0118, 0.0157, 0.0196, 0.0235, 0.9725, 0.9765,\n",
      "        0.9804, 0.9843, 0.9882, 0.9922, 0.9961, 1.0000])\n",
      "Unique values this tensor contain is :  tensor([-27.9940, -27.9304, -27.8669,  ...,  20.9601,  21.3257,  21.3860],\n",
      "       grad_fn=<Unique2Backward0>)\n"
     ]
    },
    {
     "name": "stderr",
     "output_type": "stream",
     "text": [
      "3657862414.py - 14-Feb-2025 18:44:45 - INFO - <module> - Line 71 - Current running loss: 0.7828\n"
     ]
    },
    {
     "name": "stdout",
     "output_type": "stream",
     "text": [
      "442 344 513 417\n",
      "Unique values of isolated masks are :  tensor([0.0000, 0.0039, 0.0078, 0.0118, 0.0157, 0.0196, 0.0235, 0.9725, 0.9765,\n",
      "        0.9804, 0.9843, 0.9882, 0.9922, 0.9961, 1.0000])\n",
      "Unique values this tensor contain is :  tensor([-13.5833, -13.5727, -13.5526,  ...,   6.9801,   7.2442,   7.3138],\n",
      "       grad_fn=<Unique2Backward0>)\n"
     ]
    },
    {
     "name": "stderr",
     "output_type": "stream",
     "text": [
      "3657862414.py - 14-Feb-2025 18:44:49 - INFO - <module> - Line 71 - Current running loss: 0.7853\n"
     ]
    },
    {
     "name": "stdout",
     "output_type": "stream",
     "text": [
      "252 333 347 455\n",
      "Unique values of isolated masks are :  tensor([0.0000, 0.0039, 0.0078, 0.0118, 0.0157, 0.0196, 0.0275, 0.9725, 0.9765,\n",
      "        0.9804, 0.9843, 0.9882, 0.9922, 0.9961, 1.0000])\n",
      "Unique values this tensor contain is :  tensor([-20.3348, -20.0831, -19.8313,  ...,  12.2610,  12.2872,  12.4122],\n",
      "       grad_fn=<Unique2Backward0>)\n"
     ]
    },
    {
     "name": "stderr",
     "output_type": "stream",
     "text": [
      "3657862414.py - 14-Feb-2025 18:44:54 - INFO - <module> - Line 71 - Current running loss: 0.7868\n"
     ]
    },
    {
     "name": "stdout",
     "output_type": "stream",
     "text": [
      "691 318 756 389\n",
      "Unique values of isolated masks are :  tensor([0.0000, 0.0039, 0.0078, 0.0118, 0.0157, 0.0196, 0.0235, 0.9765, 0.9804,\n",
      "        0.9843, 0.9882, 0.9922, 0.9961, 1.0000])\n",
      "Unique values this tensor contain is :  tensor([-30.2394, -29.6489, -29.5476,  ...,  17.1878,  17.4542,  17.7658],\n",
      "       grad_fn=<Unique2Backward0>)\n"
     ]
    },
    {
     "name": "stderr",
     "output_type": "stream",
     "text": [
      "3657862414.py - 14-Feb-2025 18:44:58 - INFO - <module> - Line 71 - Current running loss: 0.7913\n"
     ]
    },
    {
     "name": "stdout",
     "output_type": "stream",
     "text": [
      "480 301 519 342\n",
      "Unique values of isolated masks are :  tensor([0.0000, 0.0039, 0.0078, 0.0118, 0.0157, 0.0196, 0.0235, 0.0275, 0.9725,\n",
      "        0.9804, 0.9843, 0.9882, 0.9922, 0.9961, 1.0000])\n"
     ]
    },
    {
     "name": "stderr",
     "output_type": "stream",
     "text": [
      "3657862414.py - 14-Feb-2025 18:45:02 - INFO - <module> - Line 71 - Current running loss: 0.7919\n"
     ]
    },
    {
     "name": "stdout",
     "output_type": "stream",
     "text": [
      "Unique values this tensor contain is :  tensor([-51.2071, -50.5706, -50.0580,  ...,  40.3884,  41.4867,  42.6233],\n",
      "       grad_fn=<Unique2Backward0>)\n",
      "191 299 248 359\n",
      "Unique values of isolated masks are :  tensor([0.0000, 0.0039, 0.0078, 0.0118, 0.0157, 0.0196, 0.0235, 0.0275, 0.9804,\n",
      "        0.9843, 0.9882, 0.9922, 0.9961, 1.0000])\n",
      "Unique values this tensor contain is :  tensor([-22.9565, -22.8259, -22.6953,  ...,  15.0709,  15.3524,  15.6338],\n",
      "       grad_fn=<Unique2Backward0>)\n"
     ]
    },
    {
     "name": "stderr",
     "output_type": "stream",
     "text": [
      "3657862414.py - 14-Feb-2025 18:45:07 - INFO - <module> - Line 71 - Current running loss: 0.7937\n"
     ]
    },
    {
     "name": "stdout",
     "output_type": "stream",
     "text": [
      "140 276 191 346\n",
      "Unique values of isolated masks are :  tensor([0.0000, 0.0039, 0.0078, 0.0118, 0.0157, 0.0196, 0.0275, 0.9725, 0.9765,\n",
      "        0.9804, 0.9843, 0.9882, 0.9922, 0.9961, 1.0000])\n",
      "Unique values this tensor contain is :  tensor([-30.5632, -30.3330, -29.8185,  ...,  21.1181,  21.5150,  21.9420],\n",
      "       grad_fn=<Unique2Backward0>)\n"
     ]
    },
    {
     "name": "stderr",
     "output_type": "stream",
     "text": [
      "3657862414.py - 14-Feb-2025 18:45:11 - INFO - <module> - Line 71 - Current running loss: 0.7948\n"
     ]
    },
    {
     "name": "stdout",
     "output_type": "stream",
     "text": [
      "568 270 592 296\n",
      "Unique values of isolated masks are :  tensor([0.0000, 0.0039, 0.0078, 0.0118, 0.0157, 0.0196, 0.0235, 0.9804, 0.9843,\n",
      "        0.9882, 0.9922, 0.9961, 1.0000])\n",
      "Unique values this tensor contain is :  tensor([-75.3016, -74.8851, -72.1429,  ...,  55.6005,  56.4545,  58.8627],\n",
      "       grad_fn=<Unique2Backward0>)\n"
     ]
    },
    {
     "name": "stderr",
     "output_type": "stream",
     "text": [
      "3657862414.py - 14-Feb-2025 18:45:16 - INFO - <module> - Line 71 - Current running loss: 0.7958\n"
     ]
    },
    {
     "name": "stdout",
     "output_type": "stream",
     "text": [
      "194 269 217 296\n",
      "Unique values of isolated masks are :  tensor([0.0000, 0.0039, 0.0078, 0.0118, 0.0157, 0.0196, 0.0235, 0.9765, 0.9804,\n",
      "        0.9843, 0.9882, 0.9922, 0.9961, 1.0000])\n",
      "Unique values this tensor contain is :  tensor([-90.9577, -90.7045, -90.5212,  ...,  48.4685,  48.6372,  48.8060],\n",
      "       grad_fn=<Unique2Backward0>)\n"
     ]
    },
    {
     "name": "stderr",
     "output_type": "stream",
     "text": [
      "3657862414.py - 14-Feb-2025 18:45:20 - INFO - <module> - Line 71 - Current running loss: 0.7970\n"
     ]
    },
    {
     "name": "stdout",
     "output_type": "stream",
     "text": [
      "89 265 141 312\n",
      "Unique values of isolated masks are :  tensor([0.0000, 0.0039, 0.0078, 0.0118, 0.0157, 0.0196, 0.0235, 0.9765, 0.9804,\n",
      "        0.9843, 0.9882, 0.9922, 0.9961, 1.0000])\n"
     ]
    },
    {
     "name": "stderr",
     "output_type": "stream",
     "text": [
      "3657862414.py - 14-Feb-2025 18:45:25 - INFO - <module> - Line 71 - Current running loss: 0.7978\n"
     ]
    },
    {
     "name": "stdout",
     "output_type": "stream",
     "text": [
      "Unique values this tensor contain is :  tensor([-36.6863, -35.5669, -35.3936,  ...,  25.0462,  25.4653,  26.3197],\n",
      "       grad_fn=<Unique2Backward0>)\n",
      "143 240 169 266\n",
      "Unique values of isolated masks are :  tensor([0.0000, 0.0039, 0.0078, 0.0118, 0.0157, 0.9765, 0.9804, 0.9843, 0.9882,\n",
      "        0.9922, 0.9961, 1.0000])\n",
      "Unique values this tensor contain is :  tensor([-68.2882, -66.6883, -65.9708,  ...,  35.5736,  35.6498,  39.6759],\n",
      "       grad_fn=<Unique2Backward0>)\n"
     ]
    },
    {
     "name": "stderr",
     "output_type": "stream",
     "text": [
      "3657862414.py - 14-Feb-2025 18:45:29 - INFO - <module> - Line 71 - Current running loss: 0.8002\n"
     ]
    },
    {
     "name": "stdout",
     "output_type": "stream",
     "text": [
      "606 238 686 347\n",
      "Unique values of isolated masks are :  tensor([0.0000, 0.0039, 0.0078, 0.0118, 0.0157, 0.0196, 0.0235, 0.0275, 0.9765,\n",
      "        0.9804, 0.9843, 0.9882, 0.9922, 0.9961, 1.0000])\n",
      "Unique values this tensor contain is :  tensor([-14.1185, -14.0950, -14.0894,  ...,   9.8261,   9.9058,   9.9930],\n",
      "       grad_fn=<Unique2Backward0>)\n"
     ]
    },
    {
     "name": "stderr",
     "output_type": "stream",
     "text": [
      "3657862414.py - 14-Feb-2025 18:45:34 - INFO - <module> - Line 71 - Current running loss: 0.8019\n"
     ]
    },
    {
     "name": "stdout",
     "output_type": "stream",
     "text": [
      "879 209 962 271\n",
      "Unique values of isolated masks are :  tensor([0.0000, 0.0039, 0.0078, 0.0118, 0.0157, 0.0196, 0.9765, 0.9804, 0.9843,\n",
      "        0.9882, 0.9922, 0.9961, 1.0000])\n",
      "Unique values this tensor contain is :  tensor([-13.6458, -13.6013, -13.5977,  ...,   7.8674,   7.9629,   7.9888],\n",
      "       grad_fn=<Unique2Backward0>)\n"
     ]
    },
    {
     "name": "stderr",
     "output_type": "stream",
     "text": [
      "3657862414.py - 14-Feb-2025 18:45:38 - INFO - <module> - Line 71 - Current running loss: 0.8048\n"
     ]
    },
    {
     "name": "stdout",
     "output_type": "stream",
     "text": [
      "999 204 1024 291\n",
      "Unique values of isolated masks are :  tensor([0.0000, 0.0039, 0.0078, 0.0118, 0.0157, 0.0196, 0.9725, 0.9804, 0.9843,\n",
      "        0.9882, 0.9922, 0.9961, 1.0000])\n"
     ]
    },
    {
     "name": "stderr",
     "output_type": "stream",
     "text": [
      "3657862414.py - 14-Feb-2025 18:45:42 - INFO - <module> - Line 71 - Current running loss: 0.8069\n"
     ]
    },
    {
     "name": "stdout",
     "output_type": "stream",
     "text": [
      "Unique values this tensor contain is :  tensor([-22.7982, -22.7872, -22.7778,  ...,  21.7703,  22.2782,  22.3473],\n",
      "       grad_fn=<Unique2Backward0>)\n",
      "127 202 190 250\n",
      "Unique values of isolated masks are :  tensor([0.0000, 0.0039, 0.0078, 0.0118, 0.0157, 0.0196, 0.9725, 0.9804, 0.9843,\n",
      "        0.9882, 0.9922, 0.9961, 1.0000])\n",
      "Unique values this tensor contain is :  tensor([-35.2408, -35.1215, -34.4167,  ...,  24.5194,  25.0611,  25.6784],\n",
      "       grad_fn=<Unique2Backward0>)\n"
     ]
    },
    {
     "name": "stderr",
     "output_type": "stream",
     "text": [
      "3657862414.py - 14-Feb-2025 18:45:47 - INFO - <module> - Line 71 - Current running loss: 0.8089\n"
     ]
    },
    {
     "name": "stdout",
     "output_type": "stream",
     "text": [
      "501 198 614 300\n",
      "Unique values of isolated masks are :  tensor([0.0000, 0.0039, 0.0078, 0.0118, 0.0157, 0.0196, 0.0235, 0.0275, 0.9725,\n",
      "        0.9765, 0.9804, 0.9843, 0.9882, 0.9922, 0.9961, 1.0000])\n"
     ]
    },
    {
     "name": "stderr",
     "output_type": "stream",
     "text": [
      "3657862414.py - 14-Feb-2025 18:45:51 - INFO - <module> - Line 71 - Current running loss: 0.8097\n"
     ]
    },
    {
     "name": "stdout",
     "output_type": "stream",
     "text": [
      "Unique values this tensor contain is :  tensor([-22.7959, -22.5181, -22.1142,  ...,  13.3948,  13.7499,  14.2391],\n",
      "       grad_fn=<Unique2Backward0>)\n",
      "0 189 8 208\n",
      "Unique values of isolated masks are :  tensor([0.0000, 0.0039, 0.0078, 0.0118, 0.0157, 0.0196, 0.9804, 0.9843, 0.9882,\n",
      "        0.9922, 0.9961, 1.0000])\n",
      "Unique values this tensor contain is :  tensor([-134.6545, -133.9896, -133.9597,  ...,   26.5193,   29.2109,\n",
      "          30.2725], grad_fn=<Unique2Backward0>)\n"
     ]
    },
    {
     "name": "stderr",
     "output_type": "stream",
     "text": [
      "3657862414.py - 14-Feb-2025 18:45:56 - INFO - <module> - Line 71 - Current running loss: 0.8119\n"
     ]
    },
    {
     "name": "stdout",
     "output_type": "stream",
     "text": [
      "422 177 498 238\n",
      "Unique values of isolated masks are :  tensor([0.0000, 0.0039, 0.0078, 0.0118, 0.0157, 0.0196, 0.0275, 0.9804, 0.9843,\n",
      "        0.9882, 0.9922, 0.9961, 1.0000])\n",
      "Unique values this tensor contain is :  tensor([-25.6631, -25.6446, -24.7970,  ...,  14.4015,  15.0356,  15.3856],\n",
      "       grad_fn=<Unique2Backward0>)\n"
     ]
    },
    {
     "name": "stderr",
     "output_type": "stream",
     "text": [
      "3657862414.py - 14-Feb-2025 18:46:00 - INFO - <module> - Line 71 - Current running loss: 0.8143\n"
     ]
    },
    {
     "name": "stdout",
     "output_type": "stream",
     "text": [
      "363 176 418 244\n",
      "Unique values of isolated masks are :  tensor([0.0000, 0.0039, 0.0078, 0.0118, 0.0157, 0.0196, 0.0235, 0.9725, 0.9804,\n",
      "        0.9843, 0.9882, 0.9922, 0.9961, 1.0000])\n"
     ]
    },
    {
     "name": "stderr",
     "output_type": "stream",
     "text": [
      "3657862414.py - 14-Feb-2025 18:46:05 - INFO - <module> - Line 71 - Current running loss: 0.8165\n"
     ]
    },
    {
     "name": "stdout",
     "output_type": "stream",
     "text": [
      "Unique values this tensor contain is :  tensor([-21.6650, -21.5768, -21.5563,  ...,  16.3174,  16.3399,  16.6931],\n",
      "       grad_fn=<Unique2Backward0>)\n",
      "59 161 84 186\n",
      "Unique values of isolated masks are :  tensor([0.0000, 0.0039, 0.0078, 0.0118, 0.0157, 0.0196, 0.9804, 0.9843, 0.9882,\n",
      "        0.9922, 0.9961, 1.0000])\n",
      "Unique values this tensor contain is :  tensor([-102.1040, -101.7434, -101.3863,  ...,   41.2095,   42.3932,\n",
      "          42.8715], grad_fn=<Unique2Backward0>)\n"
     ]
    },
    {
     "name": "stderr",
     "output_type": "stream",
     "text": [
      "3657862414.py - 14-Feb-2025 18:46:09 - INFO - <module> - Line 71 - Current running loss: 0.8184\n"
     ]
    },
    {
     "name": "stdout",
     "output_type": "stream",
     "text": [
      "159 152 247 225\n",
      "Unique values of isolated masks are :  tensor([0.0000, 0.0039, 0.0078, 0.0118, 0.0157, 0.0196, 0.0235, 0.0275, 0.9725,\n",
      "        0.9804, 0.9843, 0.9882, 0.9922, 0.9961, 1.0000])\n",
      "Unique values this tensor contain is :  tensor([-31.1932, -30.4444, -30.1570,  ...,  18.4246,  18.5589,  18.6932],\n",
      "       grad_fn=<Unique2Backward0>)\n"
     ]
    },
    {
     "name": "stderr",
     "output_type": "stream",
     "text": [
      "3657862414.py - 14-Feb-2025 18:46:14 - INFO - <module> - Line 71 - Current running loss: 0.8193\n"
     ]
    },
    {
     "name": "stdout",
     "output_type": "stream",
     "text": [
      "0 135 7 159\n",
      "Unique values of isolated masks are :  tensor([0.0000, 0.0039, 0.0078, 0.0118, 0.0196, 0.9843, 0.9882, 0.9922, 0.9961,\n",
      "        1.0000])\n"
     ]
    },
    {
     "name": "stderr",
     "output_type": "stream",
     "text": [
      "3657862414.py - 14-Feb-2025 18:46:18 - INFO - <module> - Line 71 - Current running loss: 0.8233\n"
     ]
    },
    {
     "name": "stdout",
     "output_type": "stream",
     "text": [
      "Unique values this tensor contain is :  tensor([-85.6381, -85.4894, -85.3407,  ...,  27.4495,  27.6860,  28.5741],\n",
      "       grad_fn=<Unique2Backward0>)\n",
      "902 124 999 195\n",
      "Unique values of isolated masks are :  tensor([0.0000, 0.0039, 0.0078, 0.0118, 0.0157, 0.0196, 0.0235, 0.0275, 0.9725,\n",
      "        0.9765, 0.9804, 0.9843, 0.9882, 0.9922, 0.9961, 1.0000])\n",
      "Unique values this tensor contain is :  tensor([-21.4576, -21.2392, -20.8191,  ...,  16.2719,  16.5995,  16.8344],\n",
      "       grad_fn=<Unique2Backward0>)\n"
     ]
    },
    {
     "name": "stderr",
     "output_type": "stream",
     "text": [
      "3657862414.py - 14-Feb-2025 18:46:23 - INFO - <module> - Line 71 - Current running loss: 0.8253\n"
     ]
    },
    {
     "name": "stdout",
     "output_type": "stream",
     "text": [
      "155 113 180 143\n",
      "Unique values of isolated masks are :  tensor([0.0000, 0.0039, 0.0078, 0.0118, 0.0157, 0.0196, 0.0235, 0.9765, 0.9804,\n",
      "        0.9843, 0.9882, 0.9922, 0.9961, 1.0000])\n"
     ]
    },
    {
     "name": "stderr",
     "output_type": "stream",
     "text": [
      "3657862414.py - 14-Feb-2025 18:46:27 - INFO - <module> - Line 71 - Current running loss: 0.8273\n"
     ]
    },
    {
     "name": "stdout",
     "output_type": "stream",
     "text": [
      "Unique values this tensor contain is :  tensor([-65.0779, -64.6488, -64.2416,  ...,  42.7670,  45.3881,  47.6094],\n",
      "       grad_fn=<Unique2Backward0>)\n",
      "316 103 340 126\n",
      "Unique values of isolated masks are :  tensor([0.0000, 0.0039, 0.0078, 0.0118, 0.0157, 0.0196, 0.0275, 0.9765, 0.9804,\n",
      "        0.9843, 0.9882, 0.9922, 0.9961, 1.0000])\n"
     ]
    },
    {
     "name": "stderr",
     "output_type": "stream",
     "text": [
      "3657862414.py - 14-Feb-2025 18:46:31 - INFO - <module> - Line 71 - Current running loss: 0.8291\n"
     ]
    },
    {
     "name": "stdout",
     "output_type": "stream",
     "text": [
      "Unique values this tensor contain is :  tensor([-58.0601, -56.3503, -54.9023,  ...,  24.5647,  24.7241,  25.7320],\n",
      "       grad_fn=<Unique2Backward0>)\n",
      "786 97 851 161\n",
      "Unique values of isolated masks are :  tensor([0.0000, 0.0039, 0.0078, 0.0118, 0.0157, 0.0196, 0.0235, 0.9725, 0.9765,\n",
      "        0.9804, 0.9843, 0.9882, 0.9922, 0.9961, 1.0000])\n",
      "Unique values this tensor contain is :  tensor([-19.7024, -19.3148, -19.1973,  ...,  16.1270,  16.1557,  16.4620],\n",
      "       grad_fn=<Unique2Backward0>)\n"
     ]
    },
    {
     "name": "stderr",
     "output_type": "stream",
     "text": [
      "3657862414.py - 14-Feb-2025 18:46:36 - INFO - <module> - Line 71 - Current running loss: 0.8319\n"
     ]
    },
    {
     "name": "stdout",
     "output_type": "stream",
     "text": [
      "835 83 853 99\n",
      "Unique values of isolated masks are :  tensor([0.0000, 0.0039, 0.0078, 0.0118, 0.0157, 0.0275, 0.9765, 0.9804, 0.9843,\n",
      "        0.9882, 0.9922, 0.9961, 1.0000])\n"
     ]
    },
    {
     "name": "stderr",
     "output_type": "stream",
     "text": [
      "3657862414.py - 14-Feb-2025 18:46:40 - INFO - <module> - Line 71 - Current running loss: 0.8329\n"
     ]
    },
    {
     "name": "stdout",
     "output_type": "stream",
     "text": [
      "Unique values this tensor contain is :  tensor([-114.2008, -113.5994, -113.5139,  ...,   66.2768,   66.6405,\n",
      "          67.6525], grad_fn=<Unique2Backward0>)\n",
      "738 74 800 133\n",
      "Unique values of isolated masks are :  tensor([0.0000, 0.0039, 0.0078, 0.0118, 0.0157, 0.0196, 0.0235, 0.9725, 0.9765,\n",
      "        0.9804, 0.9843, 0.9882, 0.9922, 0.9961, 1.0000])\n",
      "Unique values this tensor contain is :  tensor([-32.9411, -32.8273, -32.5229,  ...,  21.5754,  22.0536,  23.1135],\n",
      "       grad_fn=<Unique2Backward0>)\n"
     ]
    },
    {
     "name": "stderr",
     "output_type": "stream",
     "text": [
      "3657862414.py - 14-Feb-2025 18:46:45 - INFO - <module> - Line 71 - Current running loss: 0.8339\n"
     ]
    },
    {
     "name": "stdout",
     "output_type": "stream",
     "text": [
      "348 74 452 162\n",
      "Unique values of isolated masks are :  tensor([0.0000, 0.0039, 0.0078, 0.0118, 0.0157, 0.0196, 0.9725, 0.9765, 0.9804,\n",
      "        0.9843, 0.9882, 0.9922, 0.9961, 1.0000])\n",
      "Unique values this tensor contain is :  tensor([-25.3417, -24.8216, -24.6788,  ...,  16.4198,  16.5244,  17.3642],\n",
      "       grad_fn=<Unique2Backward0>)\n"
     ]
    },
    {
     "name": "stderr",
     "output_type": "stream",
     "text": [
      "3657862414.py - 14-Feb-2025 18:46:49 - INFO - <module> - Line 71 - Current running loss: 0.8350\n"
     ]
    },
    {
     "name": "stdout",
     "output_type": "stream",
     "text": [
      "64 69 155 131\n",
      "Unique values of isolated masks are :  tensor([0.0000, 0.0039, 0.0078, 0.0118, 0.0157, 0.0196, 0.0235, 0.0275, 0.9765,\n",
      "        0.9804, 0.9843, 0.9882, 0.9922, 0.9961, 1.0000])\n",
      "Unique values this tensor contain is :  tensor([-16.3731, -16.3652, -16.3295,  ...,   8.7468,   8.7490,   8.7977],\n",
      "       grad_fn=<Unique2Backward0>)\n"
     ]
    },
    {
     "name": "stderr",
     "output_type": "stream",
     "text": [
      "3657862414.py - 14-Feb-2025 18:46:54 - INFO - <module> - Line 71 - Current running loss: 0.8369\n"
     ]
    },
    {
     "name": "stdout",
     "output_type": "stream",
     "text": [
      "0 63 43 104\n",
      "Unique values of isolated masks are :  tensor([0.0000, 0.0039, 0.0078, 0.0118, 0.0157, 0.0196, 0.9725, 0.9765, 0.9804,\n",
      "        0.9843, 0.9882, 0.9922, 0.9961, 1.0000])\n",
      "Unique values this tensor contain is :  tensor([-24.2667, -23.9874, -23.9423,  ...,  12.6624,  12.8172,  13.1245],\n",
      "       grad_fn=<Unique2Backward0>)\n"
     ]
    },
    {
     "name": "stderr",
     "output_type": "stream",
     "text": [
      "3657862414.py - 14-Feb-2025 18:46:58 - INFO - <module> - Line 71 - Current running loss: 0.8381\n"
     ]
    },
    {
     "name": "stdout",
     "output_type": "stream",
     "text": [
      "939 44 1005 104\n",
      "Unique values of isolated masks are :  tensor([0.0000, 0.0039, 0.0078, 0.0118, 0.0157, 0.0196, 0.9765, 0.9804, 0.9843,\n",
      "        0.9882, 0.9922, 0.9961, 1.0000])\n",
      "Unique values this tensor contain is :  tensor([-18.1326, -18.0960, -18.0355,  ...,  17.8047,  17.8696,  18.0299],\n",
      "       grad_fn=<Unique2Backward0>)\n"
     ]
    },
    {
     "name": "stderr",
     "output_type": "stream",
     "text": [
      "3657862414.py - 14-Feb-2025 18:47:03 - INFO - <module> - Line 71 - Current running loss: 0.8402\n"
     ]
    },
    {
     "name": "stdout",
     "output_type": "stream",
     "text": [
      "289 41 362 103\n",
      "Unique values of isolated masks are :  tensor([0.0000, 0.0039, 0.0078, 0.0118, 0.0157, 0.0196, 0.0235, 0.9725, 0.9765,\n",
      "        0.9804, 0.9843, 0.9882, 0.9922, 0.9961, 1.0000])\n"
     ]
    },
    {
     "name": "stderr",
     "output_type": "stream",
     "text": [
      "3657862414.py - 14-Feb-2025 18:47:07 - INFO - <module> - Line 71 - Current running loss: 0.8422\n"
     ]
    },
    {
     "name": "stdout",
     "output_type": "stream",
     "text": [
      "Unique values this tensor contain is :  tensor([-20.0880, -19.9428, -19.6586,  ...,  11.1272,  11.1850,  11.2130],\n",
      "       grad_fn=<Unique2Backward0>)\n",
      "678 40 745 102\n",
      "Unique values of isolated masks are :  tensor([0.0000, 0.0039, 0.0078, 0.0118, 0.0157, 0.0196, 0.0235, 0.0275, 0.9804,\n",
      "        0.9843, 0.9882, 0.9922, 0.9961, 1.0000])\n"
     ]
    },
    {
     "name": "stderr",
     "output_type": "stream",
     "text": [
      "3657862414.py - 14-Feb-2025 18:47:12 - INFO - <module> - Line 71 - Current running loss: 0.8428\n"
     ]
    },
    {
     "name": "stdout",
     "output_type": "stream",
     "text": [
      "Unique values this tensor contain is :  tensor([-44.8655, -43.5465, -42.2274,  ...,  21.6287,  21.9579,  22.3574],\n",
      "       grad_fn=<Unique2Backward0>)\n",
      "754 38 778 65\n",
      "Unique values of isolated masks are :  tensor([0.0000, 0.0039, 0.0078, 0.0118, 0.0157, 0.0196, 0.9804, 0.9843, 0.9882,\n",
      "        0.9922, 0.9961, 1.0000])\n",
      "Unique values this tensor contain is :  tensor([-91.4762, -90.4087, -90.0911,  ...,  40.2677,  40.6586,  41.0494],\n",
      "       grad_fn=<Unique2Backward0>)\n"
     ]
    },
    {
     "name": "stderr",
     "output_type": "stream",
     "text": [
      "3657862414.py - 14-Feb-2025 18:47:16 - INFO - <module> - Line 71 - Current running loss: 0.8437\n"
     ]
    },
    {
     "name": "stdout",
     "output_type": "stream",
     "text": [
      "967 0 1024 37\n",
      "Unique values of isolated masks are :  tensor([0.0000, 0.0039, 0.0078, 0.0118, 0.0157, 0.0196, 0.9725, 0.9765, 0.9804,\n",
      "        0.9843, 0.9882, 0.9922, 0.9961, 1.0000])\n",
      "Unique values this tensor contain is :  tensor([-33.4015, -33.2777, -33.1628,  ...,  21.0054,  21.1344,  21.2523],\n",
      "       grad_fn=<Unique2Backward0>)\n"
     ]
    },
    {
     "name": "stderr",
     "output_type": "stream",
     "text": [
      "3657862414.py - 14-Feb-2025 18:47:20 - INFO - <module> - Line 71 - Current running loss: 0.8440\n"
     ]
    },
    {
     "name": "stdout",
     "output_type": "stream",
     "text": [
      "839 0 843 2\n",
      "Unique values of isolated masks are :  tensor([0.0000, 0.0039, 0.0196, 0.9843, 0.9882, 1.0000])\n"
     ]
    },
    {
     "name": "stderr",
     "output_type": "stream",
     "text": [
      "3657862414.py - 14-Feb-2025 18:47:25 - INFO - <module> - Line 71 - Current running loss: 0.8570\n"
     ]
    },
    {
     "name": "stdout",
     "output_type": "stream",
     "text": [
      "Unique values this tensor contain is :  tensor([-164.1931, -163.3045, -162.4159,  ...,  -30.1943,  -30.1662,\n",
      "         -29.9141], grad_fn=<Unique2Backward0>)\n",
      "763 0 855 67\n",
      "Unique values of isolated masks are :  tensor([0.0000, 0.0039, 0.0078, 0.0118, 0.0157, 0.0196, 0.0235, 0.9725, 0.9765,\n",
      "        0.9804, 0.9843, 0.9882, 0.9922, 0.9961, 1.0000])\n",
      "Unique values this tensor contain is :  tensor([-18.1789, -17.7252, -17.7199,  ...,  12.7339,  12.8302,  12.9831],\n",
      "       grad_fn=<Unique2Backward0>)\n"
     ]
    },
    {
     "name": "stderr",
     "output_type": "stream",
     "text": [
      "3657862414.py - 14-Feb-2025 18:47:29 - INFO - <module> - Line 71 - Current running loss: 0.8592\n"
     ]
    },
    {
     "name": "stdout",
     "output_type": "stream",
     "text": [
      "640 0 705 73\n",
      "Unique values of isolated masks are :  tensor([0.0000, 0.0039, 0.0078, 0.0118, 0.0157, 0.0196, 0.0275, 0.9725, 0.9765,\n",
      "        0.9804, 0.9843, 0.9882, 0.9922, 0.9961, 1.0000])\n",
      "Unique values this tensor contain is :  tensor([-17.6463, -17.3017, -17.2772,  ...,  11.3986,  11.5190,  11.5223],\n",
      "       grad_fn=<Unique2Backward0>)\n"
     ]
    },
    {
     "name": "stderr",
     "output_type": "stream",
     "text": [
      "3657862414.py - 14-Feb-2025 18:47:34 - INFO - <module> - Line 71 - Current running loss: 0.8632\n"
     ]
    },
    {
     "name": "stdout",
     "output_type": "stream",
     "text": [
      "582 0 649 50\n",
      "Unique values of isolated masks are :  tensor([0.0000, 0.0039, 0.0078, 0.0118, 0.0157, 0.0196, 0.0235, 0.0275, 0.9725,\n",
      "        0.9765, 0.9804, 0.9843, 0.9882, 0.9922, 0.9961, 1.0000])\n"
     ]
    },
    {
     "name": "stderr",
     "output_type": "stream",
     "text": [
      "3657862414.py - 14-Feb-2025 18:47:38 - INFO - <module> - Line 71 - Current running loss: 0.8639\n"
     ]
    },
    {
     "name": "stdout",
     "output_type": "stream",
     "text": [
      "Unique values this tensor contain is :  tensor([-17.2304, -17.1925, -17.1103,  ...,  11.0375,  11.0951,  11.2928],\n",
      "       grad_fn=<Unique2Backward0>)\n",
      "574 0 575 1\n",
      "Unique values of isolated masks are :  tensor([0.0000, 0.9961])\n",
      "Unique values this tensor contain is :  tensor([-230.2555, -227.5173, -224.3089,  ...,   -5.3016,   -3.8365,\n",
      "          -0.9105], grad_fn=<Unique2Backward0>)\n"
     ]
    },
    {
     "name": "stderr",
     "output_type": "stream",
     "text": [
      "3657862414.py - 14-Feb-2025 18:47:43 - INFO - <module> - Line 71 - Current running loss: 0.8769\n"
     ]
    },
    {
     "name": "stdout",
     "output_type": "stream",
     "text": [
      "233 0 304 64\n",
      "Unique values of isolated masks are :  tensor([0.0000, 0.0039, 0.0078, 0.0118, 0.0157, 0.0196, 0.0275, 0.9765, 0.9804,\n",
      "        0.9843, 0.9882, 0.9922, 0.9961, 1.0000])\n"
     ]
    },
    {
     "name": "stderr",
     "output_type": "stream",
     "text": [
      "3657862414.py - 14-Feb-2025 18:47:47 - INFO - <module> - Line 71 - Current running loss: 0.8788\n"
     ]
    },
    {
     "name": "stdout",
     "output_type": "stream",
     "text": [
      "Unique values this tensor contain is :  tensor([-21.5095, -21.4257, -21.2537,  ...,  16.9886,  17.2732,  17.3430],\n",
      "       grad_fn=<Unique2Backward0>)\n",
      "43 0 109 63\n",
      "Unique values of isolated masks are :  tensor([0.0000, 0.0039, 0.0078, 0.0118, 0.0157, 0.0196, 0.0235, 0.9725, 0.9765,\n",
      "        0.9804, 0.9843, 0.9882, 0.9922, 0.9961, 1.0000])\n",
      "Unique values this tensor contain is :  tensor([-28.8311, -28.7626, -28.5244,  ...,  18.7200,  19.0901,  19.2425],\n",
      "       grad_fn=<Unique2Backward0>)\n"
     ]
    },
    {
     "name": "stderr",
     "output_type": "stream",
     "text": [
      "3657862414.py - 14-Feb-2025 18:47:52 - INFO - <module> - Line 71 - Current running loss: 0.8792\n"
     ]
    },
    {
     "name": "stdout",
     "output_type": "stream",
     "text": [
      "3 0 23 9\n",
      "Unique values of isolated masks are :  tensor([0.0000, 0.0039, 0.0078, 0.0118, 0.0157, 0.0196, 0.9843, 0.9882, 0.9922,\n",
      "        0.9961, 1.0000])\n"
     ]
    },
    {
     "name": "stderr",
     "output_type": "stream",
     "text": [
      "3657862414.py - 14-Feb-2025 18:47:56 - INFO - <module> - Line 71 - Current running loss: 0.8825\n",
      "3657862414.py - 14-Feb-2025 18:47:56 - INFO - <module> - Line 84 - Epoch 1 completed. Loss: 0.2942\n",
      "3657862414.py - 14-Feb-2025 18:47:56 - INFO - <module> - Line 5 - Epoch 2/10 started\n",
      "3657862414.py - 14-Feb-2025 18:47:56 - INFO - <module> - Line 24 - Bounding Box Coordinates: 53\n"
     ]
    },
    {
     "name": "stdout",
     "output_type": "stream",
     "text": [
      "Unique values this tensor contain is :  tensor([-60.1639, -59.3804, -59.0672,  ...,  17.7655,  18.1989,  18.8560],\n",
      "       grad_fn=<Unique2Backward0>)\n",
      "868 1005 893 1024\n",
      "Unique values of isolated masks are :  tensor([0.0000, 0.0039, 0.0078, 0.0118, 0.0157, 0.0196, 0.9804, 0.9843, 0.9882,\n",
      "        0.9922, 0.9961, 1.0000])\n"
     ]
    },
    {
     "name": "stderr",
     "output_type": "stream",
     "text": [
      "3657862414.py - 14-Feb-2025 18:48:00 - INFO - <module> - Line 71 - Current running loss: 0.0025\n"
     ]
    },
    {
     "name": "stdout",
     "output_type": "stream",
     "text": [
      "Unique values this tensor contain is :  tensor([-64.6648, -63.9034, -61.5382,  ...,  10.0724,  10.1665,  10.3007],\n",
      "       grad_fn=<Unique2Backward0>)\n",
      "820 987 856 1024\n",
      "Unique values of isolated masks are :  tensor([0.0000, 0.0039, 0.0078, 0.0118, 0.0157, 0.0196, 0.0235, 0.9765, 0.9804,\n",
      "        0.9843, 0.9882, 0.9922, 0.9961, 1.0000])\n",
      "Unique values this tensor contain is :  tensor([-41.7801, -41.4818, -41.1564,  ...,  16.8368,  17.7707,  18.2151],\n",
      "       grad_fn=<Unique2Backward0>)\n"
     ]
    },
    {
     "name": "stderr",
     "output_type": "stream",
     "text": [
      "3657862414.py - 14-Feb-2025 18:48:05 - INFO - <module> - Line 71 - Current running loss: 0.0040\n"
     ]
    },
    {
     "name": "stdout",
     "output_type": "stream",
     "text": [
      "139 986 179 1024\n",
      "Unique values of isolated masks are :  tensor([0.0000, 0.0039, 0.0078, 0.0118, 0.0157, 0.0196, 0.0275, 0.9765, 0.9804,\n",
      "        0.9843, 0.9882, 0.9922, 0.9961, 1.0000])\n",
      "Unique values this tensor contain is :  tensor([-47.3868, -46.9412, -45.8859,  ...,  30.0545,  30.7590,  31.2665],\n",
      "       grad_fn=<Unique2Backward0>)\n"
     ]
    },
    {
     "name": "stderr",
     "output_type": "stream",
     "text": [
      "3657862414.py - 14-Feb-2025 18:48:09 - INFO - <module> - Line 71 - Current running loss: 0.0043\n"
     ]
    },
    {
     "name": "stdout",
     "output_type": "stream",
     "text": [
      "544 979 601 1024\n",
      "Unique values of isolated masks are :  tensor([0.0000, 0.0039, 0.0078, 0.0118, 0.0157, 0.0196, 0.0235, 0.9725, 0.9765,\n",
      "        0.9804, 0.9843, 0.9882, 0.9922, 0.9961, 1.0000])\n",
      "Unique values this tensor contain is :  tensor([-39.7449, -39.6287, -38.8962,  ...,  22.0619,  22.1846,  22.8933],\n",
      "       grad_fn=<Unique2Backward0>)\n"
     ]
    },
    {
     "name": "stderr",
     "output_type": "stream",
     "text": [
      "3657862414.py - 14-Feb-2025 18:48:14 - INFO - <module> - Line 71 - Current running loss: 0.0053\n"
     ]
    },
    {
     "name": "stdout",
     "output_type": "stream",
     "text": [
      "974 973 1024 1024\n",
      "Unique values of isolated masks are :  tensor([0.0000, 0.0039, 0.0078, 0.0118, 0.0157, 0.0196, 0.0235, 0.0275, 0.9804,\n",
      "        0.9843, 0.9882, 0.9922, 0.9961, 1.0000])\n",
      "Unique values this tensor contain is :  tensor([-18.6029, -18.5416, -18.4657,  ...,   9.6444,   9.6470,   9.8721],\n",
      "       grad_fn=<Unique2Backward0>)\n"
     ]
    },
    {
     "name": "stderr",
     "output_type": "stream",
     "text": [
      "3657862414.py - 14-Feb-2025 18:48:18 - INFO - <module> - Line 71 - Current running loss: 0.0102\n"
     ]
    },
    {
     "name": "stdout",
     "output_type": "stream",
     "text": [
      "83 969 133 1024\n",
      "Unique values of isolated masks are :  tensor([0.0000, 0.0039, 0.0078, 0.0118, 0.0157, 0.0196, 0.0235, 0.9765, 0.9804,\n",
      "        0.9843, 0.9882, 0.9922, 0.9961, 1.0000])\n"
     ]
    },
    {
     "name": "stderr",
     "output_type": "stream",
     "text": [
      "3657862414.py - 14-Feb-2025 18:48:23 - INFO - <module> - Line 71 - Current running loss: 0.0112\n"
     ]
    },
    {
     "name": "stdout",
     "output_type": "stream",
     "text": [
      "Unique values this tensor contain is :  tensor([-33.0892, -32.9005, -32.7793,  ...,  25.7964,  26.0486,  26.8767],\n",
      "       grad_fn=<Unique2Backward0>)\n",
      "710 956 775 1010\n",
      "Unique values of isolated masks are :  tensor([0.0000, 0.0039, 0.0078, 0.0118, 0.0157, 0.0196, 0.0235, 0.0275, 0.9765,\n",
      "        0.9804, 0.9843, 0.9882, 0.9922, 0.9961, 1.0000])\n",
      "Unique values this tensor contain is :  tensor([-24.2968, -24.2612, -23.7400,  ...,  12.4207,  12.6615,  13.1086],\n",
      "       grad_fn=<Unique2Backward0>)\n"
     ]
    },
    {
     "name": "stderr",
     "output_type": "stream",
     "text": [
      "3657862414.py - 14-Feb-2025 18:48:27 - INFO - <module> - Line 71 - Current running loss: 0.0166\n"
     ]
    },
    {
     "name": "stdout",
     "output_type": "stream",
     "text": [
      "948 955 1001 1024\n",
      "Unique values of isolated masks are :  tensor([0.0000, 0.0039, 0.0078, 0.0118, 0.0157, 0.0196, 0.0235, 0.0275, 0.9765,\n",
      "        0.9804, 0.9843, 0.9882, 0.9922, 0.9961, 1.0000])\n",
      "Unique values this tensor contain is :  tensor([-23.5065, -22.9797, -22.9005,  ...,  13.0818,  13.3098,  13.3370],\n",
      "       grad_fn=<Unique2Backward0>)\n"
     ]
    },
    {
     "name": "stderr",
     "output_type": "stream",
     "text": [
      "3657862414.py - 14-Feb-2025 18:48:32 - INFO - <module> - Line 71 - Current running loss: 0.0232\n"
     ]
    },
    {
     "name": "stdout",
     "output_type": "stream",
     "text": [
      "199 948 288 1024\n",
      "Unique values of isolated masks are :  tensor([0.0000, 0.0039, 0.0078, 0.0118, 0.0157, 0.0196, 0.0235, 0.0275, 0.9725,\n",
      "        0.9765, 0.9804, 0.9843, 0.9882, 0.9922, 0.9961, 1.0000])\n",
      "Unique values this tensor contain is :  tensor([-13.5888, -13.5639, -13.5224,  ...,   9.6644,   9.7142,   9.8644],\n",
      "       grad_fn=<Unique2Backward0>)\n"
     ]
    },
    {
     "name": "stderr",
     "output_type": "stream",
     "text": [
      "3657862414.py - 14-Feb-2025 18:48:36 - INFO - <module> - Line 71 - Current running loss: 0.0263\n"
     ]
    },
    {
     "name": "stdout",
     "output_type": "stream",
     "text": [
      "925 939 974 1006\n",
      "Unique values of isolated masks are :  tensor([0.0000, 0.0039, 0.0078, 0.0118, 0.0157, 0.0196, 0.0235, 0.9765, 0.9804,\n",
      "        0.9843, 0.9882, 0.9922, 0.9961, 1.0000])\n",
      "Unique values this tensor contain is :  tensor([-30.3922, -30.0831, -29.8243,  ...,  20.7230,  20.7475,  21.3332],\n",
      "       grad_fn=<Unique2Backward0>)\n"
     ]
    },
    {
     "name": "stderr",
     "output_type": "stream",
     "text": [
      "3657862414.py - 14-Feb-2025 18:48:41 - INFO - <module> - Line 71 - Current running loss: 0.0326\n"
     ]
    },
    {
     "name": "stdout",
     "output_type": "stream",
     "text": [
      "384 938 531 1024\n",
      "Unique values of isolated masks are :  tensor([0.0000, 0.0039, 0.0078, 0.0118, 0.0157, 0.0196, 0.0235, 0.0275, 0.9765,\n",
      "        0.9804, 0.9843, 0.9882, 0.9922, 0.9961, 1.0000])\n"
     ]
    },
    {
     "name": "stderr",
     "output_type": "stream",
     "text": [
      "3657862414.py - 14-Feb-2025 18:48:45 - INFO - <module> - Line 71 - Current running loss: 0.0361\n"
     ]
    },
    {
     "name": "stdout",
     "output_type": "stream",
     "text": [
      "Unique values this tensor contain is :  tensor([-11.6696, -11.6463, -11.6433,  ...,   7.6159,   7.6259,   7.6683],\n",
      "       grad_fn=<Unique2Backward0>)\n",
      "901 934 940 987\n",
      "Unique values of isolated masks are :  tensor([0.0000, 0.0039, 0.0078, 0.0118, 0.0157, 0.0196, 0.0235, 0.9765, 0.9804,\n",
      "        0.9843, 0.9882, 0.9922, 0.9961, 1.0000])\n"
     ]
    },
    {
     "name": "stderr",
     "output_type": "stream",
     "text": [
      "3657862414.py - 14-Feb-2025 18:48:50 - INFO - <module> - Line 71 - Current running loss: 0.0400\n"
     ]
    },
    {
     "name": "stdout",
     "output_type": "stream",
     "text": [
      "Unique values this tensor contain is :  tensor([-38.3332, -37.6091, -37.5996,  ...,  12.9878,  13.4243,  13.5779],\n",
      "       grad_fn=<Unique2Backward0>)\n",
      "732 927 808 985\n",
      "Unique values of isolated masks are :  tensor([0.0000, 0.0039, 0.0078, 0.0118, 0.0157, 0.0196, 0.0235, 0.0275, 0.9765,\n",
      "        0.9804, 0.9843, 0.9882, 0.9922, 0.9961, 1.0000])\n"
     ]
    },
    {
     "name": "stderr",
     "output_type": "stream",
     "text": [
      "3657862414.py - 14-Feb-2025 18:48:54 - INFO - <module> - Line 71 - Current running loss: 0.0450\n"
     ]
    },
    {
     "name": "stdout",
     "output_type": "stream",
     "text": [
      "Unique values this tensor contain is :  tensor([-21.3475, -20.8531, -20.3588,  ...,   9.7397,   9.8474,   9.9074],\n",
      "       grad_fn=<Unique2Backward0>)\n",
      "755 895 821 945\n",
      "Unique values of isolated masks are :  tensor([0.0000, 0.0039, 0.0078, 0.0118, 0.0157, 0.0196, 0.0235, 0.9765, 0.9804,\n",
      "        0.9843, 0.9882, 0.9922, 0.9961, 1.0000])\n",
      "Unique values this tensor contain is :  tensor([-29.3098, -28.7686, -27.8497,  ...,  15.6151,  15.8589,  15.9499],\n",
      "       grad_fn=<Unique2Backward0>)\n"
     ]
    },
    {
     "name": "stderr",
     "output_type": "stream",
     "text": [
      "3657862414.py - 14-Feb-2025 18:48:59 - INFO - <module> - Line 71 - Current running loss: 0.0486\n"
     ]
    },
    {
     "name": "stdout",
     "output_type": "stream",
     "text": [
      "0 882 125 1024\n",
      "Unique values of isolated masks are :  tensor([0.0000, 0.0039, 0.0078, 0.0118, 0.0157, 0.0196, 0.0235, 0.0275, 0.9765,\n",
      "        0.9804, 0.9843, 0.9882, 0.9922, 0.9961, 1.0000])\n"
     ]
    }
   ],
   "source": [
    "sam_logger.info(\"Training Started\")\n",
    "\n",
    "for epoch in range(num_epochs):\n",
    "    # Train the model\n",
    "    sam_logger.info(f\"Epoch {epoch+1}/{num_epochs} started\")\n",
    "\n",
    "    running_loss = 0\n",
    "\n",
    "    for img, mask in data_loader:\n",
    "        image_ = img.to(device)\n",
    "        mask_ = mask.to(device)\n",
    "        # sam_sam_logger.debug(f\"images size : {image_.shape}, masks size : {mask_.shape}\")\n",
    "\n",
    "        for i, (image, mask) in enumerate(zip(image_, mask_)):\n",
    "            \n",
    "            # print(image.shape, mask.shape)\n",
    "\n",
    "            ## getting the bounding box coordinates from masks \n",
    "            # print(mask.numpy())\n",
    "            ## here we have to pass numpy array\n",
    "            # print(mask.numpy().astype(np.uint8))\n",
    "            \n",
    "            bounding_box_corr = bounding_box(mask.numpy().astype(np.uint8))\n",
    "            sam_logger.info(f\"Bounding Box Coordinates: {len(bounding_box_corr)}\")\n",
    "\n",
    "            # print(bounding_box_corr)\n",
    "\n",
    "\n",
    "            for coordinates in bounding_box_corr:\n",
    "                # print(f\"points are : {coordinates}\")\n",
    "                one_isolated_mask = generate_isolated_mask(mask, coordinates)\n",
    "                one_isolated_mask = one_isolated_mask.unsqueeze(0)\n",
    "                one_isolated_mask = one_isolated_mask/255.0\n",
    "                print(f\"Unique values of isolated masks are : \",torch.unique(one_isolated_mask))\n",
    "                # print(\"isolated mask shape : \",one_isolated_mask.shape)\n",
    "                \n",
    "                # plt.imshow(one_isolated_mask.squeeze(0).numpy(), cmap=\"gray\")\n",
    "                # plt.show()\n",
    "                \n",
    "                \n",
    "                sparse_embeddings, dense_embeddings = model.prompt_encoder(\n",
    "                    points = None,\n",
    "                    boxes = torch.tensor([coordinates]).unsqueeze(0).to(device),masks = None)\n",
    "                \n",
    "                low_res_mask, _ = model.mask_decoder(\n",
    "                    image_embeddings = model.image_encoder(image.unsqueeze(0)),\n",
    "                    image_pe = model.prompt_encoder.get_dense_pe(),\n",
    "                    sparse_prompt_embeddings = sparse_embeddings,\n",
    "                    dense_prompt_embeddings = dense_embeddings,\n",
    "                    multimask_output = False\n",
    "                )\n",
    "\n",
    "                upsampled_masks = F.interpolate(low_res_mask, size = (1024, 1024), mode=\"bilinear\", align_corners=False)\n",
    "\n",
    "                ## calculate the loss\n",
    "                # print(\"Upsampled mask shape : \",upsampled_masks.shape)\n",
    "                print(\"Unique values this tensor contain is : \", torch.unique(upsampled_masks))\n",
    "                \n",
    "                # print(upsampled_masks)\n",
    "                loss = seg_loss(upsampled_masks, one_isolated_mask.unsqueeze(0).float())\n",
    "                \n",
    "                # backward pass (compute gradients of parameters w.r.t. loss)\n",
    "                optimizer.zero_grad()\n",
    "\n",
    "                loss.backward()\n",
    "                \n",
    "                # Optimize\n",
    "                optimizer.step()\n",
    "                running_loss += loss.item() / len(bounding_box_corr)\n",
    "                # print(f\"runing loss: {running_loss}\")\n",
    "                sam_logger.info(f\"Current running loss: {running_loss:.4f}\")\n",
    "\n",
    "\n",
    "\n",
    "                # to see the output and actual masks\n",
    "                # copy_up_sampled = upsampled_masks.clone()\n",
    "\n",
    "                # plt.imshow(copy_up_sampled.squeeze(0).squeeze(0).detach().numpy(),cmap=\"gray\")\n",
    "                # plt.tight_layout()\n",
    "                # plt.show()\n",
    "\n",
    "    \n",
    "    # print(f\"epoch {epoch}, loss: {running_loss / len(data_loader)}\")\n",
    "    sam_logger.info(f\"Epoch {epoch+1} completed. Loss: {running_loss / len(data_loader):.4f}\")\n",
    "    \n",
    "    \n",
    "    \n",
    "    ## save the model checkpoint every 10 epoch\n",
    "    \n",
    "    if (epoch + 1) % 10 == 0:\n",
    "        current_date = datetime.datetime.now().strftime(\"%d_%m_%Y\")\n",
    "        checkpoint_path = os.path.join(checkpoint, f\"sam_model_{epoch + 1}_{current_date}.pth\")\n",
    "        torch.save(model.state_dict(), checkpoint_path)\n",
    "        sam_logger.info(f\"Model checkpoint saved at {checkpoint_path}\")\n",
    "        "
   ]
  },
  {
   "cell_type": "code",
   "execution_count": 40,
   "metadata": {},
   "outputs": [],
   "source": [
    "final_model_checkpoint = \"checkpoints/Final_Models\"\n",
    "os.makedirs(checkpoint, exist_ok=True)"
   ]
  },
  {
   "cell_type": "code",
   "execution_count": null,
   "metadata": {},
   "outputs": [],
   "source": [
    "current_date = datetime.datetime.now().strftime(\"%d_%m_%Y\")\n",
    "final_model_path = os.path.join(final_model_checkpoint, current_date)"
   ]
  },
  {
   "cell_type": "code",
   "execution_count": null,
   "metadata": {},
   "outputs": [],
   "source": [
    "torch.save(model.state_dict(), final_model_path)\n",
    "sam_logger.info(f\"Final Fine-Tuned Model saved at {final_model_path}\")"
   ]
  },
  {
   "cell_type": "code",
   "execution_count": null,
   "metadata": {},
   "outputs": [],
   "source": []
  },
  {
   "cell_type": "code",
   "execution_count": null,
   "metadata": {},
   "outputs": [],
   "source": []
  },
  {
   "cell_type": "code",
   "execution_count": null,
   "metadata": {},
   "outputs": [],
   "source": []
  },
  {
   "cell_type": "code",
   "execution_count": null,
   "metadata": {},
   "outputs": [],
   "source": []
  },
  {
   "cell_type": "code",
   "execution_count": null,
   "metadata": {},
   "outputs": [],
   "source": []
  },
  {
   "cell_type": "code",
   "execution_count": null,
   "metadata": {},
   "outputs": [],
   "source": []
  }
 ],
 "metadata": {
  "kernelspec": {
   "display_name": "Python 3",
   "language": "python",
   "name": "python3"
  },
  "language_info": {
   "codemirror_mode": {
    "name": "ipython",
    "version": 3
   },
   "file_extension": ".py",
   "mimetype": "text/x-python",
   "name": "python",
   "nbconvert_exporter": "python",
   "pygments_lexer": "ipython3",
   "version": "3.10.13"
  }
 },
 "nbformat": 4,
 "nbformat_minor": 2
}
